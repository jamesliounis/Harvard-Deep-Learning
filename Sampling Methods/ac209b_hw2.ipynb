{
 "cells": [
  {
   "cell_type": "code",
   "execution_count": 1,
   "metadata": {
    "deletable": false,
    "editable": false
   },
   "outputs": [],
   "source": [
    "# Initialize Otter\n",
    "import otter\n",
    "grader = otter.Notebook(\"ac209b_hw2.ipynb\")"
   ]
  },
  {
   "cell_type": "markdown",
   "metadata": {
    "cell_id": "c614e247-bfe6-410e-aa53-6ef28077efca",
    "deepnote_cell_type": "markdown",
    "tags": []
   },
   "source": [
    "# <img style=\"float: left; padding-right: 10px; width: 45px\" src=\"https://raw.githubusercontent.com/Harvard-IACS/2018-CS109A/master/content/styles/iacs.png\"> Data Science 2: Advanced Topics in Data Science \n",
    "\n",
    "## Homework 2 (209): Sampling Methods\n",
    "\n",
    "\n",
    "\n",
    "**Harvard University**<br/>\n",
    "**Spring 2023**<br/>\n",
    "**Instructors**: Mark Glickman & Pavlos Protopapas\n",
    "\n",
    "\n",
    "<hr style=\"height:2pt\">"
   ]
  },
  {
   "cell_type": "code",
   "execution_count": 2,
   "metadata": {
    "cell_id": "00003-92d40d56-64ec-43cd-9eb7-dc6d7c74cc56",
    "deepnote_cell_type": "code",
    "deepnote_to_be_reexecuted": false,
    "execution_millis": 107,
    "execution_start": 1646007995372,
    "source_hash": "582c49fa"
   },
   "outputs": [
    {
     "data": {
      "text/html": [
       "<style>\n",
       "blockquote { background: #AEDE94; }\n",
       "h1 { \n",
       "    padding-top: 25px;\n",
       "    padding-bottom: 25px;\n",
       "    text-align: left; \n",
       "    padding-left: 10px;\n",
       "    background-color: #DDDDDD; \n",
       "    color: black;\n",
       "}\n",
       "h2 { \n",
       "    padding-top: 10px;\n",
       "    padding-bottom: 10px;\n",
       "    text-align: left; \n",
       "    padding-left: 5px;\n",
       "    background-color: #EEEEEE; \n",
       "    color: black;\n",
       "}\n",
       "\n",
       "div.exercise {\n",
       "\tbackground-color: #ffcccc;\n",
       "\tborder-color: #E9967A; \t\n",
       "\tborder-left: 5px solid #800080; \n",
       "\tpadding: 0.5em;\n",
       "}\n",
       "\n",
       "div.exercise-r {\n",
       "\tbackground-color: #fce8e8;\n",
       "\tborder-color: #E9967A; \t\n",
       "\tborder-left: 5px solid #800080; \n",
       "\tpadding: 0.5em;\n",
       "}\n",
       "\n",
       "\n",
       "span.sub-q {\n",
       "\tfont-weight: bold;\n",
       "}\n",
       "div.theme {\n",
       "\tbackground-color: #DDDDDD;\n",
       "\tborder-color: #E9967A; \t\n",
       "\tborder-left: 5px solid #800080; \n",
       "\tpadding: 0.5em;\n",
       "\tfont-size: 18pt;\n",
       "}\n",
       "div.gc { \n",
       "\tbackground-color: #AEDE94;\n",
       "\tborder-color: #E9967A; \t \n",
       "\tborder-left: 5px solid #800080; \n",
       "\tpadding: 0.5em;\n",
       "\tfont-size: 12pt;\n",
       "}\n",
       "p.q1 { \n",
       "    padding-top: 5px;\n",
       "    padding-bottom: 5px;\n",
       "    text-align: left; \n",
       "    padding-left: 5px;\n",
       "    background-color: #EEEEEE; \n",
       "    color: black;\n",
       "}\n",
       "header {\n",
       "   padding-top: 35px;\n",
       "    padding-bottom: 35px;\n",
       "    text-align: left; \n",
       "    padding-left: 10px;\n",
       "    background-color: #DDDDDD; \n",
       "    color: black;\n",
       "}\n",
       "</style>\n",
       "\n"
      ],
      "text/plain": [
       "<IPython.core.display.HTML object>"
      ]
     },
     "execution_count": 2,
     "metadata": {},
     "output_type": "execute_result"
    }
   ],
   "source": [
    "# RUN THIS CELL \n",
    "import requests\n",
    "from IPython.core.display import HTML\n",
    "styles = requests.get(\n",
    "    \"https://raw.githubusercontent.com/Harvard-IACS/2018-CS109A/master/\"\n",
    "    \"content/styles/cs109.css\"\n",
    ").text\n",
    "HTML(styles)"
   ]
  },
  {
   "cell_type": "markdown",
   "metadata": {},
   "source": [
    "<hr>\n",
    "\n",
    "#### Instructions\n",
    "- To submit your assignment follow the instructions given in Canvas.\n",
    "- Plots should be legible and interpretable without having to refer to the code that generated them, including labels for the $x$- and $y$-axes as well as a descriptive title and/or legend when appropriate.\n",
    "- When asked to interpret a visualization, do not simply describe it (e.g., \"the curve has a steep slope up\"), but instead explain what you think the plot *means*.\n",
    "- Autograding tests are mostly to help you debug. The tests are not exhaustive so passing a test is necessary but not sufficient for full credit. \n",
    "- The use of *extremely* inefficient or error-prone code (e.g., copy-pasting nearly identical commands rather than looping) may result in only partial credit.\n",
    "- We have tried to include all the libraries you may need to do the assignment in the imports cell provided below. Please get course staff approval before importing any additional 3rd party libraries.\n",
    "- Enable scrolling output on cells with very long output.\n",
    "- Feel free to add additional code or markdown cells as needed.\n",
    "- Ensure your code runs top to bottom without error and passes all tests by restarting the kernel and running all cells (note that this can take a few minutes). \n",
    "- **You should do a \"Restart Kernel and Run All Cells\" before submitting to ensure (1) your notebook actually runs and (2) all output is visible**\n",
    "\n",
    "<hr>"
   ]
  },
  {
   "cell_type": "code",
   "execution_count": 3,
   "metadata": {
    "cell_id": "00005-8ca7a4a4-a390-4f13-b25c-f5239a9c9672",
    "deepnote_cell_type": "code",
    "deepnote_to_be_reexecuted": false,
    "execution_millis": 4985,
    "execution_start": 1646007995478,
    "source_hash": "fe7500ba"
   },
   "outputs": [],
   "source": [
    "import time\n",
    "import matplotlib.pyplot as plt\n",
    "import numpy as np\n",
    "import pandas as pd"
   ]
  },
  {
   "cell_type": "code",
   "execution_count": 4,
   "metadata": {},
   "outputs": [],
   "source": [
    "# measure notebook runtime\n",
    "time_start = time.time()"
   ]
  },
  {
   "cell_type": "markdown",
   "metadata": {
    "cell_id": "00007-54423271-a2de-4320-abcc-05d0eaaa1881",
    "deepnote_cell_type": "markdown"
   },
   "source": [
    "<a id=\"contents\"></a>\n",
    "\n",
    "## Notebook Contents\n",
    "\n",
    "- **Dataset Information**\n",
    "- **Overview**\n",
    "- **Q1 - Likelihood & MLE**\n",
    "- **Q2 - Rejection Sampling**\n",
    "- **Q3 - Weighted Bootstrap**\n",
    "- **Q4 - Wrap-up**"
   ]
  },
  {
   "cell_type": "markdown",
   "metadata": {
    "cell_id": "00008-143a5876-536a-4029-a770-d95f9545932e",
    "deepnote_cell_type": "markdown"
   },
   "source": [
    "## Dataset Information\n",
    "*(Identical dataset to CS109B HW2)*"
   ]
  },
  {
   "cell_type": "markdown",
   "metadata": {
    "cell_id": "00009-6ed48207-9bee-46bf-bcff-c7188d53fec0",
    "deepnote_cell_type": "markdown"
   },
   "source": [
    "### Contraceptive Usage by Bangladeshi Women\n",
    "\n",
    "For this assignment, you are provided with datasets `train.csv` and `test.csv` which contain details of contraceptive usage among 1,934 Bangladeshi women.\n",
    "\n",
    "There are four attributes for each woman along with a response variable, `contraceptive_use`, indicating if she uses contraceptives. The four attributes include:\n",
    "\n",
    "* `district`: code identifying the district in which the woman lives (60 districts in total)\n",
    "* `urban`: type of region of residence (binary)\n",
    "* `living.children`: number of living children\n",
    "* `age-mean`: age of the woman (in years, centered around mean)"
   ]
  },
  {
   "cell_type": "markdown",
   "metadata": {
    "cell_id": "00011-769377c1-8ffe-4102-82a8-b24bb9d15e52",
    "deepnote_cell_type": "markdown"
   },
   "source": [
    "<a id=\"part1intro\"></a>\n",
    "\n",
    "## Overview \n",
    "\n",
    "[Return to contents](#contents)\n",
    "\n",
    "In this notebook, we will only work with the response variable, `contraceptive_use`, and ignore all the attributes.\n",
    "\n",
    "Let $y_i$ be 1 if woman $i$ uses contraceptives, and 0 otherwise, where $i=1,\\ldots,N$, with $N$ being the number of observations in the training data set.\n",
    "\n",
    "Assume a Bernoulli model for the data:\n",
    "\n",
    "$$Y \\sim \\text{Bernoulli}(\\theta)$$\n",
    "\n",
    "The parameter $\\theta$ is the unknown probability a woman uses contraception.\\\n",
    "We will assume the following prior distribution on $\\theta$:\n",
    "\n",
    "$$\\theta \\sim \\text{Normal}(0.5, 0.5^2)$$\n",
    "\n",
    "subject to $0 \\leq \\theta \\leq 1$.  This is sometimes called a truncated normal distribution.  A value from this distribution can be randomly drawn by simulating a value from $\\text{Normal}(0.5, 0.5^2)$ and then keeping it if the value is between 0 and 1, and trying again if it is outside this range.  This is in fact itself a form of rejection sampling.  The density for the truncated normal distribution is\n",
    "\n",
    "$$p(\\theta) = c\\times \\exp\\left(\\frac{-1}{2(0.5)^2}(\\theta-0.5)^2\\right) \\; \\text{for} \\; 0\\leq \\theta \\leq 1 \\; \\text{, and} \\; 0 \\; \\text{otherwise,}$$\n",
    "\n",
    "where $c$ is a normalizing constant that does not depend on $\\theta$."
   ]
  },
  {
   "cell_type": "markdown",
   "metadata": {},
   "source": [
    "<!-- BEGIN QUESTION -->\n",
    "\n",
    "<div class='exercise'><b>Q1 - Likelihood & MLE</b></div>"
   ]
  },
  {
   "cell_type": "markdown",
   "metadata": {
    "cell_id": "00012-3905c094-8235-419a-ab09-b8b752cd01d6",
    "deepnote_cell_type": "markdown",
    "tags": []
   },
   "source": [
    "Given our probability model, write down the likelihood function for the training data, $L(\\theta | y_1,\\ldots,y_n)$.\n",
    "\n",
    "Next, derive the MLE of $\\theta$ as a function of $y_1,\\ldots,y_n$. Give an interpretation of this MLE result in a few words.\n",
    "\n",
    "Finally, compute and report the MLE from the training data, saving it as `theta_mle`.\n",
    "\n",
    "**Note:** The first two steps should be done in $\\LaTeX$ and markdown and cover the general case. That is, they should be applicable to any dataset $y_1, \\dots,y_n$. The third step should be done entirely in Python and is specific to the provided training data."
   ]
  },
  {
   "cell_type": "markdown",
   "metadata": {},
   "source": [
    "Given the probability model, the likelihood function is:\n",
    "\n",
    "$$L(\\theta | y_1,\\ldots,y_n) = p(y_1,\\ldots,y_n|\\theta) = \\prod_{i=1}^{n}\\theta^{y_i}(1-\\theta)^{1-y_i}$$\n",
    "Deriving the MLE analytically is equivalent to taking the log of the likelihood, s.t.:\n",
    "\n",
    "$$ l(\\theta | y_1,\\ldots,y_n) = log(\\theta)\\sum_{i=1}^{n}(y_i) + log(1-\\theta)\\sum_{i=1}^{n}(1-y_i)$$\n",
    "\n",
    "Finding MLE is equivalent to finding $\\theta$ such that: $$\\frac{\\partial l(\\theta | y_1,\\ldots,y_n)}{\\partial \\theta}=0$$\n",
    "\n",
    "$$\\Longleftrightarrow \\frac{\\sum_{i=1}^{n}(y_i)}{\\theta} - \\frac{\\sum_{i=1}^{n}(1-y_i)}{1-\\theta} = 0$$\n",
    "$$\\Longleftrightarrow \\frac{\\sum_{i=1}^{n}(y_i)}{\\theta} - \\sum_{i=1}^{n}y_i=\\sum_{i=1}^{n}(1-y_i) $$\n",
    "$$\\Longleftrightarrow \\frac{\\sum_{i=1}^{n}(y_i)}{\\theta} = n $$\n",
    "Therefore: $$\\Longleftrightarrow \\theta^* = \\frac{\\sum_{i=1}^{n}y_i}{n} $$\n",
    "We also have from above that $$ \\frac{\\partial^2l(\\theta | y_1,\\ldots,y_n)}{\\partial \\theta^2} = -\\frac{\\sum_{i=1}^{n}y_i}{\\theta^2} - \\frac{\\sum_{i=1}^{n}(1-y_i)}{(1-\\theta)^2}$$ \n",
    "\n",
    "This last expression is evidently negative. This confirms that $\\theta^*$  is indeed a maximum, and the MLE.\n",
    "\n",
    "The interpretation of the `theta_mle` variable (which is ~0.39) is that it represents the estimated probability of contraceptive use among the individuals in the dataset based on the observed data. This estimate can be used to make predictions or to fit a model to the data that can be used to make predictions for new data points."
   ]
  },
  {
   "cell_type": "code",
   "execution_count": 5,
   "metadata": {
    "cell_id": "00016-2c370247-07fc-4451-830f-6a22c3845108",
    "deepnote_cell_type": "code",
    "deepnote_to_be_reexecuted": false,
    "execution_millis": 14,
    "execution_start": 1646008000479,
    "source_hash": "961b786",
    "tags": []
   },
   "outputs": [
    {
     "name": "stdout",
     "output_type": "stream",
     "text": [
      "The MLE from the data is: 0.38986556359875907\n"
     ]
    }
   ],
   "source": [
    "# your code here\n",
    "\n",
    "df_train = pd.read_csv(\"data/train.csv\")\n",
    "theta_mle = df_train[\"contraceptive_use\"].mean()\n",
    "print(\"The MLE from the data is: {}\".format(theta_mle))"
   ]
  },
  {
   "cell_type": "code",
   "execution_count": 6,
   "metadata": {
    "deletable": false,
    "editable": false
   },
   "outputs": [
    {
     "data": {
      "text/html": [
       "<p><strong><pre style='display: inline;'>q1</pre></strong> passed! 💯</p>"
      ],
      "text/plain": [
       "q1 results: All test cases passed!"
      ]
     },
     "execution_count": 6,
     "metadata": {},
     "output_type": "execute_result"
    }
   ],
   "source": [
    "grader.check(\"q1\")"
   ]
  },
  {
   "cell_type": "markdown",
   "metadata": {},
   "source": [
    "<!-- BEGIN QUESTION -->\n",
    "\n",
    "<div class='exercise'><b>Q2 - Rejection Sampling</b></div>"
   ]
  },
  {
   "cell_type": "markdown",
   "metadata": {
    "cell_id": "00012-3905c094-8235-419a-ab09-b8b752cd01d6",
    "deepnote_cell_type": "markdown",
    "jp-MarkdownHeadingCollapsed": true,
    "tags": []
   },
   "source": [
    "Using rejection sampling, simulate a sample of 10,000 accepted $\\theta$ values from the posterior distribution and store them in `r_samples`.\n",
    "\n",
    "Plot a histogram of these 10,000 values and display numerical summaries of their distribution in the form of a mean and 95% credible interval. Store the mean in `r_samples_mean`.\n",
    "\n",
    "Calculate and report the rejection rate, storing it in `rejection_rate`.\n",
    "\n",
    "Finally, interpret your findings.\n",
    "\n",
    "**Note:** \n",
    "* make sure $\\theta$ only takes on values which are valid for the parameter it represents and that all samples that do not pass the sampling criterion are rejected. Consult the lecture notes on rejection sampling if you need to review this criterion.\n",
    "* Make use of the `%%time` magic command at the top of the cell where you do your sampling, both here for rejection sampling, and in Q3 for weighted bootstrap. This will allow you to compare the run time of each method. "
   ]
  },
  {
   "cell_type": "markdown",
   "metadata": {},
   "source": [
    "**Answer to Q2**\n",
    "\n",
    "By using the Bayesian rejection sampling method, we can obtain estimates for the posterior distribution of the probability of a woman using contraception, denoted as $\\theta$. \n",
    "\n",
    "In this analysis, we assume a Bernoulli model and use a normal distribution with a mean of $0.5$ and a variance of $0.5$ squared as the prior distribution for $\\theta$. \n",
    "\n",
    "Based on this approach, we estimate the mean of $\\theta$ to be around $0.39$, and we have a $95%$ confidence interval of approximately $[0.38, 0.40]$. This means that, on average, the probability of a woman using contraception is approximately $0.39$, and we are \"95% confident\" that the true value lies within the range of approximately $0.38$ to $0.40$."
   ]
  },
  {
   "cell_type": "code",
   "execution_count": 7,
   "metadata": {
    "cell_id": "00019-0aca7605-9d40-4cb5-bc67-88eb9708e863",
    "deepnote_cell_type": "code",
    "deepnote_to_be_reexecuted": false,
    "execution_millis": 40,
    "execution_start": 1646008000504,
    "source_hash": "531445d",
    "tags": []
   },
   "outputs": [
    {
     "name": "stdout",
     "output_type": "stream",
     "text": [
      "The rejection rate is: 0.00%\n",
      "The sample mean is: 39.03%\n",
      "CPU times: user 1min 16s, sys: 541 ms, total: 1min 16s\n",
      "Wall time: 1min 13s\n"
     ]
    }
   ],
   "source": [
    "%%time\n",
    "# your code here\n",
    "\n",
    "k = 0  # initialize counter for number of accepted samples\n",
    "r_samples = []  # initialize list to store accepted samples\n",
    "\n",
    "# calculate likelihood for our MLE\n",
    "l_optimal = np.product([(theta_mle)**x * (1-theta_mle)**(1-x) for x in df_train[\"contraceptive_use\"]])\n",
    "\n",
    "# loop until we have generated 10000 samples\n",
    "while k < 10000:\n",
    "    # generate a sample from normal distribution with mean=0.5, std=0.5\n",
    "    theta = np.random.normal(0.5, 0.5)\n",
    "    # reject the sample if it is outside the range [0, 1]\n",
    "    while theta < 0 or theta > 1:\n",
    "        theta = np.random.normal(0.5, 0.5)\n",
    "    \n",
    "    # generate a uniform random number between 0 and 1\n",
    "    U = np.random.uniform(0, 1)\n",
    "    # reject the sample if U is equal to 0 or 1\n",
    "    while U == 0 or U == 1:\n",
    "        U = np.random.uniform(0, 1)\n",
    "    \n",
    "    # calculate likelihood for the generated sample\n",
    "    l = np.product([(theta)**x * (1-theta)**(1-x) for x in df_train[\"contraceptive_use\"]])\n",
    "    \n",
    "    # accept the sample with probability l/l_optimal\n",
    "    if U <= (l / l_optimal):\n",
    "        k += 1  # increment counter for accepted samples\n",
    "        r_samples.append(theta)  # add the accepted sample to our list of accepted samples\n",
    "\n",
    "# calculate the rejection rate and print it\n",
    "rejection_rate = 1 - (k / 10000)\n",
    "print(\"The rejection rate is: {:.2f}%\".format(rejection_rate * 100))\n",
    "\n",
    "# Calculate the mean of the received samples and print it:\n",
    "r_samples_mean = np.mean(r_samples)\n",
    "print(\"The sample mean is: {:.2f}%\".format(r_samples_mean * 100))"
   ]
  },
  {
   "cell_type": "code",
   "execution_count": 8,
   "metadata": {
    "cell_id": "00020-250cf23f-8904-4cb5-a5b7-9e7c3628035a",
    "deepnote_cell_type": "code",
    "deepnote_to_be_reexecuted": false,
    "execution_millis": 40592,
    "execution_start": 1646008000545,
    "source_hash": "1330e44d",
    "tags": []
   },
   "outputs": [
    {
     "data": {
      "image/png": "[encoded data removed]",
      "text/plain": [
       "<Figure size 1000x800 with 1 Axes>"
      ]
     },
     "metadata": {},
     "output_type": "display_data"
    }
   ],
   "source": [
    "# calculate 2.5th and 97.5th percentiles for the confidence interval\n",
    "lower_ci = np.percentile(r_samples, 2.5)\n",
    "upper_ci = np.percentile(r_samples, 97.5)\n",
    "\n",
    "# plot histogram with vertical lines for mean and confidence interval\n",
    "plt.figure(figsize=(10, 8))\n",
    "plt.hist(r_samples)\n",
    "plt.axvline(r_samples_mean, color='red', label='mean')\n",
    "plt.axvline(lower_ci, color='green', linestyle='--', label='95% CI')\n",
    "plt.axvline(upper_ci, color='green', linestyle='--')\n",
    "plt.xlabel(r'$\\theta$')\n",
    "plt.ylabel(\"Count\")\n",
    "plt.title(\"Histogram of generated and accepted theta values using rejection sampling\")\n",
    "plt.legend()\n",
    "plt.show()\n"
   ]
  },
  {
   "cell_type": "code",
   "execution_count": 9,
   "metadata": {
    "cell_id": "00021-f98565fc-d14b-4e89-9648-4fc6172e95fb",
    "deepnote_cell_type": "code",
    "deepnote_to_be_reexecuted": false,
    "execution_millis": 3,
    "execution_start": 1646008041148,
    "source_hash": "785bc738",
    "tags": []
   },
   "outputs": [
    {
     "name": "stdout",
     "output_type": "stream",
     "text": [
      "The mean of our generated thetas is: 0.39030341543718194\n",
      "The 95% confidence intervale for our generated thetas is: [0.3598963240575789,0.4213453862581181]\n"
     ]
    }
   ],
   "source": [
    "# your code here\n",
    "print(\"The mean of our generated thetas is: {}\".format(r_samples_mean))\n",
    "print(\"The 95% confidence intervale for our generated thetas is: [{},{}]\".format(lower_ci, upper_ci))"
   ]
  },
  {
   "cell_type": "code",
   "execution_count": 10,
   "metadata": {
    "deletable": false,
    "editable": false
   },
   "outputs": [
    {
     "data": {
      "text/html": [
       "<p><strong><pre style='display: inline;'>q2</pre></strong> passed! 🌟</p>"
      ],
      "text/plain": [
       "q2 results: All test cases passed!"
      ]
     },
     "execution_count": 10,
     "metadata": {},
     "output_type": "execute_result"
    }
   ],
   "source": [
    "grader.check(\"q2\")"
   ]
  },
  {
   "cell_type": "markdown",
   "metadata": {},
   "source": [
    "<!-- BEGIN QUESTION -->\n",
    "\n",
    "<div class='exercise'><b>Q3 - Weighted Bootstrap</b></div>"
   ]
  },
  {
   "cell_type": "markdown",
   "metadata": {
    "cell_id": "00012-3905c094-8235-419a-ab09-b8b752cd01d6",
    "deepnote_cell_type": "markdown",
    "jp-MarkdownHeadingCollapsed": true,
    "tags": []
   },
   "source": [
    "Carry out the weighted bootstrap to simulate 10,000 values of $\\theta$ from the posterior distribution. To this end, simulate 100,000 values from the prior distribution and resample them with the appropriate importance weights. Store your 10,000 samples from the posterior as `wb_samples`.\n",
    "\n",
    "As above, plot a histogram of these values, and provide numerical summaries of the distribution of 10,000 values in the form of a mean and 95% credible interval. Save the mean as `wb_samples_mean`.\n",
    "\n",
    "Interpret the results, and compare to the results of rejection sampling."
   ]
  },
  {
   "cell_type": "markdown",
   "metadata": {},
   "source": [
    "**Answer to Q3**\n",
    "\n",
    "The Bayesian weighted bootstrap approach provides estimates for the posterior distribution of $\\theta$, which is the probability of a woman using contraception assuming a Bernoulli model with $\\theta \\sim \\text{Normal}(0.5, 0.5^2)$ as our prior distribution. \n",
    "\n",
    "Our analysis estimates the average probability of a woman using contraception to be approximately $0.39$, with a $95%$ confidence interval of approximately $[0.38, 0.40]$. \n",
    "\n",
    "The mean and confidence interval are the same as those obtained using the rejection sampling method, when rounded to two decimal places. \n",
    "\n",
    "However, the confidence interval is wider in the Bayesian weighted bootstrap approach, which is more evident when looking at more decimal places and the histogram. This is because the values are less concentrated around the mean with a higher standard deviation in the Bayesian weighted bootstrap method compared to the rejection sampling method."
   ]
  },
  {
   "cell_type": "code",
   "execution_count": 11,
   "metadata": {
    "cell_id": "00026-ec725b3a-5c8b-4023-9abb-4651a9b4c2fc",
    "deepnote_cell_type": "code",
    "deepnote_to_be_reexecuted": false,
    "execution_millis": 11,
    "execution_start": 1646008042175,
    "source_hash": "6188e1bd",
    "tags": []
   },
   "outputs": [],
   "source": [
    "# your code here\n",
    "\n",
    "# initialize k to zero\n",
    "k = 0\n",
    "\n",
    "# initialize empty lists to hold the bootstrap samples and weights\n",
    "wb_samples = []\n",
    "weights = []\n",
    "\n",
    "# iterate 10000 times to create 10000 bootstrap samples\n",
    "for i in range(10000):\n",
    "    # generate a random sample from a normal distribution with mean 0.5 and standard deviation 0.5\n",
    "    theta = np.random.normal(0.5, 0.5)\n",
    "    \n",
    "    # ensure that the sample is between 0 and 1\n",
    "    while theta < 0 or theta > 1:\n",
    "        theta = np.random.normal(0.5, 0.5)\n",
    "    \n",
    "    # compute the weight for the current sample using the formula for the Bernoulli likelihood\n",
    "    # the weight is the product of the probabilities of each data point in the training set given the current sample\n",
    "    w = np.product([(theta)**x * (1-theta)**(1-x) for x in df_train[\"contraceptive_use\"]])\n",
    "    \n",
    "    # add the weight to the list of weights\n",
    "    weights.append(w)\n",
    "    \n",
    "    # add the sample to the list of bootstrap samples\n",
    "    wb_samples.append(theta)\n",
    "    \n",
    "# normalize the weights so that they sum to 1\n",
    "weights = weights/sum(weights)\n"
   ]
  },
  {
   "cell_type": "code",
   "execution_count": 12,
   "metadata": {},
   "outputs": [
    {
     "name": "stdout",
     "output_type": "stream",
     "text": [
      "The mean of our generated thetas is: 0.39\n",
      "The 95% confidence intervale for our generated thetas is: [0.36295116116501586,0.41788813592795343]\n"
     ]
    }
   ],
   "source": [
    "# generate a random sample of 1000 values from the weighted bootstrap samples, with the weights given by the normalized weights\n",
    "dist = np.random.choice(wb_samples, size=1000, p=weights)\n",
    "\n",
    "# compute the lower and upper bounds of the 95% confidence interval for the weighted bootstrap samples\n",
    "# the lower bound is the 2.5th percentile of the sample, and the upper bound is the 97.5th percentile\n",
    "lower_ci_wb = np.percentile(dist, 2.5)\n",
    "upper_ci_wb = np.percentile(dist, 97.5)\n",
    "\n",
    "# compute the mean of the sample from the weighted bootstrap\n",
    "wb_samples_mean = np.mean(dist)\n",
    "\n",
    "\n",
    "print(\"The mean of our generated thetas is: {}\".format(np.around(wb_samples_mean,2)))\n",
    "print(\"The 95% confidence intervale for our generated thetas is: [{},{}]\".format(lower_ci_wb, upper_ci_wb))"
   ]
  },
  {
   "cell_type": "code",
   "execution_count": 13,
   "metadata": {
    "cell_id": "00027-9740f65a-1821-4865-be46-25d785f45839",
    "deepnote_cell_type": "code",
    "deepnote_to_be_reexecuted": false,
    "execution_millis": 552,
    "execution_start": 1646008042196,
    "source_hash": "653c7662",
    "tags": []
   },
   "outputs": [
    {
     "data": {
      "image/png": "[encoded data removed]",
      "text/plain": [
       "<Figure size 1000x800 with 1 Axes>"
      ]
     },
     "metadata": {},
     "output_type": "display_data"
    },
    {
     "name": "stdout",
     "output_type": "stream",
     "text": [
      "CPU times: user 152 ms, sys: 6.17 ms, total: 158 ms\n",
      "Wall time: 156 ms\n"
     ]
    }
   ],
   "source": [
    "%%time\n",
    "# your code here\n",
    "\n",
    "# plot histogram with vertical lines for mean and confidence interval\n",
    "plt.figure(figsize=(10, 8))\n",
    "plt.hist(dist)\n",
    "plt.axvline(wb_samples_mean, color='red', label='mean')\n",
    "plt.axvline(lower_ci_wb, color='purple', linestyle='--', label='95% CI')\n",
    "plt.axvline(upper_ci_wb, color='purple', linestyle='--')\n",
    "plt.xlabel(r'$\\theta$')\n",
    "plt.ylabel(\"Count\")\n",
    "plt.title(\"Histogram of generated and accepted theta values using weighted boostrap\")\n",
    "plt.legend()\n",
    "plt.show()"
   ]
  },
  {
   "cell_type": "code",
   "execution_count": 14,
   "metadata": {
    "deletable": false,
    "editable": false
   },
   "outputs": [
    {
     "data": {
      "text/html": [
       "<p><strong><pre style='display: inline;'>q3</pre></strong> passed! 💯</p>"
      ],
      "text/plain": [
       "q3 results: All test cases passed!"
      ]
     },
     "execution_count": 14,
     "metadata": {},
     "output_type": "execute_result"
    }
   ],
   "source": [
    "grader.check(\"q3\")"
   ]
  },
  {
   "cell_type": "markdown",
   "metadata": {},
   "source": [
    "<!-- BEGIN QUESTION -->\n",
    "\n",
    "<div class='exercise'><b>Q4 Wrap-up</b></div>"
   ]
  },
  {
   "cell_type": "markdown",
   "metadata": {},
   "source": [
    "* In a few sentences, please describe the aspect(s) of the assignment you found most challenging. This could be conceptual and/or related to coding and implementation.\n",
    "\n",
    "* How many hours did you spend working on this assignment? Store this as an int or float in `time_spent_on_hw`"
   ]
  },
  {
   "cell_type": "markdown",
   "metadata": {},
   "source": [
    "Coding was definitely the hardest for me. "
   ]
  },
  {
   "cell_type": "code",
   "execution_count": 15,
   "metadata": {
    "tags": []
   },
   "outputs": [],
   "source": [
    "time_spent_on_hw = 3"
   ]
  },
  {
   "cell_type": "code",
   "execution_count": 16,
   "metadata": {
    "deletable": false,
    "editable": false
   },
   "outputs": [
    {
     "data": {
      "text/html": [
       "<p><strong><pre style='display: inline;'>q4</pre></strong> passed! 🎉</p>"
      ],
      "text/plain": [
       "q4 results: All test cases passed!"
      ]
     },
     "execution_count": 16,
     "metadata": {},
     "output_type": "execute_result"
    }
   ],
   "source": [
    "grader.check(\"q4\")"
   ]
  },
  {
   "cell_type": "code",
   "execution_count": 17,
   "metadata": {},
   "outputs": [
    {
     "name": "stdout",
     "output_type": "stream",
     "text": [
      "It took 1.29 minutes for this notebook to run\n"
     ]
    }
   ],
   "source": [
    "time_end = time.time()\n",
    "print(f\"It took {(time_end - time_start)/60:.2f} minutes for this notebook to run\")"
   ]
  },
  {
   "cell_type": "markdown",
   "metadata": {},
   "source": [
    "**This concludes HW2-209. Thank you!**"
   ]
  }
 ],
 "metadata": {
  "deepnote": {},
  "deepnote_execution_queue": [],
  "deepnote_notebook_id": "47d4f7cc-2c7d-4a79-8db4-fa8ed64f1baf",
  "kernelspec": {
   "display_name": "Python 3 (ipykernel)",
   "language": "python",
   "name": "python3"
  },
  "language_info": {
   "codemirror_mode": {
    "name": "ipython",
    "version": 3
   },
   "file_extension": ".py",
   "mimetype": "text/x-python",
   "name": "python",
   "nbconvert_exporter": "python",
   "pygments_lexer": "ipython3",
   "version": "3.10.8"
  },
  "otter": {
   "OK_FORMAT": true,
   "tests": {
    "q1": {
     "name": "q1",
     "points": null,
     "suites": [
      {
       "cases": [
        {
         "code": ">>> assert (theta_mle > 0.35) and (theta_mle < 0.42),  \"Your theta MLE is incorrect.\"\n",
         "hidden": false,
         "locked": false
        }
       ],
       "scored": true,
       "setup": "",
       "teardown": "",
       "type": "doctest"
      }
     ]
    },
    "q2": {
     "name": "q2",
     "points": null,
     "suites": [
      {
       "cases": [
        {
         "code": ">>> def test_r_samples():\n...     assert len(r_samples) == 10_000, \"r_samples should contain 10,000 samples\"\n...     \n>>> test_r_samples()\n",
         "hidden": false,
         "locked": false
        },
        {
         "code": ">>> def test_r_samples_mean():\n...     assert (r_samples_mean > 0.35) and (r_samples_mean < 0.42),  \"The mean of your rejection samples is significantly off.\"\n...     \n>>> test_r_samples_mean()\n",
         "hidden": false,
         "locked": false
        },
        {
         "code": ">>> def test_rejection_rate():\n...     assert (rejection_rate >= 0) and (rejection_rate < 1), \"Rejection rate should be a float in [0,1)\"\n...     \n>>> test_rejection_rate()\n",
         "hidden": false,
         "locked": false
        }
       ],
       "scored": true,
       "setup": "",
       "teardown": "",
       "type": "doctest"
      }
     ]
    },
    "q3": {
     "name": "q3",
     "points": null,
     "suites": [
      {
       "cases": [
        {
         "code": ">>> def test_wb_samples():\n...     assert len(wb_samples) == 10_000, \"r_samples should contain 10,000 samples\"\n...     \n>>> test_wb_samples()\n",
         "hidden": false,
         "locked": false
        },
        {
         "code": ">>> def test_theta_mean():\n...     assert (wb_samples_mean > 0.35) and (wb_samples_mean < 0.42),  \"The mean of your weighted bootstrap samples is significantly off.\"\n...     \n>>> test_theta_mean()\n",
         "hidden": false,
         "locked": false
        }
       ],
       "scored": true,
       "setup": "",
       "teardown": "",
       "type": "doctest"
      }
     ]
    },
    "q4": {
     "name": "q4",
     "points": null,
     "suites": [
      {
       "cases": [
        {
         "code": ">>> assert float(time_spent_on_hw),\\\n...     \"Please select a time in hours (int or float) to specify how long you spent on this assignment.\"\n",
         "hidden": false,
         "locked": false
        }
       ],
       "scored": true,
       "setup": "",
       "teardown": "",
       "type": "doctest"
      }
     ]
    }
   }
  }
 },
 "nbformat": 4,
 "nbformat_minor": 4
}
