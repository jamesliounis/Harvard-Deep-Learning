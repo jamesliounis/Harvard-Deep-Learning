{
 "cells": [
  {
   "cell_type": "code",
   "execution_count": null,
   "metadata": {
    "deletable": false,
    "editable": false
   },
   "outputs": [],
   "source": [
    "# Initialize Otter\n",
    "import otter\n",
    "grader = otter.Notebook(\"ac209b_hw2.ipynb\")"
   ]
  },
  {
   "cell_type": "markdown",
   "metadata": {
    "cell_id": "c614e247-bfe6-410e-aa53-6ef28077efca",
    "deepnote_cell_type": "markdown",
    "tags": []
   },
   "source": [
    "# <img style=\"float: left; padding-right: 10px; width: 45px\" src=\"https://raw.githubusercontent.com/Harvard-IACS/2018-CS109A/master/content/styles/iacs.png\"> Data Science 2: Advanced Topics in Data Science \n",
    "\n",
    "## Homework 2 (209): Sampling Methods\n",
    "\n",
    "\n",
    "\n",
    "**Harvard University**<br/>\n",
    "**Spring 2023**<br/>\n",
    "**Instructors**: Mark Glickman & Pavlos Protopapas\n",
    "\n",
    "\n",
    "<hr style=\"height:2pt\">"
   ]
  },
  {
   "cell_type": "code",
   "execution_count": null,
   "metadata": {
    "cell_id": "00003-92d40d56-64ec-43cd-9eb7-dc6d7c74cc56",
    "deepnote_cell_type": "code",
    "deepnote_to_be_reexecuted": false,
    "execution_millis": 107,
    "execution_start": 1646007995372,
    "source_hash": "582c49fa"
   },
   "outputs": [],
   "source": [
    "# RUN THIS CELL \n",
    "import requests\n",
    "from IPython.core.display import HTML\n",
    "styles = requests.get(\n",
    "    \"https://raw.githubusercontent.com/Harvard-IACS/2018-CS109A/master/\"\n",
    "    \"content/styles/cs109.css\"\n",
    ").text\n",
    "HTML(styles)"
   ]
  },
  {
   "cell_type": "markdown",
   "metadata": {},
   "source": [
    "<hr>\n",
    "\n",
    "#### Instructions\n",
    "- To submit your assignment follow the instructions given in Canvas.\n",
    "- Plots should be legible and interpretable without having to refer to the code that generated them, including labels for the $x$- and $y$-axes as well as a descriptive title and/or legend when appropriate.\n",
    "- When asked to interpret a visualization, do not simply describe it (e.g., \"the curve has a steep slope up\"), but instead explain what you think the plot *means*.\n",
    "- Autograding tests are mostly to help you debug. The tests are not exhaustive so passing a test is necessary but not sufficient for full credit. \n",
    "- The use of *extremely* inefficient or error-prone code (e.g., copy-pasting nearly identical commands rather than looping) may result in only partial credit.\n",
    "- We have tried to include all the libraries you may need to do the assignment in the imports cell provided below. Please get course staff approval before importing any additional 3rd party libraries.\n",
    "- Enable scrolling output on cells with very long output.\n",
    "- Feel free to add additional code or markdown cells as needed.\n",
    "- Ensure your code runs top to bottom without error and passes all tests by restarting the kernel and running all cells (note that this can take a few minutes). \n",
    "- **You should do a \"Restart Kernel and Run All Cells\" before submitting to ensure (1) your notebook actually runs and (2) all output is visible**\n",
    "\n",
    "<hr>"
   ]
  },
  {
   "cell_type": "code",
   "execution_count": null,
   "metadata": {
    "cell_id": "00005-8ca7a4a4-a390-4f13-b25c-f5239a9c9672",
    "deepnote_cell_type": "code",
    "deepnote_to_be_reexecuted": false,
    "execution_millis": 4985,
    "execution_start": 1646007995478,
    "source_hash": "fe7500ba"
   },
   "outputs": [],
   "source": [
    "import time\n",
    "import matplotlib.pyplot as plt\n",
    "import numpy as np\n",
    "import pandas as pd"
   ]
  },
  {
   "cell_type": "code",
   "execution_count": null,
   "metadata": {},
   "outputs": [],
   "source": [
    "# measure notebook runtime\n",
    "time_start = time.time()"
   ]
  },
  {
   "cell_type": "markdown",
   "metadata": {
    "cell_id": "00007-54423271-a2de-4320-abcc-05d0eaaa1881",
    "deepnote_cell_type": "markdown"
   },
   "source": [
    "<a id=\"contents\"></a>\n",
    "\n",
    "## Notebook Contents\n",
    "\n",
    "- **Dataset Information**\n",
    "- **Overview**\n",
    "- **Q1 - Likelihood & MLE**\n",
    "- **Q2 - Rejection Sampling**\n",
    "- **Q3 - Weighted Bootstrap**\n",
    "- **Q4 - Wrap-up**"
   ]
  },
  {
   "cell_type": "markdown",
   "metadata": {
    "cell_id": "00008-143a5876-536a-4029-a770-d95f9545932e",
    "deepnote_cell_type": "markdown"
   },
   "source": [
    "## Dataset Information\n",
    "*(Identical dataset to CS109B HW2)*"
   ]
  },
  {
   "cell_type": "markdown",
   "metadata": {
    "cell_id": "00009-6ed48207-9bee-46bf-bcff-c7188d53fec0",
    "deepnote_cell_type": "markdown"
   },
   "source": [
    "### Contraceptive Usage by Bangladeshi Women\n",
    "\n",
    "For this assignment, you are provided with datasets `train.csv` and `test.csv` which contain details of contraceptive usage among 1,934 Bangladeshi women.\n",
    "\n",
    "There are four attributes for each woman along with a response variable, `contraceptive_use`, indicating if she uses contraceptives. The four attributes include:\n",
    "\n",
    "* `district`: code identifying the district in which the woman lives (60 districts in total)\n",
    "* `urban`: type of region of residence (binary)\n",
    "* `living.children`: number of living children\n",
    "* `age-mean`: age of the woman (in years, centered around mean)"
   ]
  },
  {
   "cell_type": "markdown",
   "metadata": {
    "cell_id": "00011-769377c1-8ffe-4102-82a8-b24bb9d15e52",
    "deepnote_cell_type": "markdown"
   },
   "source": [
    "<a id=\"part1intro\"></a>\n",
    "\n",
    "## Overview \n",
    "\n",
    "[Return to contents](#contents)\n",
    "\n",
    "In this notebook, we will only work with the response variable, `contraceptive_use`, and ignore all the attributes.\n",
    "\n",
    "Let $y_i$ be 1 if woman $i$ uses contraceptives, and 0 otherwise, where $i=1,\\ldots,N$, with $N$ being the number of observations in the training data set.\n",
    "\n",
    "Assume a Bernoulli model for the data:\n",
    "\n",
    "$$Y \\sim \\text{Bernoulli}(\\theta)$$\n",
    "\n",
    "The parameter $\\theta$ is the unknown probability a woman uses contraception.\\\n",
    "We will assume the following prior distribution on $\\theta$:\n",
    "\n",
    "$$\\theta \\sim \\text{Normal}(0.5, 0.5^2)$$\n",
    "\n",
    "subject to $0 \\leq \\theta \\leq 1$.  This is sometimes called a truncated normal distribution.  A value from this distribution can be randomly drawn by simulating a value from $\\text{Normal}(0.5, 0.5^2)$ and then keeping it if the value is between 0 and 1, and trying again if it is outside this range.  This is in fact itself a form of rejection sampling.  The density for the truncated normal distribution is\n",
    "\n",
    "$$p(\\theta) = c\\times \\exp\\left(\\frac{-1}{2(0.5)^2}(\\theta-0.5)^2\\right) \\; \\text{for} \\; 0\\leq \\theta \\leq 1 \\; \\text{, and} \\; 0 \\; \\text{otherwise,}$$\n",
    "\n",
    "where $c$ is a normalizing constant that does not depend on $\\theta$."
   ]
  },
  {
   "cell_type": "markdown",
   "metadata": {},
   "source": [
    "<!-- BEGIN QUESTION -->\n",
    "\n",
    "<div class='exercise'><b>Q1 - Likelihood & MLE</b></div>"
   ]
  },
  {
   "cell_type": "markdown",
   "metadata": {
    "cell_id": "00012-3905c094-8235-419a-ab09-b8b752cd01d6",
    "deepnote_cell_type": "markdown",
    "tags": []
   },
   "source": [
    "Given our probability model, write down the likelihood function for the training data, $L(\\theta | y_1,\\ldots,y_n)$.\n",
    "\n",
    "Next, derive the MLE of $\\theta$ as a function of $y_1,\\ldots,y_n$. Give an interpretation of this MLE result in a few words.\n",
    "\n",
    "Finally, compute and report the MLE from the training data, saving it as `theta_mle`.\n",
    "\n",
    "**Note:** The first two steps should be done in $\\LaTeX$ and markdown and cover the general case. That is, they should be applicable to any dataset $y_1, \\dots,y_n$. The third step should be done entirely in Python and is specific to the provided training data."
   ]
  },
  {
   "cell_type": "markdown",
   "metadata": {},
   "source": [
    "_Type your answer here, replacing this text._"
   ]
  },
  {
   "cell_type": "code",
   "execution_count": null,
   "metadata": {
    "cell_id": "00016-2c370247-07fc-4451-830f-6a22c3845108",
    "deepnote_cell_type": "code",
    "deepnote_to_be_reexecuted": false,
    "execution_millis": 14,
    "execution_start": 1646008000479,
    "source_hash": "961b786",
    "tags": []
   },
   "outputs": [],
   "source": [
    "# your code here\n",
    "..."
   ]
  },
  {
   "cell_type": "code",
   "execution_count": null,
   "metadata": {
    "deletable": false,
    "editable": false
   },
   "outputs": [],
   "source": [
    "grader.check(\"q1\")"
   ]
  },
  {
   "cell_type": "markdown",
   "metadata": {},
   "source": [
    "<!-- BEGIN QUESTION -->\n",
    "\n",
    "<div class='exercise'><b>Q2 - Rejection Sampling</b></div>"
   ]
  },
  {
   "cell_type": "markdown",
   "metadata": {
    "cell_id": "00012-3905c094-8235-419a-ab09-b8b752cd01d6",
    "deepnote_cell_type": "markdown",
    "jp-MarkdownHeadingCollapsed": true,
    "tags": []
   },
   "source": [
    "Using rejection sampling, simulate a sample of 10,000 accepted $\\theta$ values from the posterior distribution and store them in `r_samples`.\n",
    "\n",
    "Plot a histogram of these 10,000 values and display numerical summaries of their distribution in the form of a mean and 95% credible interval. Store the mean in `r_samples_mean`.\n",
    "\n",
    "Calculate and report the rejection rate, storing it in `rejection_rate`.\n",
    "\n",
    "Finally, interpret your findings.\n",
    "\n",
    "**Note:** \n",
    "* make sure $\\theta$ only takes on values which are valid for the parameter it represents and that all samples that do not pass the sampling criterion are rejected. Consult the lecture notes on rejection sampling if you need to review this criterion.\n",
    "* Make use of the `%%time` magic command at the top of the cell where you do your sampling, both here for rejection sampling, and in Q3 for weighted bootstrap. This will allow you to compare the run time of each method. "
   ]
  },
  {
   "cell_type": "markdown",
   "metadata": {},
   "source": [
    "_Type your answer here, replacing this text._"
   ]
  },
  {
   "cell_type": "code",
   "execution_count": null,
   "metadata": {
    "cell_id": "00019-0aca7605-9d40-4cb5-bc67-88eb9708e863",
    "deepnote_cell_type": "code",
    "deepnote_to_be_reexecuted": false,
    "execution_millis": 40,
    "execution_start": 1646008000504,
    "source_hash": "531445d",
    "tags": []
   },
   "outputs": [],
   "source": [
    "# your code here\n",
    "..."
   ]
  },
  {
   "cell_type": "code",
   "execution_count": null,
   "metadata": {
    "cell_id": "00020-250cf23f-8904-4cb5-a5b7-9e7c3628035a",
    "deepnote_cell_type": "code",
    "deepnote_to_be_reexecuted": false,
    "execution_millis": 40592,
    "execution_start": 1646008000545,
    "source_hash": "1330e44d",
    "tags": []
   },
   "outputs": [],
   "source": [
    "%%time\n",
    "# your code here\n",
    "..."
   ]
  },
  {
   "cell_type": "code",
   "execution_count": null,
   "metadata": {
    "cell_id": "00021-f98565fc-d14b-4e89-9648-4fc6172e95fb",
    "deepnote_cell_type": "code",
    "deepnote_to_be_reexecuted": false,
    "execution_millis": 3,
    "execution_start": 1646008041148,
    "source_hash": "785bc738",
    "tags": []
   },
   "outputs": [],
   "source": [
    "# your code here\n",
    "..."
   ]
  },
  {
   "cell_type": "code",
   "execution_count": null,
   "metadata": {
    "cell_id": "00022-d49fde58-1b34-4a68-bd18-40f737b7a7a4",
    "deepnote_cell_type": "code",
    "deepnote_to_be_reexecuted": false,
    "execution_millis": 997,
    "execution_start": 1646008041161,
    "source_hash": "bddee208",
    "tags": []
   },
   "outputs": [],
   "source": [
    "# your code here\n",
    "..."
   ]
  },
  {
   "cell_type": "code",
   "execution_count": null,
   "metadata": {
    "deletable": false,
    "editable": false
   },
   "outputs": [],
   "source": [
    "grader.check(\"q2\")"
   ]
  },
  {
   "cell_type": "markdown",
   "metadata": {},
   "source": [
    "<!-- BEGIN QUESTION -->\n",
    "\n",
    "<div class='exercise'><b>Q3 - Weighted Bootstrap</b></div>"
   ]
  },
  {
   "cell_type": "markdown",
   "metadata": {
    "cell_id": "00012-3905c094-8235-419a-ab09-b8b752cd01d6",
    "deepnote_cell_type": "markdown",
    "jp-MarkdownHeadingCollapsed": true,
    "tags": []
   },
   "source": [
    "Carry out the weighted bootstrap to simulate 10,000 values of $\\theta$ from the posterior distribution. To this end, simulate 100,000 values from the prior distribution and resample them with the appropriate importance weights. Store your 10,000 samples from the posterior as `wb_samples`.\n",
    "\n",
    "As above, plot a histogram of these values, and provide numerical summaries of the distribution of 10,000 values in the form of a mean and 95% credible interval. Save the mean as `wb_samples_mean`.\n",
    "\n",
    "Interpret the results, and compare to the results of rejection sampling."
   ]
  },
  {
   "cell_type": "markdown",
   "metadata": {},
   "source": [
    "_Type your answer here, replacing this text._"
   ]
  },
  {
   "cell_type": "code",
   "execution_count": null,
   "metadata": {
    "cell_id": "00026-ec725b3a-5c8b-4023-9abb-4651a9b4c2fc",
    "deepnote_cell_type": "code",
    "deepnote_to_be_reexecuted": false,
    "execution_millis": 11,
    "execution_start": 1646008042175,
    "source_hash": "6188e1bd",
    "tags": []
   },
   "outputs": [],
   "source": [
    "# your code here\n",
    "..."
   ]
  },
  {
   "cell_type": "code",
   "execution_count": null,
   "metadata": {
    "cell_id": "00027-9740f65a-1821-4865-be46-25d785f45839",
    "deepnote_cell_type": "code",
    "deepnote_to_be_reexecuted": false,
    "execution_millis": 552,
    "execution_start": 1646008042196,
    "source_hash": "653c7662",
    "tags": []
   },
   "outputs": [],
   "source": [
    "%%time\n",
    "# your code here\n",
    "..."
   ]
  },
  {
   "cell_type": "code",
   "execution_count": null,
   "metadata": {
    "cell_id": "00028-958fd08b-3af9-4a17-8710-47ade988b6a6",
    "deepnote_cell_type": "code",
    "deepnote_to_be_reexecuted": false,
    "execution_millis": 631,
    "execution_start": 1646008042748,
    "source_hash": "13f10938",
    "tags": []
   },
   "outputs": [],
   "source": [
    "# your code here\n",
    "..."
   ]
  },
  {
   "cell_type": "code",
   "execution_count": null,
   "metadata": {
    "deletable": false,
    "editable": false
   },
   "outputs": [],
   "source": [
    "grader.check(\"q3\")"
   ]
  },
  {
   "cell_type": "markdown",
   "metadata": {},
   "source": [
    "<!-- BEGIN QUESTION -->\n",
    "\n",
    "<div class='exercise'><b>Q4 Wrap-up</b></div>"
   ]
  },
  {
   "cell_type": "markdown",
   "metadata": {},
   "source": [
    "* In a few sentences, please describe the aspect(s) of the assignment you found most challenging. This could be conceptual and/or related to coding and implementation.\n",
    "\n",
    "* How many hours did you spend working on this assignment? Store this as an int or float in `time_spent_on_hw`"
   ]
  },
  {
   "cell_type": "markdown",
   "metadata": {},
   "source": [
    "_Type your answer here, replacing this text._"
   ]
  },
  {
   "cell_type": "code",
   "execution_count": null,
   "metadata": {
    "tags": []
   },
   "outputs": [],
   "source": [
    "time_spent_on_hw = ..."
   ]
  },
  {
   "cell_type": "code",
   "execution_count": null,
   "metadata": {
    "deletable": false,
    "editable": false
   },
   "outputs": [],
   "source": [
    "grader.check(\"q4\")"
   ]
  },
  {
   "cell_type": "code",
   "execution_count": null,
   "metadata": {},
   "outputs": [],
   "source": [
    "time_end = time.time()\n",
    "print(f\"It took {(time_end - time_start)/60:.2f} minutes for this notebook to run\")"
   ]
  },
  {
   "cell_type": "markdown",
   "metadata": {},
   "source": [
    "**This concludes HW2-209. Thank you!**"
   ]
  }
 ],
 "metadata": {
  "deepnote": {},
  "deepnote_execution_queue": [],
  "deepnote_notebook_id": "47d4f7cc-2c7d-4a79-8db4-fa8ed64f1baf",
  "kernelspec": {
   "display_name": "Python 3 (ipykernel)",
   "language": "python",
   "name": "python3"
  },
  "language_info": {
   "codemirror_mode": {
    "name": "ipython",
    "version": 3
   },
   "file_extension": ".py",
   "mimetype": "text/x-python",
   "name": "python",
   "nbconvert_exporter": "python",
   "pygments_lexer": "ipython3",
   "version": "3.9.15"
  },
  "otter": {
   "OK_FORMAT": true,
   "tests": {
    "q1": {
     "name": "q1",
     "points": null,
     "suites": [
      {
       "cases": [
        {
         "code": ">>> assert (theta_mle > 0.35) and (theta_mle < 0.42),  \"Your theta MLE is incorrect.\"\n",
         "hidden": false,
         "locked": false
        }
       ],
       "scored": true,
       "setup": "",
       "teardown": "",
       "type": "doctest"
      }
     ]
    },
    "q2": {
     "name": "q2",
     "points": null,
     "suites": [
      {
       "cases": [
        {
         "code": ">>> def test_r_samples():\n...     assert len(r_samples) == 10_000, \"r_samples should contain 10,000 samples\"\n...     \n>>> test_r_samples()\n",
         "hidden": false,
         "locked": false
        },
        {
         "code": ">>> def test_r_samples_mean():\n...     assert (r_samples_mean > 0.35) and (r_samples_mean < 0.42),  \"The mean of your rejection samples is significantly off.\"\n...     \n>>> test_r_samples_mean()\n",
         "hidden": false,
         "locked": false
        },
        {
         "code": ">>> def test_rejection_rate():\n...     assert (rejection_rate >= 0) and (rejection_rate < 1), \"Rejection rate should be a float in [0,1)\"\n...     \n>>> test_rejection_rate()\n",
         "hidden": false,
         "locked": false
        }
       ],
       "scored": true,
       "setup": "",
       "teardown": "",
       "type": "doctest"
      }
     ]
    },
    "q3": {
     "name": "q3",
     "points": null,
     "suites": [
      {
       "cases": [
        {
         "code": ">>> def test_wb_samples():\n...     assert len(wb_samples) == 10_000, \"r_samples should contain 10,000 samples\"\n...     \n>>> test_wb_samples()\n",
         "hidden": false,
         "locked": false
        },
        {
         "code": ">>> def test_theta_mean():\n...     assert (wb_samples_mean > 0.35) and (wb_samples_mean < 0.42),  \"The mean of your weighted bootstrap samples is significantly off.\"\n...     \n>>> test_theta_mean()\n",
         "hidden": false,
         "locked": false
        }
       ],
       "scored": true,
       "setup": "",
       "teardown": "",
       "type": "doctest"
      }
     ]
    },
    "q4": {
     "name": "q4",
     "points": null,
     "suites": [
      {
       "cases": [
        {
         "code": ">>> assert float(time_spent_on_hw),\\\n...     \"Please select a time in hours (int or float) to specify how long you spent on this assignment.\"\n",
         "hidden": false,
         "locked": false
        }
       ],
       "scored": true,
       "setup": "",
       "teardown": "",
       "type": "doctest"
      }
     ]
    }
   }
  }
 },
 "nbformat": 4,
 "nbformat_minor": 4
}
