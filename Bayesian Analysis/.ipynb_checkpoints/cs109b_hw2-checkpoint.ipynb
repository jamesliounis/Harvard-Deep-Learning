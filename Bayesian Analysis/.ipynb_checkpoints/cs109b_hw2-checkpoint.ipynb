{
 "cells": [
  {
   "cell_type": "code",
   "execution_count": 1,
   "metadata": {
    "deletable": false,
    "editable": false
   },
   "outputs": [],
   "source": [
    "# Initialize Otter\n",
    "import otter\n",
    "grader = otter.Notebook(\"cs109b_hw2.ipynb\")"
   ]
  },
  {
   "cell_type": "markdown",
   "metadata": {
    "cell_id": "c614e247-bfe6-410e-aa53-6ef28077efca",
    "deepnote_cell_type": "markdown",
    "tags": []
   },
   "source": [
    "# <img style=\"float: left; padding-right: 10px; width: 45px\" src=\"https://raw.githubusercontent.com/Harvard-IACS/2018-CS109A/master/content/styles/iacs.png\"> Data Science 2: Advanced Topics in Data Science \n",
    "\n",
    "## Homework 2: Bayesian Analysis\n",
    "\n",
    "\n",
    "\n",
    "**Harvard University**<br/>\n",
    "**Spring 2023**<br/>\n",
    "**Instructors**: Mark Glickman & Pavlos Protopapas\n",
    "\n",
    "\n",
    "<hr style=\"height:2pt\">"
   ]
  },
  {
   "cell_type": "code",
   "execution_count": 2,
   "metadata": {
    "cell_id": "00003-92d40d56-64ec-43cd-9eb7-dc6d7c74cc56",
    "deepnote_cell_type": "code",
    "deepnote_to_be_reexecuted": false,
    "execution_millis": 107,
    "execution_start": 1646007995372,
    "source_hash": "582c49fa"
   },
   "outputs": [
    {
     "data": {
      "text/html": [
       "<style>\n",
       "blockquote { background: #AEDE94; }\n",
       "h1 { \n",
       "    padding-top: 25px;\n",
       "    padding-bottom: 25px;\n",
       "    text-align: left; \n",
       "    padding-left: 10px;\n",
       "    background-color: #DDDDDD; \n",
       "    color: black;\n",
       "}\n",
       "h2 { \n",
       "    padding-top: 10px;\n",
       "    padding-bottom: 10px;\n",
       "    text-align: left; \n",
       "    padding-left: 5px;\n",
       "    background-color: #EEEEEE; \n",
       "    color: black;\n",
       "}\n",
       "\n",
       "div.exercise {\n",
       "\tbackground-color: #ffcccc;\n",
       "\tborder-color: #E9967A; \t\n",
       "\tborder-left: 5px solid #800080; \n",
       "\tpadding: 0.5em;\n",
       "}\n",
       "\n",
       "div.exercise-r {\n",
       "\tbackground-color: #fce8e8;\n",
       "\tborder-color: #E9967A; \t\n",
       "\tborder-left: 5px solid #800080; \n",
       "\tpadding: 0.5em;\n",
       "}\n",
       "\n",
       "\n",
       "span.sub-q {\n",
       "\tfont-weight: bold;\n",
       "}\n",
       "div.theme {\n",
       "\tbackground-color: #DDDDDD;\n",
       "\tborder-color: #E9967A; \t\n",
       "\tborder-left: 5px solid #800080; \n",
       "\tpadding: 0.5em;\n",
       "\tfont-size: 18pt;\n",
       "}\n",
       "div.gc { \n",
       "\tbackground-color: #AEDE94;\n",
       "\tborder-color: #E9967A; \t \n",
       "\tborder-left: 5px solid #800080; \n",
       "\tpadding: 0.5em;\n",
       "\tfont-size: 12pt;\n",
       "}\n",
       "p.q1 { \n",
       "    padding-top: 5px;\n",
       "    padding-bottom: 5px;\n",
       "    text-align: left; \n",
       "    padding-left: 5px;\n",
       "    background-color: #EEEEEE; \n",
       "    color: black;\n",
       "}\n",
       "header {\n",
       "   padding-top: 35px;\n",
       "    padding-bottom: 35px;\n",
       "    text-align: left; \n",
       "    padding-left: 10px;\n",
       "    background-color: #DDDDDD; \n",
       "    color: black;\n",
       "}\n",
       "</style>\n",
       "\n"
      ],
      "text/plain": [
       "<IPython.core.display.HTML object>"
      ]
     },
     "execution_count": 2,
     "metadata": {},
     "output_type": "execute_result"
    }
   ],
   "source": [
    "# RUN THIS CELL \n",
    "import requests\n",
    "from IPython.core.display import HTML\n",
    "styles = requests.get(\n",
    "    \"https://raw.githubusercontent.com/Harvard-IACS/2018-CS109A/master/\"\n",
    "    \"content/styles/cs109.css\"\n",
    ").text\n",
    "HTML(styles)"
   ]
  },
  {
   "cell_type": "markdown",
   "metadata": {},
   "source": [
    "<hr>\n",
    "\n",
    "#### Instructions\n",
    "- To submit your assignment follow the instructions given in Canvas.\n",
    "- Plots should be legible and interpretable without having to refer to the code that generated them, including labels for the $x$- and $y$-axes as well as a descriptive title and/or legend when appropriate.\n",
    "- When asked to interpret a visualization, do not simply describe it (e.g., \"the curve has a steep slope up\"), but instead explain what you think the plot *means*.\n",
    "- Autograding tests are mostly to help you debug. The tests are not exhaustive so passing a test is necessary but not sufficient for full credit. \n",
    "- The use of *extremely* inefficient or error-prone code (e.g., copy-pasting nearly identical commands rather than looping) may result in only partial credit.\n",
    "- We have tried to include all the libraries you may need to do the assignment in the imports cell provided below. Please get course staff approval before importing any additional 3rd party libraries.\n",
    "- Enable scrolling output on cells with very long output.\n",
    "- Feel free to add additional code or markdown cells as needed.\n",
    "- Ensure your code runs top to bottom without error and passes all tests by restarting the kernel and running all cells (note that this can take a few minutes). \n",
    "- **You should do a \"Restart Kernel and Run All Cells\" before submitting to ensure (1) your notebook actually runs and (2) all output is visible**\n",
    "\n",
    "<hr>"
   ]
  },
  {
   "cell_type": "code",
   "execution_count": 3,
   "metadata": {
    "cell_id": "00005-8ca7a4a4-a390-4f13-b25c-f5239a9c9672",
    "deepnote_cell_type": "code",
    "deepnote_to_be_reexecuted": false,
    "execution_millis": 4985,
    "execution_start": 1646007995478,
    "source_hash": "fe7500ba"
   },
   "outputs": [],
   "source": [
    "import time\n",
    "import arviz as az\n",
    "import matplotlib.pyplot as plt\n",
    "import numpy as np\n",
    "import pandas as pd\n",
    "import pymc as pm\n",
    "from scipy.special import expit"
   ]
  },
  {
   "cell_type": "code",
   "execution_count": 4,
   "metadata": {},
   "outputs": [],
   "source": [
    "# measure notebook runtime\n",
    "time_start = time.time()"
   ]
  },
  {
   "cell_type": "markdown",
   "metadata": {
    "cell_id": "00007-54423271-a2de-4320-abcc-05d0eaaa1881",
    "deepnote_cell_type": "markdown"
   },
   "source": [
    "## Notebook Contents\n",
    "<a id=\"contents\"></a>\n",
    "- **Dataset Information**\n",
    "- **Bayesian Logistic Regression with Varying-Intercept Description**\n",
    "- [**Part 1: Varying-Intercept Model (Simulated Response Variable)**](#part1)\n",
    "- [**Part 2: Varying-Intercept Model (Real Data)**](#part2)\n",
    "- [**Part 3: Varying-Coefficients Model**](#part3)\n",
    "- [**Part 4: Prediction & Model Selection**](#part4)"
   ]
  },
  {
   "cell_type": "markdown",
   "metadata": {
    "cell_id": "00008-143a5876-536a-4029-a770-d95f9545932e",
    "deepnote_cell_type": "markdown"
   },
   "source": [
    "## Dataset Information"
   ]
  },
  {
   "cell_type": "markdown",
   "metadata": {
    "cell_id": "00009-6ed48207-9bee-46bf-bcff-c7188d53fec0",
    "deepnote_cell_type": "markdown"
   },
   "source": [
    "### Contraceptive Usage by Bangladeshi Women\n",
    "\n",
    "For this assignment, you are provided with datasets `train.csv` and `test.csv` which contain details of contraceptive usage among 1,934 Bangladeshi women.\n",
    "\n",
    "There are four attributes for each woman along with a response variable, `contraceptive_use`, indicating if she uses contraceptives. The four attributes include:\n",
    "\n",
    "* `district`: code identifying the district in which the woman lives (60 districts in total)\n",
    "* `urban`: type of region of residence (binary)\n",
    "* `living.children`: number of living children\n",
    "* `age-mean`: age of the woman (in years, centered around mean)\n",
    "\n",
    "The task is to build a classification model that can predict if a given woman uses contraceptives."
   ]
  },
  {
   "cell_type": "markdown",
   "metadata": {},
   "source": [
    "The following cell will load and inspect the train and test datasets."
   ]
  },
  {
   "cell_type": "code",
   "execution_count": 5,
   "metadata": {
    "cell_id": "00037-3507b8b2-274c-46fc-840e-c4637cc1ec2f",
    "deepnote_cell_type": "code",
    "deepnote_to_be_reexecuted": false,
    "execution_millis": 2505,
    "execution_start": 1646008043375,
    "source_hash": "827ab2a8"
   },
   "outputs": [
    {
     "name": "stdout",
     "output_type": "stream",
     "text": [
      "TRAINING DATA INFO:\n",
      "\n",
      "<class 'pandas.core.frame.DataFrame'>\n",
      "RangeIndex: 967 entries, 0 to 966\n",
      "Data columns (total 5 columns):\n",
      " #   Column             Non-Null Count  Dtype  \n",
      "---  ------             --------------  -----  \n",
      " 0   district           967 non-null    int64  \n",
      " 1   urban              967 non-null    int64  \n",
      " 2   living.children    967 non-null    int64  \n",
      " 3   age_mean           967 non-null    float64\n",
      " 4   contraceptive_use  967 non-null    int64  \n",
      "dtypes: float64(1), int64(4)\n",
      "memory usage: 37.9 KB\n",
      "\n",
      "TEST DATA INFO:\n",
      "\n",
      "<class 'pandas.core.frame.DataFrame'>\n",
      "RangeIndex: 967 entries, 0 to 966\n",
      "Data columns (total 5 columns):\n",
      " #   Column             Non-Null Count  Dtype  \n",
      "---  ------             --------------  -----  \n",
      " 0   district           967 non-null    int64  \n",
      " 1   urban              967 non-null    int64  \n",
      " 2   living.children    967 non-null    int64  \n",
      " 3   age_mean           967 non-null    float64\n",
      " 4   contraceptive_use  967 non-null    int64  \n",
      "dtypes: float64(1), int64(4)\n",
      "memory usage: 37.9 KB\n",
      "\n",
      "TRAINING DATA SUMMARY STATS:\n",
      "\n",
      "         district       urban  living.children    age_mean  contraceptive_use\n",
      "count  967.000000  967.000000       967.000000  967.000000         967.000000\n",
      "mean    28.707342    0.307135         2.591520   -0.310626           0.389866\n",
      "std     17.408268    0.461545         1.248457    8.995747           0.487972\n",
      "min      0.000000    0.000000         1.000000  -13.560000           0.000000\n",
      "25%     14.000000    0.000000         1.000000   -7.560000           0.000000\n",
      "50%     29.000000    0.000000         3.000000   -1.559900           0.000000\n",
      "75%     45.000000    1.000000         4.000000    6.440000           1.000000\n",
      "max     59.000000    1.000000         4.000000   19.440000           1.000000\n",
      "\n",
      "TRAINING DATA FIRST ROWS OF DATA:\n"
     ]
    },
    {
     "data": {
      "text/html": [
       "<div>\n",
       "<style scoped>\n",
       "    .dataframe tbody tr th:only-of-type {\n",
       "        vertical-align: middle;\n",
       "    }\n",
       "\n",
       "    .dataframe tbody tr th {\n",
       "        vertical-align: top;\n",
       "    }\n",
       "\n",
       "    .dataframe thead th {\n",
       "        text-align: right;\n",
       "    }\n",
       "</style>\n",
       "<table border=\"1\" class=\"dataframe\">\n",
       "  <thead>\n",
       "    <tr style=\"text-align: right;\">\n",
       "      <th></th>\n",
       "      <th>district</th>\n",
       "      <th>urban</th>\n",
       "      <th>living.children</th>\n",
       "      <th>age_mean</th>\n",
       "      <th>contraceptive_use</th>\n",
       "    </tr>\n",
       "  </thead>\n",
       "  <tbody>\n",
       "    <tr>\n",
       "      <th>0</th>\n",
       "      <td>35</td>\n",
       "      <td>0</td>\n",
       "      <td>4</td>\n",
       "      <td>2.4400</td>\n",
       "      <td>0</td>\n",
       "    </tr>\n",
       "    <tr>\n",
       "      <th>1</th>\n",
       "      <td>22</td>\n",
       "      <td>0</td>\n",
       "      <td>2</td>\n",
       "      <td>-1.5599</td>\n",
       "      <td>1</td>\n",
       "    </tr>\n",
       "    <tr>\n",
       "      <th>2</th>\n",
       "      <td>29</td>\n",
       "      <td>0</td>\n",
       "      <td>2</td>\n",
       "      <td>-8.5599</td>\n",
       "      <td>1</td>\n",
       "    </tr>\n",
       "  </tbody>\n",
       "</table>\n",
       "</div>"
      ],
      "text/plain": [
       "   district  urban  living.children  age_mean  contraceptive_use\n",
       "0        35      0                4    2.4400                  0\n",
       "1        22      0                2   -1.5599                  1\n",
       "2        29      0                2   -8.5599                  1"
      ]
     },
     "metadata": {},
     "output_type": "display_data"
    },
    {
     "name": "stdout",
     "output_type": "stream",
     "text": [
      "\n"
     ]
    },
    {
     "data": {
      "image/png": "[encoded data removed]",
      "text/plain": [
       "<Figure size 1200x400 with 1 Axes>"
      ]
     },
     "metadata": {},
     "output_type": "display_data"
    }
   ],
   "source": [
    "# loading and inspecting the data\n",
    "df_train = pd.read_csv(\"data/train.csv\")\n",
    "df_test = pd.read_csv(\"data/test.csv\")\n",
    "\n",
    "# print dataset summary info for ease of reference\n",
    "print(\"TRAINING DATA INFO:\\n\")\n",
    "df_train.info()\n",
    "print(\"\\nTEST DATA INFO:\\n\")\n",
    "df_test.info()\n",
    "print(\"\\nTRAINING DATA SUMMARY STATS:\\n\")\n",
    "print(df_train.describe())\n",
    "print(\"\\nTRAINING DATA FIRST ROWS OF DATA:\")\n",
    "display(df_train.head(3))\n",
    "print()\n",
    "\n",
    "# And plot observation counts by district also just for reference\n",
    "def plot_value_counts(value_counts, var_name, font_perc):\n",
    "    \"\"\"Generates barplot from pandas value_counts series\"\"\"\n",
    "    fig, ax = plt.subplots(figsize=(12, 4))\n",
    "\n",
    "    max_y = max(value_counts.values)\n",
    "    n_cats = len(value_counts)\n",
    "\n",
    "    ax.bar(range(n_cats), value_counts.values, alpha=0.5)\n",
    "\n",
    "    for x, y in enumerate(value_counts):\n",
    "        ax.text(\n",
    "            x, y+max_y*.02,\n",
    "            \"{:,}\".format(y),\n",
    "            color=\"k\",\n",
    "            fontsize=14*font_perc,\n",
    "            horizontalalignment=\"center\"\n",
    "        ) \n",
    "\n",
    "    ax.set_title(\n",
    "        \"Number of training observations by {} after mapping district values\".format(\n",
    "            var_name\n",
    "        ),\n",
    "        fontsize=18\n",
    "    )\n",
    "    ax.set_xlabel(\"{}\".format(var_name), fontsize=15)\n",
    "    ax.set_ylabel(\"observations\", fontsize=15)\n",
    "    ax.set_xticks(range(n_cats))\n",
    "    ax.set_xticklabels(value_counts.index)\n",
    "    ax.tick_params(\"x\", labelsize=14*font_perc)\n",
    "    ax.tick_params(\"y\", labelsize=12)\n",
    "    ax.set_ylim(top=max_y+(max_y*.1))\n",
    "\n",
    "    ax.grid(\":\", axis=\"y\", alpha=0.4)\n",
    "    ax.margins(x=.01)\n",
    "    plt.tight_layout()\n",
    "    plt.show();\n",
    "\n",
    "# plot and print summary of resulting district values\n",
    "dist_counts = df_train[\"district\"].value_counts().sort_index()\n",
    "\n",
    "plot_value_counts(dist_counts, \"district\", .7)"
   ]
  },
  {
   "cell_type": "markdown",
   "metadata": {
    "cell_id": "00031-11dbdba9-8a05-4c0a-bced-ccbe97aab0df",
    "deepnote_cell_type": "markdown"
   },
   "source": [
    "\n",
    "\n",
    "## Bayesian Logistic Regression with Varying-Intercept Description\n"
   ]
  },
  {
   "cell_type": "markdown",
   "metadata": {
    "cell_id": "00032-1b14682c-c533-45a3-ae84-324ebd25a966",
    "deepnote_cell_type": "markdown",
    "tags": []
   },
   "source": [
    "The first model we'd like to fit to the contraceptives data will be a **varying-intercept logistic regression** model, where the model's intercept varies by district.\n",
    "\n",
    "Prior distributions:\n",
    "\n",
    "$$\n",
    "\\begin{split}\n",
    "\\beta_{0j} &\\sim N(\\mu_0,\\sigma_0^2)\\; \\text{, with} \\;\\; \\mu_0 \\sim N(0,10000)\\; \\text{and} \\; \\; \\frac{1}{\\sigma^2_0} \\sim \\text{Gamma}(0.1,0.1)\n",
    "\\\\\n",
    "\\beta_1 &\\sim N(0,10000) \n",
    "\\\\ \\\\ \n",
    "\\beta_2 &\\sim N(0,10000)\n",
    "\\\\ \\\\ \n",
    "\\beta_3 &\\sim N(0,10000)\n",
    "\\\\ \\\\\n",
    "\\end{split}\n",
    "$$\n",
    "\n",
    "Model for data:\n",
    "\n",
    "$$\n",
    "\\begin{split}\n",
    "Y_{ij} & \\sim \\text{Bernoulli}(p_{ij})\n",
    "\\\\ \\\\\n",
    "\\text{logit}\\:p_{ij} &= \\beta_{0j} + \\beta_1 \\times \\text{urban} + \\beta_2 \\times \\text{living.children} + \\beta_3 \\times \\text{age-mean}\n",
    "\\\\ \\\\\n",
    "\\end{split}\n",
    "$$\n",
    "\n",
    "Where $Y_{ij}$ is 1 if woman $i$ in district $j$ uses contraceptives, and 0 otherwise, and where $i \\in \\{1,...,N\\}$ and $j \\in \\{1,...,J\\}$. $N$ is the number of observations in the data, and $J$ is the number of districts. The above notation assumes $N(\\mu, \\sigma^2)$ is a Normal distribution with mean $\\mu$ and variance $\\sigma^2$.\n",
    "\n",
    "**PLEASE NOTE:** The $\\text{Gamma}$ distribution cited above, uses the $\\text{Gamma}(\\alpha, \\beta)$ parametrization, where $\\alpha$ is the shape and $\\beta$ is the rate.  "
   ]
  },
  {
   "cell_type": "markdown",
   "metadata": {
    "cell_id": "00033-a22e1869-53f7-4d5c-b241-3a4fbc2e059a",
    "deepnote_cell_type": "markdown",
    "tags": []
   },
   "source": [
    "<a id=\"part1\"></a>\n",
    "\n",
    "### <div class='exercise'>Part 1: Varying-Intercept Model (Simulated Response Variable)</div> \n",
    "\n",
    "[Return to contents](#contents)"
   ]
  },
  {
   "cell_type": "markdown",
   "metadata": {},
   "source": [
    "<!-- BEGIN QUESTION -->\n",
    "\n",
    "<div class='exercise'><b>Q1.1 - Simulate Response</b></div>"
   ]
  },
  {
   "cell_type": "markdown",
   "metadata": {
    "cell_id": "00033-a22e1869-53f7-4d5c-b241-3a4fbc2e059a",
    "deepnote_cell_type": "markdown"
   },
   "source": [
    "To verify that PyMC can indeed recover the hidden parameter values, we'll simulate values of the response variable, `contraceptive_use`, for observations in the training set using the 4 predictors and *hard-coded model parameters of our choosing*. Then, using this simulated data, we'll check if PyMC can get back the parameter values that we hard-coded. If it does, we'll have some reason to believe that it can recover the hidden parameter values that generated the *real* data.\n",
    "\n",
    "**Note: Synthetic response values generated using the parameters below will only be used in question 1.1 - 1.4**.\n",
    "\n",
    "Generate $Y$ using the training data and the following hard-coded values:\n",
    "\n",
    "$$\n",
    "\\begin{split}\n",
    "\\mu_0 &= 2\n",
    "\\\\ \\\\\n",
    "\\sigma^2_0 &= 1\n",
    "\\\\ \\\\\n",
    "\\beta_{0j} &\\sim N(\\mu_0,\\sigma_0^2) \\; \\text{for all sixty districts}\n",
    "\\\\ \\\\\n",
    "\\beta_1 &= 4\n",
    "\\\\ \\\\ \n",
    "\\beta_2 &= -3\n",
    "\\\\ \\\\\n",
    "\\beta_3 &= -2\n",
    "\\\\ \\\\\n",
    "\\end{split}\n",
    "$$\n",
    "\n",
    "Save your simulated values in a numpy array called `simulated_Y`.\n",
    "\n",
    "**Verify that these parameters generate data in which an average of 46% to 49% of subjects use contraceptives.**"
   ]
  },
  {
   "cell_type": "code",
   "execution_count": 57,
   "metadata": {
    "cell_id": "00040-4092e424-d9e7-47c3-a52f-caeb016a8141",
    "deepnote_cell_type": "code",
    "deepnote_to_be_reexecuted": false,
    "execution_millis": 44,
    "execution_start": 1646008045851,
    "source_hash": "c8995bb7",
    "tags": []
   },
   "outputs": [],
   "source": [
    "# set seed for consistency across runs\n",
    "np.random.seed(109)\n",
    "# your code here\n",
    "\n",
    "# Define mu\n",
    "m_0 = 2\n",
    "# Define sigma\n",
    "sigma_0 = 1\n",
    "\n",
    "\n",
    "Beta_0s = []\n",
    "\n",
    "# for all 60 districts\n",
    "for i in range(60):\n",
    "    \n",
    "    # Specifying parameters\n",
    "    Beta_0s.append(np.random.normal(m_0, sigma_0))\n",
    "    \n",
    "B1 = 4\n",
    "B2 = -3\n",
    "B3 = -2\n",
    "\n",
    "simulated_Y = []\n",
    "\n",
    "for i, observation in df_train.iterrows():\n",
    "    # Casting logistic regression\n",
    "    prob = Beta_0s[int(observation.district)] + B1*int(observation.urban) + B2*int(observation['living.children']) + B3*int(observation.age_mean)\n",
    "    # Bernoulli\n",
    "    prob =np.exp(prob) / (1 + np.exp(prob))\n",
    "    \n",
    "    y = np.random.choice([1,0],p=[prob,1-prob])\n",
    "    simulated_Y.append(y)\n",
    "    "
   ]
  },
  {
   "cell_type": "code",
   "execution_count": 58,
   "metadata": {},
   "outputs": [
    {
     "name": "stdout",
     "output_type": "stream",
     "text": [
      "These parameters generate data with an average of 0.4643226473629783\n"
     ]
    }
   ],
   "source": [
    "# Verify that these parameters generate data in which an average of 46% to 49% of \n",
    "# subjects use contraceptives.\n",
    "\n",
    "print(\"These parameters generate data with an average of {}\".format(np.mean(simulated_Y)))"
   ]
  },
  {
   "cell_type": "code",
   "execution_count": 53,
   "metadata": {
    "deletable": false,
    "editable": false
   },
   "outputs": [
    {
     "data": {
      "text/html": [
       "<p><strong><pre style='display: inline;'>q#1.1</pre></strong> passed!</p>"
      ],
      "text/plain": [
       "q#1.1 results: All test cases passed!"
      ]
     },
     "execution_count": 53,
     "metadata": {},
     "output_type": "execute_result"
    }
   ],
   "source": [
    "grader.check(\"q#1.1\")"
   ]
  },
  {
   "cell_type": "markdown",
   "metadata": {},
   "source": [
    "<!-- BEGIN QUESTION -->\n",
    "\n",
    "<div class='exercise'><b>Q1.2 - Fit Varying-Intercept Model (Simulated Data)</b></div>"
   ]
  },
  {
   "cell_type": "markdown",
   "metadata": {
    "cell_id": "00033-a22e1869-53f7-4d5c-b241-3a4fbc2e059a",
    "deepnote_cell_type": "markdown"
   },
   "source": [
    "Create and fit the varying-intercept model specified above to your simulated data. Reasonably good convergence may require adjustments to the number of tuning samples and the target acceptance rate as suggested by any warnings from PyMC."
   ]
  },
  {
   "cell_type": "code",
   "execution_count": 60,
   "metadata": {
    "cell_id": "00044-81a4500e-ccba-4382-8e47-e9c3303295de",
    "deepnote_cell_type": "code",
    "deepnote_to_be_reexecuted": false,
    "execution_millis": 1959703,
    "execution_start": 1646008045892,
    "source_hash": "720847e7",
    "tags": []
   },
   "outputs": [
    {
     "name": "stdout",
     "output_type": "stream",
     "text": [
      "CPU times: user 71.7 ms, sys: 9.54 ms, total: 81.2 ms\n",
      "Wall time: 84.1 ms\n"
     ]
    }
   ],
   "source": [
    "%%time\n",
    "\n",
    "# your code here\n",
    "\n",
    "with pm.Model() as model:\n",
    "    \n",
    "    # N(0, 100^2)\n",
    "    mu_0 = pm.Normal(\"mu_0\",mu=0,sigma=100)\n",
    "    # Gamma(0.1, 0.1)\n",
    "    tau_0 = pm.Gamma(\"tau_0\",alpha=0.1,beta=0.1)\n",
    "    \n",
    "    B0s = pm.Normal(\"B0s\",mu=mu_0,tau = tau_0,shape=60)\n",
    "    Beta_1 = pm.Normal(\"Beta_1\",mu=0,sigma=100)\n",
    "    Beta_2 = pm.Normal(\"Beta_2\",mu=0,sigma=100)\n",
    "    Beta_3 = pm.Normal(\"Beta_3\",mu=0,sigma=100)\n",
    "    \n",
    "    #p_logit = pm.Deterministic(\"$P_i$\", pm.math.invlogit(B0s[df_train.district-1] + Beta_1*df_train.urban + Beta_2*df_train['living.children'] + Beta_3*df_train.age_mean))\n",
    "    \n",
    "    our_likelihood = pm.Bernoulli('our_likelihood', logit_p=B0s[df_train.district] + Beta_1*df_train.urban + Beta_2*df_train['living.children'] + Beta_3*df_train.age_mean, observed=simulated_Y)"
   ]
  },
  {
   "cell_type": "markdown",
   "metadata": {},
   "source": [
    "<!-- BEGIN QUESTION -->\n",
    "\n",
    "<div class='exercise'><b>Q1.3 - Convergence Diagnostics</b></div>"
   ]
  },
  {
   "cell_type": "markdown",
   "metadata": {
    "cell_id": "00033-a22e1869-53f7-4d5c-b241-3a4fbc2e059a",
    "deepnote_cell_type": "markdown"
   },
   "source": [
    "Plot the trace plots of the MCMC sampler for the parameters $\\mu_0, \\frac{1}{\\sigma^2_0}\\text{ (a.k.a., }\\tau_0\\text{)}, \\beta_1, \\beta_2, \\beta_3$. Based on these and the R-hat values, does it look like the samplers converged? Explain your reasoning.\n",
    "\n",
    "\n",
    "**Hint:** Use the Arviz `plot_trace()` function"
   ]
  },
  {
   "cell_type": "markdown",
   "metadata": {},
   "source": [
    "_Type your answer here, replacing this text._"
   ]
  },
  {
   "cell_type": "code",
   "execution_count": 61,
   "metadata": {
    "cell_id": "00048-5399d186-d821-44be-a572-c92880a2535a",
    "deepnote_cell_type": "code",
    "deepnote_to_be_reexecuted": false,
    "execution_millis": 23319,
    "execution_start": 1646010027957,
    "source_hash": "165ef187",
    "tags": []
   },
   "outputs": [
    {
     "name": "stderr",
     "output_type": "stream",
     "text": [
      "Only 10 samples in chain.\n",
      "Auto-assigning NUTS sampler...\n",
      "Initializing NUTS using jitter+adapt_diag...\n",
      "Multiprocess sampling (4 chains in 4 jobs)\n",
      "NUTS: [mu_0, tau_0, B0s, Beta_1, Beta_2, Beta_3]\n"
     ]
    },
    {
     "data": {
      "text/html": [
       "\n",
       "<style>\n",
       "    /* Turns off some styling */\n",
       "    progress {\n",
       "        /* gets rid of default border in Firefox and Opera. */\n",
       "        border: none;\n",
       "        /* Needs to be in here for Safari polyfill so background images work as expected. */\n",
       "        background-size: auto;\n",
       "    }\n",
       "    progress:not([value]), progress:not([value])::-webkit-progress-bar {\n",
       "        background: repeating-linear-gradient(45deg, #7e7e7e, #7e7e7e 10px, #5c5c5c 10px, #5c5c5c 20px);\n",
       "    }\n",
       "    .progress-bar-interrupted, .progress-bar-interrupted::-webkit-progress-bar {\n",
       "        background: #F44336;\n",
       "    }\n",
       "</style>\n"
      ],
      "text/plain": [
       "<IPython.core.display.HTML object>"
      ]
     },
     "metadata": {},
     "output_type": "display_data"
    },
    {
     "data": {
      "text/html": [
       "\n",
       "    <div>\n",
       "      <progress value='8040' class='' max='8040' style='width:300px; height:20px; vertical-align: middle;'></progress>\n",
       "      100.00% [8040/8040 00:48&lt;00:00 Sampling 4 chains, 0 divergences]\n",
       "    </div>\n",
       "    "
      ],
      "text/plain": [
       "<IPython.core.display.HTML object>"
      ]
     },
     "metadata": {},
     "output_type": "display_data"
    },
    {
     "name": "stderr",
     "output_type": "stream",
     "text": [
      "Sampling 4 chains for 2_000 tune and 10 draw iterations (8_000 + 40 draws total) took 82 seconds.\n"
     ]
    },
    {
     "ename": "TypeError",
     "evalue": "dict_to_dataset() got an unexpected keyword argument 'default_dims'",
     "output_type": "error",
     "traceback": [
      "\u001b[0;31m---------------------------------------------------------------------------\u001b[0m",
      "\u001b[0;31mTypeError\u001b[0m                                 Traceback (most recent call last)",
      "File \u001b[0;32m<timed exec>:11\u001b[0m\n",
      "File \u001b[0;32m/opt/anaconda3/lib/python3.9/site-packages/pymc/sampling/mcmc.py:612\u001b[0m, in \u001b[0;36msample\u001b[0;34m(draws, step, init, n_init, initvals, trace, chains, cores, tune, progressbar, model, random_seed, discard_tuned_samples, compute_convergence_checks, callback, jitter_max_retries, return_inferencedata, keep_warning_stat, idata_kwargs, mp_ctx, **kwargs)\u001b[0m\n\u001b[1;32m    610\u001b[0m \u001b[38;5;28;01mif\u001b[39;00m idata_kwargs:\n\u001b[1;32m    611\u001b[0m     ikwargs\u001b[38;5;241m.\u001b[39mupdate(idata_kwargs)\n\u001b[0;32m--> 612\u001b[0m idata \u001b[38;5;241m=\u001b[39m \u001b[43mpm\u001b[49m\u001b[38;5;241;43m.\u001b[39;49m\u001b[43mto_inference_data\u001b[49m\u001b[43m(\u001b[49m\u001b[43mmtrace\u001b[49m\u001b[43m,\u001b[49m\u001b[43m \u001b[49m\u001b[38;5;241;43m*\u001b[39;49m\u001b[38;5;241;43m*\u001b[39;49m\u001b[43mikwargs\u001b[49m\u001b[43m)\u001b[49m\n\u001b[1;32m    614\u001b[0m \u001b[38;5;28;01mif\u001b[39;00m compute_convergence_checks:\n\u001b[1;32m    615\u001b[0m     \u001b[38;5;28;01mif\u001b[39;00m draws \u001b[38;5;241m-\u001b[39m tune \u001b[38;5;241m<\u001b[39m \u001b[38;5;241m100\u001b[39m:\n",
      "File \u001b[0;32m/opt/anaconda3/lib/python3.9/site-packages/pymc/backends/arviz.py:485\u001b[0m, in \u001b[0;36mto_inference_data\u001b[0;34m(trace, prior, posterior_predictive, log_likelihood, coords, dims, sample_dims, model, save_warmup, include_transformed)\u001b[0m\n\u001b[1;32m    482\u001b[0m \u001b[38;5;28;01mif\u001b[39;00m \u001b[38;5;28misinstance\u001b[39m(trace, InferenceData):\n\u001b[1;32m    483\u001b[0m     \u001b[38;5;28;01mreturn\u001b[39;00m trace\n\u001b[0;32m--> 485\u001b[0m \u001b[38;5;28;01mreturn\u001b[39;00m \u001b[43mInferenceDataConverter\u001b[49m\u001b[43m(\u001b[49m\n\u001b[1;32m    486\u001b[0m \u001b[43m    \u001b[49m\u001b[43mtrace\u001b[49m\u001b[38;5;241;43m=\u001b[39;49m\u001b[43mtrace\u001b[49m\u001b[43m,\u001b[49m\n\u001b[1;32m    487\u001b[0m \u001b[43m    \u001b[49m\u001b[43mprior\u001b[49m\u001b[38;5;241;43m=\u001b[39;49m\u001b[43mprior\u001b[49m\u001b[43m,\u001b[49m\n\u001b[1;32m    488\u001b[0m \u001b[43m    \u001b[49m\u001b[43mposterior_predictive\u001b[49m\u001b[38;5;241;43m=\u001b[39;49m\u001b[43mposterior_predictive\u001b[49m\u001b[43m,\u001b[49m\n\u001b[1;32m    489\u001b[0m \u001b[43m    \u001b[49m\u001b[43mlog_likelihood\u001b[49m\u001b[38;5;241;43m=\u001b[39;49m\u001b[43mlog_likelihood\u001b[49m\u001b[43m,\u001b[49m\n\u001b[1;32m    490\u001b[0m \u001b[43m    \u001b[49m\u001b[43mcoords\u001b[49m\u001b[38;5;241;43m=\u001b[39;49m\u001b[43mcoords\u001b[49m\u001b[43m,\u001b[49m\n\u001b[1;32m    491\u001b[0m \u001b[43m    \u001b[49m\u001b[43mdims\u001b[49m\u001b[38;5;241;43m=\u001b[39;49m\u001b[43mdims\u001b[49m\u001b[43m,\u001b[49m\n\u001b[1;32m    492\u001b[0m \u001b[43m    \u001b[49m\u001b[43msample_dims\u001b[49m\u001b[38;5;241;43m=\u001b[39;49m\u001b[43msample_dims\u001b[49m\u001b[43m,\u001b[49m\n\u001b[1;32m    493\u001b[0m \u001b[43m    \u001b[49m\u001b[43mmodel\u001b[49m\u001b[38;5;241;43m=\u001b[39;49m\u001b[43mmodel\u001b[49m\u001b[43m,\u001b[49m\n\u001b[1;32m    494\u001b[0m \u001b[43m    \u001b[49m\u001b[43msave_warmup\u001b[49m\u001b[38;5;241;43m=\u001b[39;49m\u001b[43msave_warmup\u001b[49m\u001b[43m,\u001b[49m\n\u001b[1;32m    495\u001b[0m \u001b[43m    \u001b[49m\u001b[43minclude_transformed\u001b[49m\u001b[38;5;241;43m=\u001b[39;49m\u001b[43minclude_transformed\u001b[49m\u001b[43m,\u001b[49m\n\u001b[1;32m    496\u001b[0m \u001b[43m\u001b[49m\u001b[43m)\u001b[49m\u001b[38;5;241;43m.\u001b[39;49m\u001b[43mto_inference_data\u001b[49m\u001b[43m(\u001b[49m\u001b[43m)\u001b[49m\n",
      "File \u001b[0;32m/opt/anaconda3/lib/python3.9/site-packages/pymc/backends/arviz.py:409\u001b[0m, in \u001b[0;36mInferenceDataConverter.to_inference_data\u001b[0;34m(self)\u001b[0m\n\u001b[1;32m    396\u001b[0m \u001b[38;5;28;01mdef\u001b[39;00m \u001b[38;5;21mto_inference_data\u001b[39m(\u001b[38;5;28mself\u001b[39m):\n\u001b[1;32m    397\u001b[0m     \u001b[38;5;124;03m\"\"\"Convert all available data to an InferenceData object.\u001b[39;00m\n\u001b[1;32m    398\u001b[0m \n\u001b[1;32m    399\u001b[0m \u001b[38;5;124;03m    Note that if groups can not be created (e.g., there is no `trace`, so\u001b[39;00m\n\u001b[1;32m    400\u001b[0m \u001b[38;5;124;03m    the `posterior` and `sample_stats` can not be extracted), then the InferenceData\u001b[39;00m\n\u001b[1;32m    401\u001b[0m \u001b[38;5;124;03m    will not have those groups.\u001b[39;00m\n\u001b[1;32m    402\u001b[0m \u001b[38;5;124;03m    \"\"\"\u001b[39;00m\n\u001b[1;32m    403\u001b[0m     id_dict \u001b[38;5;241m=\u001b[39m {\n\u001b[1;32m    404\u001b[0m         \u001b[38;5;124m\"\u001b[39m\u001b[38;5;124mposterior\u001b[39m\u001b[38;5;124m\"\u001b[39m: \u001b[38;5;28mself\u001b[39m\u001b[38;5;241m.\u001b[39mposterior_to_xarray(),\n\u001b[1;32m    405\u001b[0m         \u001b[38;5;124m\"\u001b[39m\u001b[38;5;124msample_stats\u001b[39m\u001b[38;5;124m\"\u001b[39m: \u001b[38;5;28mself\u001b[39m\u001b[38;5;241m.\u001b[39msample_stats_to_xarray(),\n\u001b[1;32m    406\u001b[0m         \u001b[38;5;124m\"\u001b[39m\u001b[38;5;124mposterior_predictive\u001b[39m\u001b[38;5;124m\"\u001b[39m: \u001b[38;5;28mself\u001b[39m\u001b[38;5;241m.\u001b[39mposterior_predictive_to_xarray(),\n\u001b[1;32m    407\u001b[0m         \u001b[38;5;124m\"\u001b[39m\u001b[38;5;124mpredictions\u001b[39m\u001b[38;5;124m\"\u001b[39m: \u001b[38;5;28mself\u001b[39m\u001b[38;5;241m.\u001b[39mpredictions_to_xarray(),\n\u001b[1;32m    408\u001b[0m         \u001b[38;5;241m*\u001b[39m\u001b[38;5;241m*\u001b[39m\u001b[38;5;28mself\u001b[39m\u001b[38;5;241m.\u001b[39mpriors_to_xarray(),\n\u001b[0;32m--> 409\u001b[0m         \u001b[38;5;124m\"\u001b[39m\u001b[38;5;124mobserved_data\u001b[39m\u001b[38;5;124m\"\u001b[39m: \u001b[38;5;28;43mself\u001b[39;49m\u001b[38;5;241;43m.\u001b[39;49m\u001b[43mobserved_data_to_xarray\u001b[49m\u001b[43m(\u001b[49m\u001b[43m)\u001b[49m,\n\u001b[1;32m    410\u001b[0m     }\n\u001b[1;32m    411\u001b[0m     \u001b[38;5;28;01mif\u001b[39;00m \u001b[38;5;28mself\u001b[39m\u001b[38;5;241m.\u001b[39mpredictions:\n\u001b[1;32m    412\u001b[0m         id_dict[\u001b[38;5;124m\"\u001b[39m\u001b[38;5;124mpredictions_constant_data\u001b[39m\u001b[38;5;124m\"\u001b[39m] \u001b[38;5;241m=\u001b[39m \u001b[38;5;28mself\u001b[39m\u001b[38;5;241m.\u001b[39mconstant_data_to_xarray()\n",
      "File \u001b[0;32m/opt/anaconda3/lib/python3.9/site-packages/arviz/data/base.py:46\u001b[0m, in \u001b[0;36mrequires.__call__.<locals>.wrapped\u001b[0;34m(cls, *args, **kwargs)\u001b[0m\n\u001b[1;32m     44\u001b[0m     \u001b[38;5;28;01mif\u001b[39;00m \u001b[38;5;28mall\u001b[39m([\u001b[38;5;28mgetattr\u001b[39m(\u001b[38;5;28mcls\u001b[39m, prop_i) \u001b[38;5;129;01mis\u001b[39;00m \u001b[38;5;28;01mNone\u001b[39;00m \u001b[38;5;28;01mfor\u001b[39;00m prop_i \u001b[38;5;129;01min\u001b[39;00m prop]):\n\u001b[1;32m     45\u001b[0m         \u001b[38;5;28;01mreturn\u001b[39;00m \u001b[38;5;28;01mNone\u001b[39;00m\n\u001b[0;32m---> 46\u001b[0m \u001b[38;5;28;01mreturn\u001b[39;00m \u001b[43mfunc\u001b[49m\u001b[43m(\u001b[49m\u001b[38;5;28;43mcls\u001b[39;49m\u001b[43m,\u001b[49m\u001b[43m \u001b[49m\u001b[38;5;241;43m*\u001b[39;49m\u001b[43margs\u001b[49m\u001b[43m,\u001b[49m\u001b[43m \u001b[49m\u001b[38;5;241;43m*\u001b[39;49m\u001b[38;5;241;43m*\u001b[39;49m\u001b[43mkwargs\u001b[49m\u001b[43m)\u001b[49m\n",
      "File \u001b[0;32m/opt/anaconda3/lib/python3.9/site-packages/arviz/data/base.py:46\u001b[0m, in \u001b[0;36mrequires.__call__.<locals>.wrapped\u001b[0;34m(cls, *args, **kwargs)\u001b[0m\n\u001b[1;32m     44\u001b[0m     \u001b[38;5;28;01mif\u001b[39;00m \u001b[38;5;28mall\u001b[39m([\u001b[38;5;28mgetattr\u001b[39m(\u001b[38;5;28mcls\u001b[39m, prop_i) \u001b[38;5;129;01mis\u001b[39;00m \u001b[38;5;28;01mNone\u001b[39;00m \u001b[38;5;28;01mfor\u001b[39;00m prop_i \u001b[38;5;129;01min\u001b[39;00m prop]):\n\u001b[1;32m     45\u001b[0m         \u001b[38;5;28;01mreturn\u001b[39;00m \u001b[38;5;28;01mNone\u001b[39;00m\n\u001b[0;32m---> 46\u001b[0m \u001b[38;5;28;01mreturn\u001b[39;00m \u001b[43mfunc\u001b[49m\u001b[43m(\u001b[49m\u001b[38;5;28;43mcls\u001b[39;49m\u001b[43m,\u001b[49m\u001b[43m \u001b[49m\u001b[38;5;241;43m*\u001b[39;49m\u001b[43margs\u001b[49m\u001b[43m,\u001b[49m\u001b[43m \u001b[49m\u001b[38;5;241;43m*\u001b[39;49m\u001b[38;5;241;43m*\u001b[39;49m\u001b[43mkwargs\u001b[49m\u001b[43m)\u001b[49m\n",
      "File \u001b[0;32m/opt/anaconda3/lib/python3.9/site-packages/pymc/backends/arviz.py:373\u001b[0m, in \u001b[0;36mInferenceDataConverter.observed_data_to_xarray\u001b[0;34m(self)\u001b[0m\n\u001b[1;32m    371\u001b[0m \u001b[38;5;28;01mif\u001b[39;00m \u001b[38;5;28mself\u001b[39m\u001b[38;5;241m.\u001b[39mpredictions:\n\u001b[1;32m    372\u001b[0m     \u001b[38;5;28;01mreturn\u001b[39;00m \u001b[38;5;28;01mNone\u001b[39;00m\n\u001b[0;32m--> 373\u001b[0m \u001b[38;5;28;01mreturn\u001b[39;00m \u001b[43mdict_to_dataset\u001b[49m\u001b[43m(\u001b[49m\n\u001b[1;32m    374\u001b[0m \u001b[43m    \u001b[49m\u001b[38;5;28;43mself\u001b[39;49m\u001b[38;5;241;43m.\u001b[39;49m\u001b[43mobservations\u001b[49m\u001b[43m,\u001b[49m\n\u001b[1;32m    375\u001b[0m \u001b[43m    \u001b[49m\u001b[43mlibrary\u001b[49m\u001b[38;5;241;43m=\u001b[39;49m\u001b[43mpymc\u001b[49m\u001b[43m,\u001b[49m\n\u001b[1;32m    376\u001b[0m \u001b[43m    \u001b[49m\u001b[43mcoords\u001b[49m\u001b[38;5;241;43m=\u001b[39;49m\u001b[38;5;28;43mself\u001b[39;49m\u001b[38;5;241;43m.\u001b[39;49m\u001b[43mcoords\u001b[49m\u001b[43m,\u001b[49m\n\u001b[1;32m    377\u001b[0m \u001b[43m    \u001b[49m\u001b[43mdims\u001b[49m\u001b[38;5;241;43m=\u001b[39;49m\u001b[38;5;28;43mself\u001b[39;49m\u001b[38;5;241;43m.\u001b[39;49m\u001b[43mdims\u001b[49m\u001b[43m,\u001b[49m\n\u001b[1;32m    378\u001b[0m \u001b[43m    \u001b[49m\u001b[43mdefault_dims\u001b[49m\u001b[38;5;241;43m=\u001b[39;49m\u001b[43m[\u001b[49m\u001b[43m]\u001b[49m\u001b[43m,\u001b[49m\n\u001b[1;32m    379\u001b[0m \u001b[43m\u001b[49m\u001b[43m)\u001b[49m\n",
      "\u001b[0;31mTypeError\u001b[0m: dict_to_dataset() got an unexpected keyword argument 'default_dims'"
     ]
    }
   ],
   "source": [
    "%%time \n",
    "# your code here\n",
    "\n",
    "# We use the sample function to draw samples from the posterior distribution \n",
    "# Number of samples to draw: 2000\n",
    "# `tune=2000`: number of tuning samples to discard at the beginning of the sampling process\n",
    "# `target_accept=.9` for the target acceptance rate of the \n",
    "#  Metropolis-Hastings algorithm used for sampling\n",
    "with model:\n",
    "    \n",
    "    # The trace variable will contain the samples drawn from the posterior distribution\n",
    "    trace = pm.sample(draws=10, chains=4, tune=2000, target_accept=.98)\n",
    "    # plot the trace plot of the mu0 parameter using Arviz\n",
    "    az.plot_trace(trace, var_names=[\"mu0\", \"tau_0\", \"Beta_1\", \"Beta_2\", \"Beta_3\"])\n",
    "    plt.figure(figsize=(30,30));\n",
    "    plt.show()\n",
    "\n",
    "    \n",
    " \n"
   ]
  },
  {
   "cell_type": "markdown",
   "metadata": {},
   "source": [
    "<!-- BEGIN QUESTION -->\n",
    "\n",
    "<div class='exercise'><b>Q1.4 - Inspecting Posteriors</b></div>"
   ]
  },
  {
   "cell_type": "markdown",
   "metadata": {
    "cell_id": "00033-a22e1869-53f7-4d5c-b241-3a4fbc2e059a",
    "deepnote_cell_type": "markdown"
   },
   "source": [
    "Plot histograms of the posterior distributions for the parameters $\\beta_{0,9}$, $\\beta_{0,19}$, $\\beta_{0,29}$, ..., $\\beta_{0,59}$. Are the actual parameters that you generated contained within these posterior distributions?\n",
    "\n",
    "**Hint: The `az.plot_posterior()` function might be helpful here.**"
   ]
  },
  {
   "cell_type": "markdown",
   "metadata": {},
   "source": [
    "_Type your answer here, replacing this text._"
   ]
  },
  {
   "cell_type": "code",
   "execution_count": 22,
   "metadata": {
    "cell_id": "00052-9091ae99-e3aa-4d56-a2c0-1e5ce8208096",
    "deepnote_cell_type": "code",
    "deepnote_to_be_reexecuted": false,
    "execution_millis": 5607,
    "execution_start": 1646010051479,
    "source_hash": "49ca3c6e",
    "tags": []
   },
   "outputs": [
    {
     "ename": "NameError",
     "evalue": "name 'trace' is not defined",
     "output_type": "error",
     "traceback": [
      "\u001b[0;31m---------------------------------------------------------------------------\u001b[0m",
      "\u001b[0;31mNameError\u001b[0m                                 Traceback (most recent call last)",
      "Cell \u001b[0;32mIn[22], line 2\u001b[0m\n\u001b[1;32m      1\u001b[0m \u001b[38;5;66;03m# your code here\u001b[39;00m\n\u001b[0;32m----> 2\u001b[0m az\u001b[38;5;241m.\u001b[39mplot_posterior(\u001b[43mtrace\u001b[49m, var_names\u001b[38;5;241m=\u001b[39m[\u001b[38;5;124m'\u001b[39m\u001b[38;5;124mBeta_0\u001b[39m\u001b[38;5;124m'\u001b[39m])\n",
      "\u001b[0;31mNameError\u001b[0m: name 'trace' is not defined"
     ]
    }
   ],
   "source": [
    "# your code here\n",
    "az.plot_posterior(trace, var_names=['Beta_0']);"
   ]
  },
  {
   "cell_type": "markdown",
   "metadata": {
    "cell_id": "00070-98df4d09-fa1a-4971-8751-e1e3cbed918c",
    "deepnote_cell_type": "markdown"
   },
   "source": [
    "<a id=\"part2\"></a>\n",
    "    \n",
    "<!-- <div class=\"alert alert-block alert-danger\" style=\"color:black;background-color:#E7F4FA\"> -->\n",
    "\n",
    "### <div class='exercise'>Part 2: Varying-Intercept Model (Real Data)</div> \n",
    "\n",
    "[Return to contents](#contents)\n"
   ]
  },
  {
   "cell_type": "markdown",
   "metadata": {},
   "source": [
    "<!-- BEGIN QUESTION -->\n",
    "\n",
    "<div class='exercise'><b>Q2.1 - Fit Varying-Intercept Model (Real Data)</b></div>"
   ]
  },
  {
   "cell_type": "markdown",
   "metadata": {
    "cell_id": "00033-a22e1869-53f7-4d5c-b241-3a4fbc2e059a",
    "deepnote_cell_type": "markdown"
   },
   "source": [
    "Now we'll fit our model to the *actual* data. Construct and fit the varying-intercept model to the real training data."
   ]
  },
  {
   "cell_type": "code",
   "execution_count": null,
   "metadata": {},
   "outputs": [],
   "source": [
    "df_train.head()"
   ]
  },
  {
   "cell_type": "code",
   "execution_count": null,
   "metadata": {
    "cell_id": "00056-57b57c69-1a38-4758-882d-4b2655cb3fe5",
    "deepnote_cell_type": "code",
    "deepnote_to_be_reexecuted": false,
    "execution_millis": 526351,
    "execution_start": 1646010057094,
    "source_hash": "13957af3",
    "tags": []
   },
   "outputs": [],
   "source": [
    "# your code here\n",
    "\n",
    "# Storing the real dependent variable\n",
    "real_train_Y = df_train['contraceptive_use']\n",
    "\n",
    "with pm.Model() as model:\n",
    "    \n",
    "    # N(0, 100^2)\n",
    "    mu_0 = pm.Normal(\"mu_0\",mu=0,sigma=100)\n",
    "    # Gamma(0.1, 0.1)\n",
    "    tau_0 = pm.Gamma(\"tau_0\",0.1,0.1)\n",
    "    \n",
    "    B0s = pm.Normal(\"Beta_0\",mu=mu_0,tau = tau_0,shape=60)\n",
    "    Beta_1 = pm.Normal(\"Beta_1\",mu=0,sigma=100)\n",
    "    Beta_2 = pm.Normal(\"Beta_2\",mu=0,sigma=100)\n",
    "    Beta_3 = pm.Normal(\"Beta_3\",mu=0,sigma=100)\n",
    "    \n",
    "    p_logit = B0s[df_train.district-1] + Beta_1*df_train.urban + Beta_2*df_train['living.children'] + Beta_3*df_train.age_mean\n",
    "    \n",
    "    our_likelihood = pm.Bernoulli('our_likelihood', \n",
    "                                  logit_p=p_logit, \n",
    "                                  observed=real_train_Y)"
   ]
  },
  {
   "cell_type": "markdown",
   "metadata": {},
   "source": [
    "<!-- BEGIN QUESTION -->\n",
    "\n",
    "<div class='exercise'><b>Q2.2 - Convergence Diagnostics</b></div>"
   ]
  },
  {
   "cell_type": "markdown",
   "metadata": {
    "cell_id": "00033-a22e1869-53f7-4d5c-b241-3a4fbc2e059a",
    "deepnote_cell_type": "markdown"
   },
   "source": [
    "Check the convergence by examining the trace plots and R-hats, as you did with the simulated data. What do you observe?"
   ]
  },
  {
   "cell_type": "markdown",
   "metadata": {},
   "source": [
    "_Type your answer here, replacing this text._"
   ]
  },
  {
   "cell_type": "code",
   "execution_count": null,
   "metadata": {
    "cell_id": "00059-cbdb7044-347b-4221-9ed5-1fa55ce951c9",
    "deepnote_cell_type": "code",
    "deepnote_to_be_reexecuted": false,
    "execution_millis": 43057,
    "execution_start": 1646010583458,
    "source_hash": "655f3784",
    "tags": []
   },
   "outputs": [],
   "source": [
    "# your code here\n",
    "..."
   ]
  },
  {
   "cell_type": "markdown",
   "metadata": {},
   "source": [
    "<!-- BEGIN QUESTION -->\n",
    "\n",
    "<div class='exercise'><b>Q2.3 - Districts with Highest & Lowest Rates of Contraceptive Usage</b></div>"
   ]
  },
  {
   "cell_type": "markdown",
   "metadata": {
    "cell_id": "00033-a22e1869-53f7-4d5c-b241-3a4fbc2e059a",
    "deepnote_cell_type": "markdown"
   },
   "source": [
    "Based on the posterior means, which district has the highest base rate of contraceptive usage (independent of other factors like urban population)? Which district has the lowest? Explain how you arrived at these conclusions, interpreting any numerical values that played a role in your reasoning."
   ]
  },
  {
   "cell_type": "markdown",
   "metadata": {},
   "source": [
    "_Type your answer here, replacing this text._"
   ]
  },
  {
   "cell_type": "code",
   "execution_count": null,
   "metadata": {
    "cell_id": "00063-86b4bb15-2e4b-429b-802a-cb597d9bbcc4",
    "deepnote_cell_type": "code",
    "deepnote_to_be_reexecuted": false,
    "execution_millis": 15276381,
    "execution_start": 1646010626517,
    "source_hash": "29886fe",
    "tags": []
   },
   "outputs": [],
   "source": [
    "# your code here\n",
    "..."
   ]
  },
  {
   "cell_type": "markdown",
   "metadata": {},
   "source": [
    "<!-- BEGIN QUESTION -->\n",
    "\n",
    "<div class='exercise'><b>Q2.4 - Varying Intercept? Conclusions from Posterior Samples</b></div>"
   ]
  },
  {
   "cell_type": "markdown",
   "metadata": {
    "cell_id": "00033-a22e1869-53f7-4d5c-b241-3a4fbc2e059a",
    "deepnote_cell_type": "markdown"
   },
   "source": [
    "What are the posterior means of $\\mu_0$ and $\\sigma_0$? Do these values offer any evidence in support of or against the varying-intercept model, compared to a model with a single intercept value for all districts? Explain why or why not.\n",
    "\n",
    "\n",
    "**Hint:** Both ArviZ's `plot_posterior` and [`plot_forest()`](https://arviz-devs.github.io/arviz/api/generated/arviz.plot_forest.html) functions will prove useful here."
   ]
  },
  {
   "cell_type": "markdown",
   "metadata": {},
   "source": [
    "_Type your answer here, replacing this text._"
   ]
  },
  {
   "cell_type": "code",
   "execution_count": null,
   "metadata": {
    "cell_id": "00067-25f1d0c0-e087-443d-bd3e-be0d49d072e4",
    "deepnote_cell_type": "code",
    "deepnote_to_be_reexecuted": false,
    "execution_millis": 14508,
    "execution_start": 1646010626521,
    "source_hash": "101d7f7b",
    "tags": []
   },
   "outputs": [],
   "source": [
    "# your code here\n",
    "..."
   ]
  },
  {
   "cell_type": "markdown",
   "metadata": {
    "cell_id": "00070-98df4d09-fa1a-4971-8751-e1e3cbed918c",
    "deepnote_cell_type": "markdown"
   },
   "source": [
    "<a id=\"part3\"></a>\n",
    "    \n",
    "<!-- <div class=\"alert alert-block alert-danger\" style=\"color:black;background-color:#E7F4FA\"> -->\n",
    "\n",
    "## <div class='exercise'>Part 3: Varying-Coefficient Model</div> \n",
    "\n",
    "[Return to contents](#contents)\n"
   ]
  },
  {
   "cell_type": "markdown",
   "metadata": {
    "cell_id": "00071-539e75a4-c042-416d-8820-1573106230fd",
    "deepnote_cell_type": "markdown"
   },
   "source": [
    "The next model we will fit to the contraceptives data is a **varying-coefficients logistic regression** model. Here, in addition to a varying intercept, the coefficients on `living.children`, `age_mean`, and `urban` also vary by district.\n",
    "\n",
    "Prior distribution:\n",
    "\n",
    "$$\n",
    "\\begin{split}\n",
    "\\beta_{0j} &\\sim N(\\mu_0,\\sigma_0^2)\\; \\text{, with} \\;\\; \\mu_0 \\sim N(0,10000)\\; \\text{and} \\; \\; \\frac{1}{\\sigma^2_0} \\sim \\text{Gamma}(0.1,0.1)\n",
    "\\\\\n",
    "\\beta_{1j} &\\sim N(0,\\sigma_1^2)\\; \\text{, with} \\;\\; \\frac{1}{\\sigma^2_1} \\sim \\text{Gamma}(0.1,0.1) \n",
    "\\\\\n",
    "\\beta_{2j} &\\sim N(0,\\sigma_2^2)\\; \\text{, with} \\;\\; \\frac{1}{\\sigma^2_2} \\sim \\text{Gamma}(0.1,0.1)\n",
    "\\\\ \n",
    "\\beta_{3j} &\\sim N(0,\\sigma_3^2)\\; \\text{, with} \\;\\; \\frac{1}{\\sigma^2_3} \\sim \\text{Gamma}(0.1,0.1)\n",
    "\\\\\n",
    "\\end{split}\n",
    "$$\n",
    "\n",
    "Model for data:\n",
    "\n",
    "$$\n",
    "\\begin{split}\n",
    "Y_{ij} &\\sim \\text{Bernoulli}(p_{ij})\n",
    "\\\\ \\\\\n",
    "\\text{logit}\\:p_{ij} &= \\beta_{0j} + \\beta_{1j} \\times \\text{urban} + \\beta_{2j} \\times \\text{living.children} + \\beta_{3j} \\times \\text{age-mean}\n",
    "\\\\ \\\\\n",
    "\\end{split}\n",
    "$$\n",
    "\n",
    "**PLEASE NOTE:**\n",
    "\n",
    "* The name \"varying coefficient model\" is used here to distinguish the Q3 model from the \"varying intercept\" model in Q2, but observe from the specification about that **BOTH** intercepts *and* coefficients vary in this Q3 model.\n",
    "* Once again, the $\\text{Gamma}$ distribution uses the $\\text{Gamma}(\\alpha, \\beta)$ parametrization, where $\\alpha$ is the shape and $\\beta$ is the rate. "
   ]
  },
  {
   "cell_type": "markdown",
   "metadata": {},
   "source": [
    "<!-- BEGIN QUESTION -->\n",
    "\n",
    "<div class='exercise'><b>Q3.1 - Fit Varying Coefficient Model</b></div>"
   ]
  },
  {
   "cell_type": "markdown",
   "metadata": {
    "cell_id": "00072-73f175bc-c952-4217-96ac-4e0a857139cf",
    "deepnote_cell_type": "markdown"
   },
   "source": [
    "Fit the varying-coefficients model described above to the real training data."
   ]
  },
  {
   "cell_type": "code",
   "execution_count": null,
   "metadata": {
    "cell_id": "00075-262b294c-765f-42d4-aee7-6d867790e0d4",
    "deepnote_cell_type": "code",
    "deepnote_to_be_reexecuted": false,
    "execution_millis": 982412,
    "execution_start": 1646010640679,
    "source_hash": "8d4fd657",
    "tags": []
   },
   "outputs": [],
   "source": [
    "# your code here\n",
    "..."
   ]
  },
  {
   "cell_type": "markdown",
   "metadata": {},
   "source": [
    "<!-- BEGIN QUESTION -->\n",
    "\n",
    "<div class='exercise'><b>Q3.2 - Convergence Diagnostics</b></div>"
   ]
  },
  {
   "cell_type": "markdown",
   "metadata": {
    "cell_id": "00072-73f175bc-c952-4217-96ac-4e0a857139cf",
    "deepnote_cell_type": "markdown"
   },
   "source": [
    "Check the convergence of your varying-coefficients model by examining the trace plots and R-hats, as you did with the varying-intercept models earlier. What do you observe?"
   ]
  },
  {
   "cell_type": "markdown",
   "metadata": {},
   "source": [
    "_Type your answer here, replacing this text._"
   ]
  },
  {
   "cell_type": "code",
   "execution_count": null,
   "metadata": {
    "cell_id": "00078-0ce2b5b9-117b-43c1-89ab-1eaef8d4e2ca",
    "deepnote_cell_type": "code",
    "deepnote_to_be_reexecuted": false,
    "execution_millis": 96437,
    "execution_start": 1646011623092,
    "source_hash": "dcc74567",
    "tags": []
   },
   "outputs": [],
   "source": [
    "# your code here\n",
    "..."
   ]
  },
  {
   "cell_type": "markdown",
   "metadata": {},
   "source": [
    "<!-- BEGIN QUESTION -->\n",
    "\n",
    "<div class='exercise'><b>Q3.3 - Distribution of Posterior Means & HDIs</b></div>"
   ]
  },
  {
   "cell_type": "markdown",
   "metadata": {
    "cell_id": "00072-73f175bc-c952-4217-96ac-4e0a857139cf",
    "deepnote_cell_type": "markdown"
   },
   "source": [
    "Plot the distributions of posterior means and the 95% highest posterior density intervals (HDIs) for the intercepts and coefficients for each district. What do you conclude from these graphs?\n",
    "\n",
    "**HINT:** The ArviZ [`plot_forest()`](https://arviz-devs.github.io/arviz/api/generated/arviz.plot_forest.html) function is very well-suited for this task."
   ]
  },
  {
   "cell_type": "markdown",
   "metadata": {},
   "source": [
    "_Type your answer here, replacing this text._"
   ]
  },
  {
   "cell_type": "code",
   "execution_count": null,
   "metadata": {
    "cell_id": "00082-1b6f4064-62eb-4af6-b400-9b08eeb2ddd8",
    "deepnote_cell_type": "code",
    "deepnote_to_be_reexecuted": false,
    "execution_millis": 81433,
    "execution_start": 1646011719055,
    "source_hash": "1fdb1e69",
    "tags": []
   },
   "outputs": [],
   "source": [
    "# your code here\n",
    "..."
   ]
  },
  {
   "cell_type": "markdown",
   "metadata": {
    "cell_id": "00070-98df4d09-fa1a-4971-8751-e1e3cbed918c",
    "deepnote_cell_type": "markdown"
   },
   "source": [
    "<a id=\"part4\"></a>\n",
    "    \n",
    "<!-- <div class=\"alert alert-block alert-danger\" style=\"color:black;background-color:#E7F4FA\"> -->\n",
    "\n",
    "## <div class='exercise'>Part 4: Predictions & Model Selection</div> \n",
    "\n",
    "[Return to contents](#contents)"
   ]
  },
  {
   "cell_type": "markdown",
   "metadata": {},
   "source": [
    "<!-- BEGIN QUESTION -->\n",
    "\n",
    "<div class='exercise'><b>Q4.1 - Create and Evaluate Classifiers</b></div>"
   ]
  },
  {
   "cell_type": "markdown",
   "metadata": {
    "cell_id": "00072-73f175bc-c952-4217-96ac-4e0a857139cf",
    "deepnote_cell_type": "markdown"
   },
   "source": [
    "Build two Bayesian logistic regression classifiers: one from your varying-intercept model (Q2) and another from your varying-coefficients model (Q3). Then, use each model to make predictions on your training and test sets.\n",
    "\n",
    "* For each of the two classifiers, **on both train and test data separately**, report:\n",
    "    * percentage of observations predicted to be `1` (i.e., uses contraceptives)\n",
    "    * accuracy score\n",
    "\n",
    "Finally, briefly describe the approach you used to implement these classifiers.\n",
    "  \n",
    "**Hint:** These classification models will make use of the samples generated by your PyMC models above, but they need not themselves be PyMC model objects. They can also be constructed out of simple Python functions of your own design."
   ]
  },
  {
   "cell_type": "markdown",
   "metadata": {},
   "source": [
    "_Type your answer here, replacing this text._"
   ]
  },
  {
   "cell_type": "code",
   "execution_count": null,
   "metadata": {
    "tags": []
   },
   "outputs": [],
   "source": [
    "# your code here\n",
    "..."
   ]
  },
  {
   "cell_type": "markdown",
   "metadata": {},
   "source": [
    "<!-- BEGIN QUESTION -->\n",
    "\n",
    "<div class='exercise'><b>Q4.2 - Comparison to Naive Model</b></div>"
   ]
  },
  {
   "cell_type": "markdown",
   "metadata": {},
   "source": [
    "Report the same four metrics from the previous question for a 3rd, \"naive\" model that always predicts the most frequent outcome observed in the training data."
   ]
  },
  {
   "cell_type": "code",
   "execution_count": null,
   "metadata": {
    "tags": []
   },
   "outputs": [],
   "source": [
    "# your code here\n",
    "..."
   ]
  },
  {
   "cell_type": "markdown",
   "metadata": {},
   "source": [
    "<!-- BEGIN QUESTION -->\n",
    "\n",
    "<div class='exercise'><b>Q4.3 - Model Selection</b></div>"
   ]
  },
  {
   "cell_type": "markdown",
   "metadata": {},
   "source": [
    "What do you conclude from the results of 4.1 & 4.2? Which model appears to be the best (i.e. varying-intercept, varying-coefficient, or naive), and what is your rationale?"
   ]
  },
  {
   "cell_type": "markdown",
   "metadata": {},
   "source": [
    "_Type your answer here, replacing this text._"
   ]
  },
  {
   "cell_type": "markdown",
   "metadata": {},
   "source": [
    "<!-- BEGIN QUESTION -->\n",
    "\n",
    "<div class='exercise'><b>Q4.4 Wrap-up</b></div>"
   ]
  },
  {
   "cell_type": "markdown",
   "metadata": {},
   "source": [
    "* In a few sentences, please describe the aspect(s) of the assignment you found most challenging. This could be conceptual and/or related to coding and implementation.\n",
    "\n",
    "* How many hours did you spend working on this assignment? Store this as an int or float in `time_spent_on_hw`"
   ]
  },
  {
   "cell_type": "markdown",
   "metadata": {},
   "source": [
    "_Type your answer here, replacing this text._"
   ]
  },
  {
   "cell_type": "code",
   "execution_count": null,
   "metadata": {
    "tags": []
   },
   "outputs": [],
   "source": [
    "time_spent_on_hw = ..."
   ]
  },
  {
   "cell_type": "code",
   "execution_count": null,
   "metadata": {
    "deletable": false,
    "editable": false
   },
   "outputs": [],
   "source": [
    "grader.check(\"q4.4\")"
   ]
  },
  {
   "cell_type": "code",
   "execution_count": null,
   "metadata": {},
   "outputs": [],
   "source": [
    "time_end = time.time()\n",
    "print(f\"It took {(time_end - time_start)/60:.2f} minutes for this notebook to run\")"
   ]
  },
  {
   "cell_type": "markdown",
   "metadata": {},
   "source": [
    "**This concludes HW2. Thank you!**"
   ]
  },
  {
   "cell_type": "code",
   "execution_count": null,
   "metadata": {
    "cell_id": "00091-b476d77a-4a80-48ff-891e-235859de886f",
    "deepnote_cell_type": "code",
    "deepnote_to_be_reexecuted": false,
    "execution_millis": 14594723,
    "execution_start": 1646011810090,
    "source_hash": "b623e53d"
   },
   "outputs": [],
   "source": []
  }
 ],
 "metadata": {
  "deepnote": {},
  "deepnote_execution_queue": [],
  "deepnote_notebook_id": "47d4f7cc-2c7d-4a79-8db4-fa8ed64f1baf",
  "kernelspec": {
   "display_name": "Python 3 (ipykernel)",
   "language": "python",
   "name": "python3"
  },
  "language_info": {
   "codemirror_mode": {
    "name": "ipython",
    "version": 3
   },
   "file_extension": ".py",
   "mimetype": "text/x-python",
   "name": "python",
   "nbconvert_exporter": "python",
   "pygments_lexer": "ipython3",
   "version": "3.9.15"
  },
  "otter": {
   "OK_FORMAT": true,
   "tests": {
    "q#1.1": {
     "name": "q#1.1",
     "points": null,
     "suites": [
      {
       "cases": [
        {
         "code": ">>> assert len(simulated_Y) == df_train.shape[0], \"You should have a simulated y for each observation in the training data\"\n>>> assert (np.mean(simulated_Y) >= 0.46) and (np.mean(simulated_Y) <= 0.49), \"Something is off about your simulated y values. The proportion of 1s is outside the expected range.\"\n",
         "hidden": false,
         "locked": false
        }
       ],
       "scored": true,
       "setup": "",
       "teardown": "",
       "type": "doctest"
      }
     ]
    },
    "q4.4": {
     "name": "q4.4",
     "points": null,
     "suites": [
      {
       "cases": [
        {
         "code": ">>> assert float(time_spent_on_hw),\\\n...     \"Please select a time in hours (int or float) to specify how long you spent on this assignment.\"\n",
         "hidden": false,
         "locked": false
        }
       ],
       "scored": true,
       "setup": "",
       "teardown": "",
       "type": "doctest"
      }
     ]
    }
   }
  }
 },
 "nbformat": 4,
 "nbformat_minor": 4
}
