{
 "cells": [
  {
   "cell_type": "code",
   "execution_count": 1,
   "metadata": {
    "deletable": false,
    "editable": false
   },
   "outputs": [],
   "source": [
    "# Initialize Otter\n",
    "import otter\n",
    "grader = otter.Notebook(\"cs109b_hw3.ipynb\")"
   ]
  },
  {
   "cell_type": "markdown",
   "metadata": {},
   "source": [
    "# <img style=\"float: left; padding-right: 10px; width: 45px\" src=\"https://raw.githubusercontent.com/Harvard-IACS/2018-CS109A/master/content/styles/iacs.png\"> Data Science 2: Advanced Topics in Data Science \n",
    "\n",
    "## Homework 3: Artificial Neural Networks, Model Interpretation, and Regularization\n",
    "\n",
    "\n",
    "**Harvard University**<br/>\n",
    "**Spring 2023**<br/>\n",
    "**Instructors**: Mark Glickman & Pavlos Protopapas\n",
    "\n",
    "<hr style=\"height:2pt\">"
   ]
  },
  {
   "cell_type": "code",
   "execution_count": 2,
   "metadata": {
    "scrolled": true
   },
   "outputs": [
    {
     "data": {
      "text/html": [
       "<style>\n",
       "blockquote { background: #AEDE94; }\n",
       "h1 { \n",
       "    padding-top: 25px;\n",
       "    padding-bottom: 25px;\n",
       "    text-align: left; \n",
       "    padding-left: 10px;\n",
       "    background-color: #DDDDDD; \n",
       "    color: black;\n",
       "}\n",
       "h2 { \n",
       "    padding-top: 10px;\n",
       "    padding-bottom: 10px;\n",
       "    text-align: left; \n",
       "    padding-left: 5px;\n",
       "    background-color: #EEEEEE; \n",
       "    color: black;\n",
       "}\n",
       "\n",
       "div.exercise {\n",
       "\tbackground-color: #ffcccc;\n",
       "\tborder-color: #E9967A; \t\n",
       "\tborder-left: 5px solid #800080; \n",
       "\tpadding: 0.5em;\n",
       "}\n",
       "\n",
       "div.exercise-r {\n",
       "\tbackground-color: #fce8e8;\n",
       "\tborder-color: #E9967A; \t\n",
       "\tborder-left: 5px solid #800080; \n",
       "\tpadding: 0.5em;\n",
       "}\n",
       "\n",
       "\n",
       "span.sub-q {\n",
       "\tfont-weight: bold;\n",
       "}\n",
       "div.theme {\n",
       "\tbackground-color: #DDDDDD;\n",
       "\tborder-color: #E9967A; \t\n",
       "\tborder-left: 5px solid #800080; \n",
       "\tpadding: 0.5em;\n",
       "\tfont-size: 18pt;\n",
       "}\n",
       "div.gc { \n",
       "\tbackground-color: #AEDE94;\n",
       "\tborder-color: #E9967A; \t \n",
       "\tborder-left: 5px solid #800080; \n",
       "\tpadding: 0.5em;\n",
       "\tfont-size: 12pt;\n",
       "}\n",
       "p.q1 { \n",
       "    padding-top: 5px;\n",
       "    padding-bottom: 5px;\n",
       "    text-align: left; \n",
       "    padding-left: 5px;\n",
       "    background-color: #EEEEEE; \n",
       "    color: black;\n",
       "}\n",
       "header {\n",
       "   padding-top: 35px;\n",
       "    padding-bottom: 35px;\n",
       "    text-align: left; \n",
       "    padding-left: 10px;\n",
       "    background-color: #DDDDDD; \n",
       "    color: black;\n",
       "}\n",
       "</style>\n",
       "\n"
      ],
      "text/plain": [
       "<IPython.core.display.HTML object>"
      ]
     },
     "execution_count": 2,
     "metadata": {},
     "output_type": "execute_result"
    }
   ],
   "source": [
    "#RUN THIS CELL \n",
    "import requests\n",
    "from IPython.core.display import HTML\n",
    "styles = requests.get(\n",
    "    \"https://raw.githubusercontent.com/Harvard-IACS/2018-CS109A/master/content/styles/cs109.css\"\n",
    ").text\n",
    "HTML(styles)"
   ]
  },
  {
   "cell_type": "code",
   "execution_count": 3,
   "metadata": {},
   "outputs": [
    {
     "name": "stderr",
     "output_type": "stream",
     "text": [
      "2023-03-05 20:47:43.541266: I tensorflow/core/platform/cpu_feature_guard.cc:193] This TensorFlow binary is optimized with oneAPI Deep Neural Network Library (oneDNN) to use the following CPU instructions in performance-critical operations:  AVX2 FMA\n",
      "To enable them in other operations, rebuild TensorFlow with the appropriate compiler flags.\n"
     ]
    }
   ],
   "source": [
    "import random\n",
    "random.seed(109)\n",
    "\n",
    "import os\n",
    "import sys\n",
    "import time\n",
    "\n",
    "import matplotlib.pyplot as plt\n",
    "import numpy as np\n",
    "import pandas as pd\n",
    "import seaborn as sns\n",
    "\n",
    "from sklearn.inspection import permutation_importance\n",
    "from sklearn.linear_model import LogisticRegression\n",
    "from sklearn.metrics import roc_auc_score, accuracy_score\n",
    "from sklearn.model_selection import train_test_split\n",
    "from sklearn.preprocessing import StandardScaler\n",
    "from sklearn.utils import resample\n",
    "\n",
    "# TensorFlow and tf.keras\n",
    "import tensorflow as tf"
   ]
  },
  {
   "cell_type": "code",
   "execution_count": 4,
   "metadata": {},
   "outputs": [],
   "source": [
    "# measure notebook runtime\n",
    "time_start = time.time()"
   ]
  },
  {
   "cell_type": "markdown",
   "metadata": {},
   "source": [
    "<hr>\n",
    "\n",
    "#### Instructions\n",
    "- To submit your assignment follow the instructions given in Canvas.\n",
    "- Plots should be legible and interpretable without having to refer to the code that generated them, including labels for the $x$- and $y$-axes as well as a descriptive title and/or legend when appropriate.\n",
    "- When asked to interpret a visualization, do not simply describe it (e.g., \"the curve has a steep slope up\"), but instead explain what you think the plot *means*.\n",
    "- Autograding tests are mostly to help you debug. The tests are not exhaustive so passing a test is necessary but not sufficient for full credit. \n",
    "- The use of *extremely* inefficient or error-prone code (e.g., copy-pasting nearly identical commands rather than looping) may result in only partial credit.\n",
    "- We have tried to include all the libraries you may need to do the assignment in the imports cell provided below. Please get course staff approval before importing any additional 3rd party libraries.\n",
    "- Enable scrolling output on cells with very long output.\n",
    "- Feel free to add additional code or markdown cells as needed.\n",
    "- Ensure your code runs top to bottom without error and passes all tests by restarting the kernel and running all cells (note that this can take a few minutes). \n",
    "- **You should do a \"Restart Kernel and Run All Cells\" before submitting to ensure (1) your notebook actually runs and (2) all output is visible**\n",
    "\n",
    "<hr>"
   ]
  },
  {
   "cell_type": "markdown",
   "metadata": {},
   "source": [
    "<a id=\"contents\"></a>\n",
    "\n",
    "# Notebook Contents\n",
    "\n",
    "- [**PART 1 [65 pts]: Model interpretation and predictive intervals in ANNs**](#part1)\n",
    "  - [Overview and Data Description](#part1intro)\n",
    "  - [Questions](#part1questions)\n",
    "\n",
    "\n",
    "- [**PART 2 [35 pts]: Kannada MNIST Kaggle competition**](#part2)\n",
    "  - [Problem Statement](#part2intro)\n",
    "  - [The Kannada MNIST Dataset](#part2about)\n",
    "  - [Downloading the Data Files](#part2data)\n",
    "  - [CS109B Kaggle Competition](#part2kaggle)\n",
    "  - [Questions](#part2questions)\n"
   ]
  },
  {
   "cell_type": "markdown",
   "metadata": {},
   "source": [
    "<a id=\"part1\"></a>\n",
    "    \n",
    "<!-- <div class=\"alert alert-block alert-danger\" style=\"color:black;background-color:#E7F4FA\"> -->\n",
    "\n",
    "# PART 1 [65 pts]: Model interpretation and predictive intervals in ANNs\n",
    "\n",
    "[Return to contents](#contents)\n",
    "\n",
    "<a id=\"part1intro\"></a>\n",
    "\n",
    "## Overview and Data Description\n",
    "\n",
    "[Return to contents](#contents)\n",
    "\n",
    "In this problem, you will be building and interpreting models to predict whether a flight was delayed for its arrival. The model will be based on features that can be measured as the flight takes off.\n",
    "\n",
    "We will also estimate the predictive intervals of the model using bootstrapping. We will utilize those predictive intervals to build a new kind of model: a model that refrains from making a prediction when it is not confident.\n",
    "\n",
    "The variable in the original csv are:\n",
    "\n",
    "    \n",
    "**ARRIVAL_DELAY**: the difference between scheduled arrival and actual arrival, in minutes (positive is late, negative is early).\n",
    "\n",
    "**DISTANCE**: the distance between arrival and departure airports, in miles.\n",
    "\n",
    "**SCHEDULED_TIME**: the flight's scheduled travel time in minutes.\n",
    "\n",
    "**MONTH**: the month the flight took off, 1 = January, 2 = February, etc.\n",
    "\n",
    "**SCHED_DEP_HOUR**: the scheduled departure time (the hour of the day).\n",
    "\n",
    "**SCHED_ARR_HOUR**: the scheduled arrival time (the hour of the day).\n",
    "\n",
    "**FLIGHT_COUNT**: the number of flights flying out of the origin airport before noon on a typical day.\n",
    "\n",
    "**DAY_OF_WEEK**: the day of the week, 1 = Monday, 2 = Tuesday, etc.\n",
    "\n",
    "**ORIGIN_AIRPORT**: the airport the flight took off from.\n",
    "\n",
    "**DESTINATION_AIRPORT**: the airport the flight was scheduled to land at.\n",
    "\n",
    "For the airport codes, see: https://www.bts.gov/topics/airlines-and-airports/world-airport-codes\n",
    "\n",
    "To sucessfully complete this part, you will proceed by fitting a NN model, evaluating its accuracy, interpreting the predictors' importance, and finally evaluating the predictive intervals.\n",
    "\n",
    "**NOTE:** the observations were sampled so that roughly half of the observations were delayed and half of the observations were not delayed.\n",
    "\n",
    "<!-- </div> -->"
   ]
  },
  {
   "cell_type": "markdown",
   "metadata": {},
   "source": [
    "<a id=\"part1solutions\"></a>\n",
    "\n",
    "## PART 1 Questions\n",
    "\n",
    "[Return to contents](#contents)\n"
   ]
  },
  {
   "cell_type": "markdown",
   "metadata": {
    "tags": []
   },
   "source": [
    "<div class='exercise-r'>\n",
    "\n",
    "**1.1**  **Preprocess the data**\n",
    "\n",
    "Our first step will be to read in our dataset and preprocess our data.\n",
    "\n",
    "\n",
    "\n",
    "</div>"
   ]
  },
  {
   "cell_type": "markdown",
   "metadata": {
    "tags": []
   },
   "source": [
    "<div class='exercise-r'>\n",
    "\n",
    "**1.1.1**   Read in the dataset `data/flights.csv` into a DataFrame called `df_flights`. Create a new column in the DataFrame called `DELAY_OR_NOT`. This is a binary variable that denotes whether `ARRIVAL_DELAY` is greater-than-or-equal-to 15 minutes (the FAA and BTS define a flight as delayed by 15 minutes or more). This is going to be the response variable for the rest of part 1. \n",
    "\n",
    "\n",
    "\n",
    "\n",
    "</div>"
   ]
  },
  {
   "cell_type": "code",
   "execution_count": 5,
   "metadata": {
    "tags": []
   },
   "outputs": [],
   "source": [
    "# your code here \n",
    "\n",
    "df_flights = pd.read_csv(\"/Users/jamesliounis/Documents/Harvard SM DS/AC209b/Problem Sets/cs109b_hw3/data/flights.csv\")"
   ]
  },
  {
   "cell_type": "code",
   "execution_count": 6,
   "metadata": {
    "tags": []
   },
   "outputs": [],
   "source": [
    "# your code here\n",
    "\n",
    "delay = lambda x: 1 if x >= 15 else 0\n",
    "\n",
    "df_flights['DELAY_OR_NOT'] = df_flights['ARRIVAL_DELAY'].map(delay)"
   ]
  },
  {
   "cell_type": "code",
   "execution_count": 7,
   "metadata": {
    "deletable": false,
    "editable": false
   },
   "outputs": [
    {
     "data": {
      "text/html": [
       "<p><strong><pre style='display: inline;'>q1.1.1</pre></strong> passed!</p>"
      ],
      "text/plain": [
       "q1.1.1 results: All test cases passed!"
      ]
     },
     "execution_count": 7,
     "metadata": {},
     "output_type": "execute_result"
    }
   ],
   "source": [
    "grader.check(\"q1.1.1\")"
   ]
  },
  {
   "cell_type": "markdown",
   "metadata": {
    "tags": []
   },
   "source": [
    "<div class='exercise-r'>\n",
    "\n",
    "**1.1.2 Preprocess the data**\n",
    "    \n",
    "- Deal with missing values if there are any\n",
    "- One-hot-encode the non-numeric categorical variables\n",
    "- Split the data using an 80/20 train-test split with `random_state=109` and stratifying on the response variable\n",
    "- Standardize train and test with the scaler fit on the train data\n",
    "\n",
    "Print the resulting shapes of your $X$ and $y$ dataframes for both your train and your test sets.\n",
    "    \n",
    "**NOTE:** While inspecting your data, you may notice that a large number of airport codes are recorded using 5-digit values instead of the expected 3-letter codes. That is perfectly fine. Those 5-digit values should be considered valid and just be treated the same as they would be if they were 3-letter codes.\n",
    "\n",
    "**TIPS:** \n",
    "- month and day-of-the-week should be treated as numerical in this context.\n",
    "- you should consider what predctors are acceptable to include given our goal is to predict if a flight is delayed.\n",
    "\n",
    "\n",
    "</div>"
   ]
  },
  {
   "cell_type": "code",
   "execution_count": 8,
   "metadata": {
    "tags": []
   },
   "outputs": [
    {
     "name": "stdout",
     "output_type": "stream",
     "text": [
      "ARRIVAL_DELAY          0\n",
      "DISTANCE               5\n",
      "SCHEDULED_TIME         1\n",
      "MONTH                  0\n",
      "SCHED_DEP_HOUR         0\n",
      "SCHED_ARR_HOUR         0\n",
      "FLIGHT_COUNT           5\n",
      "DAY_OF_WEEK            0\n",
      "ORIGIN_AIRPORT         0\n",
      "DESTINATION_AIRPORT    0\n",
      "DELAY_OR_NOT           0\n",
      "dtype: int64\n"
     ]
    }
   ],
   "source": [
    "# your code here\n",
    "\n",
    "print(df_flights.isna().sum())"
   ]
  },
  {
   "cell_type": "code",
   "execution_count": 9,
   "metadata": {},
   "outputs": [
    {
     "name": "stdout",
     "output_type": "stream",
     "text": [
      "      ARRIVAL_DELAY  DISTANCE  SCHEDULED_TIME  MONTH  SCHED_DEP_HOUR  \\\n",
      "70               13       NaN           395.0     11               6   \n",
      "1566             -4       NaN           418.0      2               6   \n",
      "3741            -33       NaN           419.0     11              11   \n",
      "5612             -9       NaN           381.0      6               8   \n",
      "6375             17       NaN             NaN      7              18   \n",
      "\n",
      "      SCHED_ARR_HOUR  FLIGHT_COUNT  DAY_OF_WEEK ORIGIN_AIRPORT  \\\n",
      "70                 9           NaN            1            BOS   \n",
      "1566               9           NaN            5            BOS   \n",
      "3741              15           NaN            2            BOS   \n",
      "5612              12           NaN            5            BOS   \n",
      "6375              21           NaN            3            BOS   \n",
      "\n",
      "     DESTINATION_AIRPORT  DELAY_OR_NOT  \n",
      "70                   SFO             0  \n",
      "1566                 SFO             0  \n",
      "3741                 SFO             0  \n",
      "5612                 SFO             0  \n",
      "6375                 SFO             1  \n"
     ]
    }
   ],
   "source": [
    "# select rows with missing values\n",
    "rows_with_missing_values = df_flights[df_flights.isnull().any(axis=1)]\n",
    "\n",
    "# print the selected rows\n",
    "print(rows_with_missing_values)"
   ]
  },
  {
   "cell_type": "code",
   "execution_count": 10,
   "metadata": {},
   "outputs": [],
   "source": [
    "# one hot encode the categorical variable\n",
    "df_flights = pd.get_dummies(df_flights, columns=['ORIGIN_AIRPORT', 'DESTINATION_AIRPORT'])"
   ]
  },
  {
   "cell_type": "code",
   "execution_count": 11,
   "metadata": {},
   "outputs": [],
   "source": [
    "from sklearn.impute import KNNImputer\n",
    "\n",
    "# create KNNImputer object and fit to data\n",
    "imputer = KNNImputer(n_neighbors=2)\n",
    "imputer.fit(df_flights)\n",
    "\n",
    "# transform data with imputed values\n",
    "df_flights = pd.DataFrame(imputer.transform(df_flights), columns=df_flights.columns)"
   ]
  },
  {
   "cell_type": "markdown",
   "metadata": {},
   "source": [
    "There is only a handful of missing values in the dataframe and its only in variables that we hypothesize do not matter that much. Hence, we can probably just drop them without loss. "
   ]
  },
  {
   "cell_type": "code",
   "execution_count": 12,
   "metadata": {},
   "outputs": [
    {
     "data": {
      "text/plain": [
       "ARRIVAL_DELAY              float64\n",
       "DISTANCE                   float64\n",
       "SCHEDULED_TIME             float64\n",
       "MONTH                      float64\n",
       "SCHED_DEP_HOUR             float64\n",
       "                            ...   \n",
       "DESTINATION_AIRPORT_VLD    float64\n",
       "DESTINATION_AIRPORT_VPS    float64\n",
       "DESTINATION_AIRPORT_XNA    float64\n",
       "DESTINATION_AIRPORT_YAK    float64\n",
       "DESTINATION_AIRPORT_YUM    float64\n",
       "Length: 812, dtype: object"
      ]
     },
     "execution_count": 12,
     "metadata": {},
     "output_type": "execute_result"
    }
   ],
   "source": [
    "# We check which types our columns have\n",
    "# Need to OHE 'ORIGIN_AIRPORT' and 'DESTINATION_AIRPORT'\n",
    "\n",
    "df_flights.dtypes"
   ]
  },
  {
   "cell_type": "code",
   "execution_count": 13,
   "metadata": {},
   "outputs": [],
   "source": [
    "y = 'DELAY_OR_NOT'\n",
    "\n",
    "# split the data into training and testing sets\n",
    "df_train, df_test = train_test_split(df_flights, \n",
    "                                     test_size=0.2, \n",
    "                                     random_state=109, \n",
    "                                     stratify=df_flights[y])\n",
    "\n",
    "# Fit standard scaler on the training data\n",
    "scaler = StandardScaler().fit(df_train)\n",
    "\n",
    "df_train_scaled = pd.DataFrame(scaler.transform(df_train), columns=df_flights.columns)\n",
    "df_test_scaled = pd.DataFrame(scaler.transform(df_test), columns=df_flights.columns)"
   ]
  },
  {
   "cell_type": "markdown",
   "metadata": {
    "tags": []
   },
   "source": [
    "<div class='exercise-r'>\n",
    "\n",
    "**1.2**  **Fit an ANN**\n",
    "\n",
    "Fit an artificial neural network model using all predictors (name this model `NN_model`).  Use a dense feed-forward network with two hidden layers with 15 nodes in each hidden layer. For this network, use a reasonable activation function for the hidden layers, select an appropriate loss function and optimizer, specify a validation split of 0.2, train for a reasonable number of epochs. Feel free to use tensorflow's default batch size while training. Plot the training accuracy and validation accuracy as a function of epochs from your `NN_model`'s training history. Evaluate the `NN_model` model on both train and test, and print out the resulting train and test accuracies.\n",
    "\n",
    "**Hint:** You should base your choice of \"a reasonable number of epochs\" on the visualization of the model's training history.\n",
    "\n",
    "<a id=\"q13\"></a>\n",
    "\n",
    "\n",
    "\n",
    "</div>"
   ]
  },
  {
   "cell_type": "code",
   "execution_count": 14,
   "metadata": {
    "tags": []
   },
   "outputs": [
    {
     "name": "stderr",
     "output_type": "stream",
     "text": [
      "2023-03-05 20:47:50.223143: I tensorflow/core/platform/cpu_feature_guard.cc:193] This TensorFlow binary is optimized with oneAPI Deep Neural Network Library (oneDNN) to use the following CPU instructions in performance-critical operations:  AVX2 FMA\n",
      "To enable them in other operations, rebuild TensorFlow with the appropriate compiler flags.\n"
     ]
    }
   ],
   "source": [
    "# build your NN \n",
    "# your code here\n",
    "\n",
    "# extract the predictor variables and response variable \n",
    "# from the training and testing sets\n",
    "X_train = df_train_scaled.drop(y, axis=1)\n",
    "y_train = df_train_scaled[y]\n",
    "X_test = df_test_scaled.drop(y, axis=1)\n",
    "y_test = df_test_scaled[y]\n",
    "\n",
    "# define the ANN model\n",
    "\n",
    "n_hidden = 2\n",
    "hidden_size = 15\n",
    "batch_size = 16\n",
    "\n",
    "NN_model = tf.keras.Sequential()\n",
    "NN_model.add(tf.keras.Input(shape=X_train.shape[1]))\n",
    "for i in range(n_hidden):\n",
    "    NN_model.add(tf.keras.layers.Dense(hidden_size, activation='sigmoid'))\n",
    "NN_model.add(tf.keras.layers.Dense(2, activation='sigmoid'))\n"
   ]
  },
  {
   "cell_type": "code",
   "execution_count": 15,
   "metadata": {},
   "outputs": [],
   "source": [
    "from tensorflow.keras.utils import to_categorical\n",
    "\n",
    "# convert y_train and y_test to one-hot encoded format\n",
    "y_train = to_categorical(y_train)\n",
    "y_test = to_categorical(y_test)\n"
   ]
  },
  {
   "cell_type": "code",
   "execution_count": 16,
   "metadata": {
    "tags": []
   },
   "outputs": [],
   "source": [
    "# compile it and run it\n",
    "# your code here \n",
    "# compile the model\n",
    "\n",
    "NN_model.compile(loss='binary_crossentropy', optimizer='adam', metrics=['accuracy'])"
   ]
  },
  {
   "cell_type": "code",
   "execution_count": 17,
   "metadata": {
    "tags": []
   },
   "outputs": [
    {
     "name": "stdout",
     "output_type": "stream",
     "text": [
      "Epoch 1/50\n",
      "200/200 [==============================] - 1s 2ms/step - loss: 0.6902 - accuracy: 0.6005 - val_loss: 0.6459 - val_accuracy: 0.6913\n",
      "Epoch 2/50\n",
      "200/200 [==============================] - 0s 1ms/step - loss: 0.5862 - accuracy: 0.7556 - val_loss: 0.5476 - val_accuracy: 0.7625\n",
      "Epoch 3/50\n",
      "200/200 [==============================] - 0s 1ms/step - loss: 0.4621 - accuracy: 0.8098 - val_loss: 0.4795 - val_accuracy: 0.7937\n",
      "Epoch 4/50\n",
      "200/200 [==============================] - 0s 1ms/step - loss: 0.3655 - accuracy: 0.8536 - val_loss: 0.4309 - val_accuracy: 0.8306\n",
      "Epoch 5/50\n",
      "200/200 [==============================] - 0s 1ms/step - loss: 0.2889 - accuracy: 0.8925 - val_loss: 0.3850 - val_accuracy: 0.8631\n",
      "Epoch 6/50\n",
      "200/200 [==============================] - 0s 1ms/step - loss: 0.2239 - accuracy: 0.9231 - val_loss: 0.3444 - val_accuracy: 0.8881\n",
      "Epoch 7/50\n",
      "200/200 [==============================] - 0s 1ms/step - loss: 0.1712 - accuracy: 0.9461 - val_loss: 0.3249 - val_accuracy: 0.8950\n",
      "Epoch 8/50\n",
      "200/200 [==============================] - 0s 1ms/step - loss: 0.1327 - accuracy: 0.9573 - val_loss: 0.3097 - val_accuracy: 0.9069\n",
      "Epoch 9/50\n",
      "200/200 [==============================] - 0s 1ms/step - loss: 0.1070 - accuracy: 0.9664 - val_loss: 0.2970 - val_accuracy: 0.9144\n",
      "Epoch 10/50\n",
      "200/200 [==============================] - 0s 1ms/step - loss: 0.0873 - accuracy: 0.9750 - val_loss: 0.2994 - val_accuracy: 0.9219\n",
      "Epoch 11/50\n",
      "200/200 [==============================] - 0s 1ms/step - loss: 0.0740 - accuracy: 0.9775 - val_loss: 0.2988 - val_accuracy: 0.9250\n",
      "Epoch 12/50\n",
      "200/200 [==============================] - 0s 1ms/step - loss: 0.0644 - accuracy: 0.9808 - val_loss: 0.3080 - val_accuracy: 0.9262\n",
      "Epoch 13/50\n",
      "200/200 [==============================] - 0s 1ms/step - loss: 0.0574 - accuracy: 0.9825 - val_loss: 0.3017 - val_accuracy: 0.9287\n",
      "Epoch 14/50\n",
      "200/200 [==============================] - 0s 1ms/step - loss: 0.0501 - accuracy: 0.9842 - val_loss: 0.3020 - val_accuracy: 0.9312\n",
      "Epoch 15/50\n",
      "200/200 [==============================] - 0s 1ms/step - loss: 0.0453 - accuracy: 0.9877 - val_loss: 0.3040 - val_accuracy: 0.9350\n",
      "Epoch 16/50\n",
      "200/200 [==============================] - 0s 1ms/step - loss: 0.0409 - accuracy: 0.9872 - val_loss: 0.3090 - val_accuracy: 0.9350\n",
      "Epoch 17/50\n",
      "200/200 [==============================] - 0s 1ms/step - loss: 0.0389 - accuracy: 0.9872 - val_loss: 0.3071 - val_accuracy: 0.9381\n",
      "Epoch 18/50\n",
      "200/200 [==============================] - 0s 1ms/step - loss: 0.0346 - accuracy: 0.9886 - val_loss: 0.3118 - val_accuracy: 0.9344\n",
      "Epoch 19/50\n",
      "200/200 [==============================] - 0s 1ms/step - loss: 0.0315 - accuracy: 0.9906 - val_loss: 0.3169 - val_accuracy: 0.9325\n",
      "Epoch 20/50\n",
      "200/200 [==============================] - 0s 1ms/step - loss: 0.0296 - accuracy: 0.9905 - val_loss: 0.3071 - val_accuracy: 0.9400\n",
      "Epoch 21/50\n",
      "200/200 [==============================] - 0s 1ms/step - loss: 0.0278 - accuracy: 0.9912 - val_loss: 0.3076 - val_accuracy: 0.9369\n",
      "Epoch 22/50\n",
      "200/200 [==============================] - 0s 1ms/step - loss: 0.0252 - accuracy: 0.9920 - val_loss: 0.3154 - val_accuracy: 0.9369\n",
      "Epoch 23/50\n",
      "200/200 [==============================] - 0s 1ms/step - loss: 0.0272 - accuracy: 0.9898 - val_loss: 0.3148 - val_accuracy: 0.9362\n",
      "Epoch 24/50\n",
      "200/200 [==============================] - 0s 1ms/step - loss: 0.0228 - accuracy: 0.9931 - val_loss: 0.3117 - val_accuracy: 0.9431\n",
      "Epoch 25/50\n",
      "200/200 [==============================] - 0s 1ms/step - loss: 0.0215 - accuracy: 0.9928 - val_loss: 0.3180 - val_accuracy: 0.9400\n",
      "Epoch 26/50\n",
      "200/200 [==============================] - 0s 1ms/step - loss: 0.0218 - accuracy: 0.9925 - val_loss: 0.3200 - val_accuracy: 0.9369\n",
      "Epoch 27/50\n",
      "200/200 [==============================] - 0s 1ms/step - loss: 0.0198 - accuracy: 0.9939 - val_loss: 0.3132 - val_accuracy: 0.9425\n",
      "Epoch 28/50\n",
      "200/200 [==============================] - 0s 1ms/step - loss: 0.0189 - accuracy: 0.9941 - val_loss: 0.3165 - val_accuracy: 0.9450\n",
      "Epoch 29/50\n",
      "200/200 [==============================] - 0s 1ms/step - loss: 0.0168 - accuracy: 0.9945 - val_loss: 0.3214 - val_accuracy: 0.9438\n",
      "Epoch 30/50\n",
      "200/200 [==============================] - 0s 1ms/step - loss: 0.0173 - accuracy: 0.9950 - val_loss: 0.3248 - val_accuracy: 0.9431\n",
      "Epoch 31/50\n",
      "200/200 [==============================] - 0s 1ms/step - loss: 0.0157 - accuracy: 0.9950 - val_loss: 0.3205 - val_accuracy: 0.9456\n",
      "Epoch 32/50\n",
      "200/200 [==============================] - 0s 1ms/step - loss: 0.0144 - accuracy: 0.9962 - val_loss: 0.3311 - val_accuracy: 0.9425\n",
      "Epoch 33/50\n",
      "200/200 [==============================] - 0s 1ms/step - loss: 0.0150 - accuracy: 0.9948 - val_loss: 0.3320 - val_accuracy: 0.9463\n",
      "Epoch 34/50\n",
      "200/200 [==============================] - 0s 1ms/step - loss: 0.0137 - accuracy: 0.9958 - val_loss: 0.3337 - val_accuracy: 0.9450\n",
      "Epoch 35/50\n",
      "200/200 [==============================] - 0s 1ms/step - loss: 0.0138 - accuracy: 0.9955 - val_loss: 0.3325 - val_accuracy: 0.9463\n",
      "Epoch 36/50\n",
      "200/200 [==============================] - 0s 1ms/step - loss: 0.0128 - accuracy: 0.9953 - val_loss: 0.3306 - val_accuracy: 0.9456\n",
      "Epoch 37/50\n",
      "200/200 [==============================] - 0s 1ms/step - loss: 0.0130 - accuracy: 0.9955 - val_loss: 0.3356 - val_accuracy: 0.9463\n",
      "Epoch 38/50\n",
      "200/200 [==============================] - 0s 1ms/step - loss: 0.0123 - accuracy: 0.9961 - val_loss: 0.3358 - val_accuracy: 0.9463\n",
      "Epoch 39/50\n",
      "200/200 [==============================] - 0s 1ms/step - loss: 0.0114 - accuracy: 0.9973 - val_loss: 0.3580 - val_accuracy: 0.9419\n",
      "Epoch 40/50\n",
      "200/200 [==============================] - 0s 1ms/step - loss: 0.0115 - accuracy: 0.9956 - val_loss: 0.3409 - val_accuracy: 0.9450\n",
      "Epoch 41/50\n",
      "200/200 [==============================] - 0s 1ms/step - loss: 0.0107 - accuracy: 0.9962 - val_loss: 0.3458 - val_accuracy: 0.9488\n",
      "Epoch 42/50\n",
      "200/200 [==============================] - 0s 1ms/step - loss: 0.0104 - accuracy: 0.9956 - val_loss: 0.3505 - val_accuracy: 0.9456\n",
      "Epoch 43/50\n",
      "200/200 [==============================] - 0s 1ms/step - loss: 0.0109 - accuracy: 0.9959 - val_loss: 0.3542 - val_accuracy: 0.9463\n",
      "Epoch 44/50\n",
      "200/200 [==============================] - 0s 1ms/step - loss: 0.0085 - accuracy: 0.9977 - val_loss: 0.3541 - val_accuracy: 0.9456\n",
      "Epoch 45/50\n",
      "200/200 [==============================] - 0s 1ms/step - loss: 0.0085 - accuracy: 0.9975 - val_loss: 0.3484 - val_accuracy: 0.9456\n",
      "Epoch 46/50\n",
      "200/200 [==============================] - 0s 1ms/step - loss: 0.0090 - accuracy: 0.9967 - val_loss: 0.3555 - val_accuracy: 0.9488\n",
      "Epoch 47/50\n",
      "200/200 [==============================] - 0s 1ms/step - loss: 0.0083 - accuracy: 0.9973 - val_loss: 0.3548 - val_accuracy: 0.9475\n",
      "Epoch 48/50\n",
      "200/200 [==============================] - 0s 1ms/step - loss: 0.0071 - accuracy: 0.9980 - val_loss: 0.3604 - val_accuracy: 0.9481\n",
      "Epoch 49/50\n",
      "200/200 [==============================] - 0s 1ms/step - loss: 0.0067 - accuracy: 0.9986 - val_loss: 0.3631 - val_accuracy: 0.9463\n",
      "Epoch 50/50\n",
      "200/200 [==============================] - 0s 1ms/step - loss: 0.0086 - accuracy: 0.9969 - val_loss: 0.3580 - val_accuracy: 0.9494\n"
     ]
    }
   ],
   "source": [
    "# plot train and val acc as a function of epochs\n",
    "# your code here\n",
    "\n",
    "# fit the model to the training data\n",
    "history = NN_model.fit(X_train, y_train, epochs=50, batch_size=32, validation_split=0.2)"
   ]
  },
  {
   "cell_type": "code",
   "execution_count": 18,
   "metadata": {
    "tags": []
   },
   "outputs": [
    {
     "data": {
      "image/png": "[encoded data removed]",
      "text/plain": [
       "<Figure size 640x480 with 1 Axes>"
      ]
     },
     "metadata": {},
     "output_type": "display_data"
    }
   ],
   "source": [
    "# evaluate on train and test and print accuracy results\n",
    "# your code here \n",
    "\n",
    "# plot the training and validation accuracy as a function of epochs\n",
    "plt.plot(history.history['accuracy'], color='blue')\n",
    "plt.plot(history.history['val_accuracy'], color='red')\n",
    "plt.title('Model accuracy')\n",
    "plt.xlabel('Epoch')\n",
    "plt.ylabel('Accuracy')\n",
    "plt.legend(['Train', 'Validation'], loc='lower right')\n",
    "plt.show()\n"
   ]
  },
  {
   "cell_type": "code",
   "execution_count": 19,
   "metadata": {},
   "outputs": [
    {
     "name": "stdout",
     "output_type": "stream",
     "text": [
      "250/250 [==============================] - 0s 740us/step - loss: 0.0768 - accuracy: 0.9881\n",
      "Train accuracy: 0.9881250262260437\n",
      "63/63 [==============================] - 0s 864us/step - loss: 0.2836 - accuracy: 0.9595\n",
      "Test accuracy: 0.9595000147819519\n"
     ]
    }
   ],
   "source": [
    "# evaluate the model on the training data\n",
    "train_loss, train_acc = NN_model.evaluate(X_train, y_train)\n",
    "print('Train accuracy:', train_acc)\n",
    "\n",
    "# evaluate the model on the test data\n",
    "test_loss, test_acc = NN_model.evaluate(X_test, y_test)\n",
    "print('Test accuracy:', test_acc)"
   ]
  },
  {
   "cell_type": "markdown",
   "metadata": {
    "tags": []
   },
   "source": [
    "<div class='exercise-r'>\n",
    "\n",
    "**1.3**  **Fit and examine a \"proxy\" model**\n",
    "\n",
    "Neural networks are often called 'black-box' models because it is difficult to interpret just what role each feature plays in the predictions they output. But suppose we choose a second type of model which is easier to interpret and train it to *predict the predictions* of the`NN_model`. That is, the response variable for the second, \"proxy\" model is the set of predictions generated by the `NN_model`, $\\hat{y}$, **not** the true values, $y$. Interpreting this second, \"proxy\" model can then give us some insight into how the `NN_model` is making its predictions.\n",
    "\n",
    "\n",
    "\n",
    "\n",
    "</div>"
   ]
  },
  {
   "cell_type": "markdown",
   "metadata": {
    "tags": []
   },
   "source": [
    "<div class='exercise-r'>\n",
    "\n",
    "**1.3.1**  First, generate a set of `NN_model` class predictions for the training set. Call these `y_train_nn`. These $\\hat{y}$ training predictions will be used instead of the true $y$ training values when we fit our proxy model in 1.3.2. The $X$ values used in our 1.3.2 proxy model should be the same ones used for `NN_model`.\n",
    "\n",
    "\n",
    "\n",
    "\n",
    "</div>"
   ]
  },
  {
   "cell_type": "code",
   "execution_count": 20,
   "metadata": {
    "tags": []
   },
   "outputs": [
    {
     "name": "stdout",
     "output_type": "stream",
     "text": [
      "250/250 [==============================] - 0s 637us/step\n"
     ]
    }
   ],
   "source": [
    "# your code here\n",
    "y_train_nn = (NN_model.predict(X_train) > 0.5).astype(\"int32\")"
   ]
  },
  {
   "cell_type": "code",
   "execution_count": 21,
   "metadata": {
    "deletable": false,
    "editable": false
   },
   "outputs": [
    {
     "data": {
      "text/html": [
       "<p><strong><pre style='display: inline;'>q1.3.1</pre></strong> passed!</p>"
      ],
      "text/plain": [
       "q1.3.1 results: All test cases passed!"
      ]
     },
     "execution_count": 21,
     "metadata": {},
     "output_type": "execute_result"
    }
   ],
   "source": [
    "grader.check(\"q1.3.1\")"
   ]
  },
  {
   "cell_type": "markdown",
   "metadata": {
    "tags": []
   },
   "source": [
    "<div class='exercise-r'>\n",
    "\n",
    "**1.3.2**  Next, fit a logistic regression model using your $\\hat{y}$ values from 1.3.1 (name this model `logreg`). Use ridge-like regularization. Next, print the `logreg` test accuracy compared to the *true $y$ values* to confirm that it is similar to what we saw for our `NN_model` test accuracy in 1.2. You may need to adjust `C` in order to achieve a similar accuracy.\n",
    "\n",
    "\n",
    "\n",
    "\n",
    "</div>"
   ]
  },
  {
   "cell_type": "code",
   "execution_count": 22,
   "metadata": {},
   "outputs": [],
   "source": [
    "from sklearn.linear_model import LogisticRegressionCV"
   ]
  },
  {
   "cell_type": "code",
   "execution_count": 23,
   "metadata": {},
   "outputs": [],
   "source": [
    "y_train_nn = np.argmax(y_train_nn, axis=1)"
   ]
  },
  {
   "cell_type": "code",
   "execution_count": 24,
   "metadata": {},
   "outputs": [],
   "source": [
    "# define a range of C values to test\n",
    "c_values = [0.01, 0.5, 0.1, 0.2, 0.3]\n",
    "\n",
    "# create a logistic regression object\n",
    "logregcv = LogisticRegressionCV(Cs=c_values, penalty='l2', max_iter=1000)\n",
    "\n",
    "# fit the logistic regression model to the training data\n",
    "logregcv.fit(X_train, y_train_nn.ravel())\n",
    "\n",
    "# get the best C value found by cross-validation\n",
    "best_C = logregcv.C_[0]"
   ]
  },
  {
   "cell_type": "code",
   "execution_count": 25,
   "metadata": {
    "tags": []
   },
   "outputs": [
    {
     "name": "stdout",
     "output_type": "stream",
     "text": [
      "Logistic regression Test Accuracy: 96.85%\n",
      "Previous Test Accuracy: 95.95%\n"
     ]
    }
   ],
   "source": [
    "# your code here\n",
    "\n",
    "logreg = LogisticRegression(penalty = 'l2', C=best_C, max_iter=1000).fit(X_train, y_train_nn)\n",
    "\n",
    "y_test_logreg = logreg.predict(X_test)\n",
    "logreg_test_acc = accuracy_score(np.argmax(y_test, axis=1), y_test_logreg)\n",
    "print(\"Logistic regression Test Accuracy: {:.2f}%\".format(logreg_test_acc*100))\n",
    "print(\"Previous Test Accuracy: {:.2f}%\".format(test_acc*100))"
   ]
  },
  {
   "cell_type": "markdown",
   "metadata": {
    "tags": []
   },
   "source": [
    "<div class='exercise-r'>\n",
    "\n",
    "**1.3.3**  Now use sklearn's `permutation_importance` function (already included in this notebook's imports) to compute the feature importance using the `logreg` model. Plot the **relative** feature importance (normalizing your importances so that your largest importance equals 1 for comparison purposes) for the top-10 most important predictors identified by the `permutation_importance` function.\n",
    "\n",
    "  - Please refer to sklearn's official documentation to learn how this function works.\n",
    "  \n",
    "  - When running `permutation_importance` for this problem, you can use the default number of `n_repeats` and your estimator's default `scorer`. To speed up the time it takes to run your permutations, you can try setting `n_jobs=-1` to take full advantage of all of your available processor cores.\n",
    "\n",
    "<a id=\"q14\"></a>\n",
    "\n",
    "\n",
    "\n",
    "</div>"
   ]
  },
  {
   "cell_type": "code",
   "execution_count": 26,
   "metadata": {},
   "outputs": [
    {
     "data": {
      "image/png": "[encoded data removed]",
      "text/plain": [
       "<Figure size 640x480 with 1 Axes>"
      ]
     },
     "metadata": {},
     "output_type": "display_data"
    },
    {
     "name": "stdout",
     "output_type": "stream",
     "text": [
      "CPU times: user 7min 46s, sys: 23.9 s, total: 8min 10s\n",
      "Wall time: 2min 2s\n"
     ]
    }
   ],
   "source": [
    "%%time\n",
    "# Compute permutation-based feature importances\n",
    "result = permutation_importance(logreg, \n",
    "                                X_test, \n",
    "                                np.argmax(y_test, axis=1), \n",
    "                                n_repeats=10, \n",
    "                                random_state=0, \n",
    "                                n_jobs=1)\n",
    "\n",
    "importances = result.importances_mean\n",
    "\n",
    "# Find indices of top-10 features\n",
    "top_n = 10\n",
    "idx = np.argsort(importances)[::-1][:top_n]\n",
    "\n",
    "# Normalize importances and create color map\n",
    "norm_imp = importances / importances.max()\n",
    "colors = plt.cm.Set2(np.arange(top_n))\n",
    "\n",
    "# Create bar plot with different colors for top features\n",
    "plt.bar(range(top_n), norm_imp[idx], color=colors)\n",
    "plt.xticks(range(top_n), X_train.columns[idx], rotation=90)\n",
    "plt.xlabel('Feature')\n",
    "plt.ylabel('Relative Importance')\n",
    "plt.title('Top-10 Features')\n",
    "plt.show()"
   ]
  },
  {
   "cell_type": "markdown",
   "metadata": {
    "tags": []
   },
   "source": [
    "<div class='exercise-r'>\n",
    "\n",
    "**1.4**  **Visualize important features** \n",
    "\n",
    "Another way to interpret the  `NN_model` is by examining the response as a function of any of the predictors. Particularly, we will select from features often found most significant from the analysis above. Though the data has been scaled, **for all plots in 1.4, please visualize using the original scale for interpretability.**\n",
    "\n",
    "**NOTE:** The predictors you are required to use in 1.4 may differ from some of the top-10 predictors you identified in 1.3 as a result of random variability in our algorithms.\n",
    "\n",
    "\n",
    "\n",
    "\n",
    "</div>"
   ]
  },
  {
   "cell_type": "markdown",
   "metadata": {
    "tags": []
   },
   "source": [
    "<div class='exercise-r'>\n",
    "\n",
    "**1.4.1**\n",
    "    \n",
    "Set all predictors to their means/modes except for `SCHED_DEP_HOUR` (when deciding between mean and mode, consider whether a given predictor is continous or categorical.\n",
    "    \n",
    "Next, predict the `NN_model` probability of delay and plot the predicted probabilities of delay vs. `SCHED_DEP_HOUR` on the data from the **training set**. Interpret what you see in 2-4 sentences.\n",
    "\n",
    "**NOTE:** Again, the values of `SCHED_DEP_HOUR` used her for predictions and plotting should be those actually *observed* in the training data.\n",
    "\n",
    "\n",
    "</div>"
   ]
  },
  {
   "cell_type": "markdown",
   "metadata": {},
   "source": [
    "The plot above indicates that the probability of delay increases in a nearly linear manner as the scheduled departure hour advances. This finding supports the previous plot, which emphasized the significance of this predictor over others. Moreover, the observation aligns with the intuition that departure hour is a key factor influencing delays."
   ]
  },
  {
   "cell_type": "code",
   "execution_count": 53,
   "metadata": {},
   "outputs": [],
   "source": [
    "relevant_predictors = ['SCHED_DEP_HOUR']\n",
    "continuous_pred = ['DISTANCE', 'SCHEDULED_TIME', 'MONTH','SCHED_ARR_HOUR', 'FLIGHT_COUNT', 'DAY_OF_WEEK']\n",
    "categorical_pred = list(set(X_train.columns) - set(continuous_pred) - set(relevant_predictors))\n",
    "\n",
    "X_temp = X_train.copy()\n",
    "\n",
    "# Unscaled training and test data\n",
    "df_train_unscaled = pd.DataFrame(scaler.inverse_transform(df_train_scaled), columns=df_flights.columns)\n",
    "\n",
    "X_temp_unscaled = df_train_unscaled.drop(y, axis=1).copy()\n",
    "\n",
    "for col in X_temp.columns:\n",
    "    if col in continuous_pred:\n",
    "        X_temp[col].values[:] = X_temp[col].mean()\n",
    "    if col in categorical_pred:\n",
    "        X_temp[col].values[:] = X_temp[col].mode()\n",
    "        \n",
    "for col in X_temp.columns:\n",
    "    if col in continuous_pred:\n",
    "        X_temp[col].values[:] = X_temp[col].mean()\n",
    "    if col in categorical_pred:\n",
    "        X_temp[col].values[:] = X_temp[col].mode()"
   ]
  },
  {
   "cell_type": "code",
   "execution_count": 55,
   "metadata": {},
   "outputs": [
    {
     "name": "stdout",
     "output_type": "stream",
     "text": [
      "250/250 [==============================] - 0s 680us/step\n"
     ]
    },
    {
     "data": {
      "image/png": "[encoded data removed]",
      "text/plain": [
       "<Figure size 800x500 with 1 Axes>"
      ]
     },
     "metadata": {},
     "output_type": "display_data"
    }
   ],
   "source": [
    "# prediction\n",
    "\n",
    "delay_prob = [i[1] for i in NN_model.predict(X_temp)]\n",
    "\n",
    "\n",
    "#delay_prob = np.argmax(delay_prob, axis=1)\n",
    "\n",
    "plt.figure(figsize=(8, 5))\n",
    "plt.scatter(X_temp_unscaled['SCHED_DEP_HOUR'], delay_prob)\n",
    "plt.title('Influence of scheduled departure on delay times')\n",
    "plt.xlabel('Scheduled departure hour')\n",
    "plt.ylabel('delay probability')\n",
    "plt.show()"
   ]
  },
  {
   "cell_type": "markdown",
   "metadata": {
    "tags": []
   },
   "source": [
    "<div class='exercise-r'>\n",
    "\n",
    "**1.4.2**  Set all predictors to their means/modes except for `SCHED_DEP_HOUR` and `FLIGHT_COUNT`. Predict the `NN_model` probability of delay and plot the predicted probabilities of delay vs. values `SCHED_DEP_HOUR` and `FLIGHT_COUNT` observed in the training set.  \n",
    "    \n",
    "**NOTE:** See hint in 1.4.5 about plotting in this section\n",
    "\n",
    "\n",
    "\n",
    "\n",
    "</div>"
   ]
  },
  {
   "cell_type": "code",
   "execution_count": 30,
   "metadata": {
    "tags": []
   },
   "outputs": [],
   "source": [
    "# your code here\n",
    "..."
   ]
  },
  {
   "cell_type": "code",
   "execution_count": 31,
   "metadata": {
    "tags": []
   },
   "outputs": [],
   "source": [
    "# your code here\n",
    "..."
   ]
  },
  {
   "cell_type": "markdown",
   "metadata": {
    "tags": []
   },
   "source": [
    "<div class='exercise-r'>\n",
    "\n",
    "**1.4.3**  Set all predictors to their means/modes except for `SCHED_DEP_HOUR` and `SCHED_ARR_HOUR`. Predict the `NN_model` probability of delay and plot the predicted probabilities of delay vs. values of `SCHED_DEP_HOUR` and `SCHED_ARR_HOUR` observed in the training set.\n",
    "\n",
    "\n",
    "\n",
    "\n",
    "</div>"
   ]
  },
  {
   "cell_type": "code",
   "execution_count": 32,
   "metadata": {
    "tags": []
   },
   "outputs": [],
   "source": [
    "# your code here\n",
    "..."
   ]
  },
  {
   "cell_type": "markdown",
   "metadata": {
    "tags": []
   },
   "source": [
    "<div class='exercise-r'>\n",
    "\n",
    "**1.4.4**  Set all predictors to their means/modes except for `SCHED_DEP_HOUR` and `DISTANCE`. Predict the `NN_model` probability of delay and plot the predicted probabilities of delay vs. values of `SCHED_DEP_HOUR` and `DISTANCE` observed in the training set. \n",
    "\n",
    "\n",
    "\n",
    "\n",
    "</div>"
   ]
  },
  {
   "cell_type": "code",
   "execution_count": 33,
   "metadata": {
    "tags": []
   },
   "outputs": [],
   "source": [
    "# your code here\n",
    "..."
   ]
  },
  {
   "cell_type": "markdown",
   "metadata": {
    "tags": []
   },
   "source": [
    "<div class='exercise-r'>\n",
    "\n",
    "**1.4.5**  In 5-10 sentences, interpret what you have seen in 1.4.2, 1.4.3, and 1.4.4.\n",
    "\n",
    "**HINT:** For 1.4.2, 1.4.3, and 1.4.4, when you include `SCHED_DEP_HOUR` on one axis and your second predictor on the other axis, you can color your data points based on their corresponding predicted probabilities by using  the `c` and `cmap` arguments in `plt.scatter`. You can also add a labeled colorbar to your plot to make clear what those colors mean. You can refer to the [matplotlib documentation](https://matplotlib.org/stable/tutorials/index) for examples. This [stackoverflow post](https://stackoverflow.com/questions/17682216/scatter-plot-and-color-mapping-in-python) covering color mapping with scatter plots may also be useful. \n",
    "\n",
    "<a id=\"q15\"></a>\n",
    "\n",
    "\n",
    "\n",
    "</div>"
   ]
  },
  {
   "cell_type": "markdown",
   "metadata": {},
   "source": [
    "_Type your answer here, replacing this text._"
   ]
  },
  {
   "cell_type": "markdown",
   "metadata": {
    "tags": []
   },
   "source": [
    "<div class='exercise-r'>\n",
    "\n",
    "**1.5**  **Bootstrap prediction intervals**\n",
    "\n",
    "In this part, we will attempt to do model inference. Neural Networks have too many parameters, and therefore inference on all the parameters is intractable and meaningless. \n",
    "\n",
    "Using the same network architecture as `NN_model` (layers, nodes, activations, etc.) and your scaled data from that model, create multiple training sets using bootstrapping and fit a separate neural network model to each bootstrapped set of data (the number of bootstraped *datasets*, $n$, should be at least 50). For each of the $n$ models, make predictions on the test data. Randomly select 8 test observations and on 8 subplots, plot the distribution of the $n$ predicted probabilities with the 95% prediction intervals clearly marked and reported in each subplot and the **actual** class of each observation included in each subplot's title for easy reference.\n",
    "    \n",
    "Interpret what you see in 3-5 sentences.\n",
    "\n",
    "**NOTE:** The code for this problem can take an extremely long time to execute. Please feel free to use the `progressbar` function provided below to visually track the progress of your bootstraps.\n",
    "\n",
    "<a id=\"q16\"></a>\n",
    "\n",
    "\n",
    "\n",
    "</div>"
   ]
  },
  {
   "cell_type": "code",
   "execution_count": 34,
   "metadata": {},
   "outputs": [],
   "source": [
    "def progressbar(n_step, n_total):\n",
    "    \"\"\"Prints self-updating progress bar to stdout to track for-loop progress\n",
    "    \n",
    "    There are entire 3rd-party libraries dedicated to custom progress-bars.\n",
    "    A simple function like this is often more than enough to get the job done.\n",
    "    \n",
    "    :param n_total: total number of expected for-loop iterations\n",
    "    :type n_total: int\n",
    "    :param n_step: current iteration number, starting at 0\n",
    "    :type n_step: int\n",
    "\n",
    "    .. example::\n",
    "    \n",
    "        for i in range(n_iterations):\n",
    "            progressbar(i, n_iterations)\n",
    "            \n",
    "    .. source:\n",
    "    \n",
    "        This function is a simplified version of code found here:\n",
    "        https://stackoverflow.com/questions/3160699/python-progress-bar/15860757#15860757\n",
    "    \"\"\"\n",
    "    n_step = n_step + 1\n",
    "    barlen = 50\n",
    "    progress = n_step / n_total\n",
    "    block = int(round(barlen * progress))\n",
    "    status = \"\"\n",
    "    if n_step == n_total:\n",
    "        status = \"Done...\\r\\n\\n\"\n",
    "    text = \"\\r [{0}] {1}/{2} {3}\".format(\n",
    "        \"=\" * block + \"-\" * (barlen - block),\n",
    "        n_step,\n",
    "        n_total,\n",
    "        status,\n",
    "    )\n",
    "    sys.stdout.write(text)\n",
    "    sys.stdout.flush()"
   ]
  },
  {
   "cell_type": "markdown",
   "metadata": {},
   "source": [
    "_Type your answer here, replacing this text._"
   ]
  },
  {
   "cell_type": "code",
   "execution_count": 35,
   "metadata": {
    "tags": []
   },
   "outputs": [
    {
     "name": "stdout",
     "output_type": "stream",
     "text": [
      "CPU times: user 2 µs, sys: 1 µs, total: 3 µs\n",
      "Wall time: 6.91 µs\n"
     ]
    },
    {
     "data": {
      "text/plain": [
       "Ellipsis"
      ]
     },
     "execution_count": 35,
     "metadata": {},
     "output_type": "execute_result"
    }
   ],
   "source": [
    "%%time\n",
    "# Bootstrap and train your networks and get predictions on X test\n",
    "# your code here\n",
    "..."
   ]
  },
  {
   "cell_type": "code",
   "execution_count": 36,
   "metadata": {
    "tags": []
   },
   "outputs": [
    {
     "data": {
      "text/plain": [
       "Ellipsis"
      ]
     },
     "execution_count": 36,
     "metadata": {},
     "output_type": "execute_result"
    }
   ],
   "source": [
    "# generate your plot\n",
    "# your code here\n",
    "..."
   ]
  },
  {
   "cell_type": "markdown",
   "metadata": {
    "tags": []
   },
   "source": [
    "<div class='exercise-r'>\n",
    "\n",
    "**1.6**  **Build an \"abstain\" bagging model**\n",
    "\n",
    "Using the probability distribution of the predictions obtained from the bootstrapped samples above, we can evaluate how confident we should be in our bagged (i.e. bootstrap-aggregated) predictions for each test observation.\n",
    "\n",
    "To accomplish this, you will first calculate a metric we'll call the **Posterior Prediction Dissent (PPD)** related to the proportion of predictions a given test observation receives for the minority opinion. Some examples: if 10% of the bootstrapped models predict $\\hat{y} = 0$ with the remaining 90% predicting $\\hat{y}=1$, then the $PPD=0.1$. When a bagged prediction's $PPD=0$, all predictions are compatible (i.e. all bootstrapped probabilities for that test observation are on the same side of $\\hat{p}=0.5$). Likewise, when the $PPD=0.5$, half of the bootstrapped predictions for that test observation are $\\hat{y}=0$, and the other half are $\\hat{y}=1$. After calculating your $PPD$ values for all test observations, you should have $n=2000$ $PPD$ values (i.e. one for each test observation).\n",
    "\n",
    "Next, to get more accurate predictions, we can create an **abstain** model that will abstain from making a prediction for a particular observation if some defined threshold for lack-of-confidence (i.e. maximum permissible $PPD$ value) is crossed. (If you'd like to learn more about abstain models, you can read more [here](https://openreview.net/forum?id=rJxF73R9tX).)\n",
    "\n",
    "Let's explore how your resulting test accuracies might change by using your bootstrapped prediction results from question 1.5 for an **abstain bagging model** (i.e. a bootstrap aggregated model where some test observations are simply not predicted based on a given $PPD$ threshold). You can make your abstain model *stricter* by using smaller $PPD$ threshold values.\n",
    "\n",
    "- Print the test accuracy for your **bagging model** predictions from question 1.5 using predictions for all 2,000 of our test observations. \n",
    "\n",
    "- Plot the test accuracies for an **abstain bagging model** using your predictions from question 1.5 as a function of increasing $PPD$.\n",
    "\n",
    "- Also, plot the proportion of test observations not abstained (i.e. the proportion of those predicted) for your **abstain bagging model** as a function of increasing $PPD$.\n",
    "\n",
    "- Interpret what you see in 3-5 sentences.\n",
    "\n",
    "**NOTE**: You should observe that as $PPD$ decreases (more confident predictions), you must also compromise on the number of points that your abstain model is permitted to predict on. \n",
    "\n",
    "**HINT:** \n",
    "- What is the range of values PPD can take on? Is it the same as the range of our predictions themselves?\n",
    "- When calculating accuracies, you should only consider those observations that received predictions (i.e., not the abstained observations)\n",
    "</div>"
   ]
  },
  {
   "cell_type": "markdown",
   "metadata": {},
   "source": [
    "_Type your answer here, replacing this text._"
   ]
  },
  {
   "cell_type": "code",
   "execution_count": 37,
   "metadata": {
    "tags": []
   },
   "outputs": [],
   "source": [
    "# your code here\n",
    "..."
   ]
  },
  {
   "cell_type": "code",
   "execution_count": 38,
   "metadata": {
    "tags": []
   },
   "outputs": [],
   "source": [
    "# your code here\n",
    "..."
   ]
  },
  {
   "cell_type": "code",
   "execution_count": 39,
   "metadata": {
    "tags": []
   },
   "outputs": [],
   "source": [
    "# your code here\n",
    "..."
   ]
  },
  {
   "cell_type": "markdown",
   "metadata": {},
   "source": [
    "<a id=\"part2\"></a>\n",
    "\n",
    "<!-- <div class=\"alert alert-block alert-danger\" style=\"color:black;background-color:#E7F4FA\"> -->\n",
    "\n",
    "# PART 2 [35 pts]: Kannada MNIST Kaggle competition\n",
    "\n",
    "[Return to contents](#contents)\n",
    "\n",
    "\n",
    "<a id=\"part2intro\"></a>\n",
    "\n",
    "## Problem Statement\n",
    "\n",
    "[Return to contents](#contents)\n",
    "\n",
    "\n",
    "Artificial neural networks (ANNs) can be prone to overfitting, where they learn specific patterns present in the training data, but the patterns do not generalize to new data.\n",
    "\n",
    "There are several methods used to improve ANN generalization. \n",
    "\n",
    "One approach is to use an architecture just barely wide or deep enough to fit the data. The idea here is that smaller networks are less expressive and thus less able to overfit the data.\n",
    "\n",
    "However, it is difficult to know a priori the correct size of the ANN, and it is computationally costly to hunt for the correct size. Given this, other methodologies are used to prevent overfitting and improve ANNs' generalizability. These methodologies, like other techniques that combat overfitting, fall under the umbrella term of \"regularization\".\n",
    "\n",
    "In this problem, you are asked to regularize a network of a given architecture.\n",
    "\n",
    "<a id=\"part2about\"></a>\n",
    "\n",
    "## The Kannada MNIST Dataset\n",
    "\n",
    "[Return to contents](#contents)\n",
    "\n",
    "\n",
    "![](https://www.googleapis.com/download/storage/v1/b/kaggle-user-content/o/inbox%2F3630446%2F1e01bcc28b5ccb7ad38a4ffefb13cde0%2Fwondu.png?generation=1603204077179447&alt=media)\n",
    "\n",
    "\n",
    "For this problem, we will be working with a modified version of the [Kannada MNIST dataset](https://arxiv.org/pdf/1908.01242.pdf), which is a large database of handwritten digits in the indigenous language *Kannada*.\n",
    "\n",
    "This dataset consists of 60,000 28x28 grayscale images of the ten digits, along with a test set of 10,000 images. \n",
    "\n",
    "For this homework, we will simplify the problem by only using the digits labeled `0` and `1` owing to the similarity of the two symbols, and we will use a total of 1,200 samples for training (this includes the data you will use for validation).\n",
    "\n",
    "To understand the dataset better, we recommend this [article](https://towardsdatascience.com/a-new-handwritten-digits-dataset-in-ml-town-kannada-mnist-69df0f2d1456) by Vinay Prabhu, the curator of the dataset.\n",
    "\n",
    "<a id=\"part2data\"></a>\n",
    "\n",
    "## Downloading the Data Files\n",
    "\n",
    "[Return to contents](#contents)\n",
    "\n",
    "\n",
    "**Please download the specific `kmnist_train.csv` and `kmnist_test.csv` data files available on [the \"Data\" tab of the CS109B HW3 Kaggle Competition website](https://www.kaggle.com/t/91152696a0cf4872adedafbaff0f7f15). (DO NOT USE DATA FROM ANY OTHER SOURCE!)**\n",
    "\n",
    "Here's a brief description of the data files:\n",
    "\n",
    "- `kmnist_train.csv` is our training dataset and the last column contains our response class. The 784 other columns correspond to the pixel values of the 28x28 dimension image. Class 0 means a sample is the handwritten digit `0` and class 1 means a sample is the handwritten digit `1` in the Kannada written language. `kmnist_train.csv` has 1,200 samples.\n",
    "\n",
    "\n",
    "- `kmnist_test.csv` has a structure similar to `kmnist_train.csv`, however the class label column is NOT included in with the test set. `kmnist_test.csv` has 2,000 samples. \n",
    "\n",
    "\n",
    "Kaggle leaderboard scores are accuracy scores calculated by Kaggle when you upload your predictions on this test set.\n",
    "\n",
    "- `sample_submission.csv` is the format that kaggle will accept. The uploaded `.csv` must contain 2 columns. The first column must be named `id` and needs to contain the test observation index numbers for each prediction, the second must be named `category` and needs to contain your class predictions (i.e. `0` or `1`) for each corresponding test observation index location. \n",
    "\n",
    "<a id=\"part2kaggle\"></a>\n",
    "\n",
    "## CS109B Kaggle Competition\n",
    "\n",
    "[Return to contents](#contents)\n",
    "\n",
    "**ACCESS AND JOIN THE COMPETITION**:\n",
    "\n",
    "**You need to create an account on Kaggle and [join the competition via this link](https://www.kaggle.com/t/91152696a0cf4872adedafbaff0f7f15). This is a limited participation competition. Please DO NOT share this link.**\n",
    "\n",
    "**For more information on the rules** governing this CS109B Kaggle competition, please see below and also review [the modelling restrictions DOS and DON'TS outlined in question 2.3.1](#q2.3.1).\n",
    "\n",
    "**IMPORTANT NOTES ABOUT SCORING**:\n",
    "\n",
    "- The **public leaderboard** on Kaggle displays your performance on only 30% of the test set.\n",
    "\n",
    "\n",
    "- After the competition is complete, the **private leaderboard** will show your performance on the remaining 70% of the test set.\n",
    "\n",
    "- Question 2.3.5 is worth 5 points (the entire notebook is scored out of 100). Points for this questions will be awarded based on the **private leaderboard** as follows.\n",
    "\n",
    "|Private Leaderboard Score   | Points|\n",
    "|----------------------------|-------|\n",
    "|$0.945 \\leq \\text{score}$ |5|\n",
    "|$0.944 \\leq \\text{score} \\lt 0.945$|4|\n",
    "|$0.93 \\leq \\text{score} \\lt 0.94$|3|\n",
    "|$0.92 \\leq \\text{score} \\lt 0.93$|2|\n",
    "|$0.889 \\leq \\text{score} \\lt 0.92$|1|\n",
    "\n",
    "**🏆 Grand Prize(s):** The **Top-4** students on the private leaderboard will win an invitation to dinner with Pavlos and some of the CS109B teaching staff. This refers to the top 4 individuals on the board. The invitation will be extended to 5 students if the restriction to 4 would otherwise divide a group (e.g., 3 single submissions at the top followed by a group of 2).\n",
    "\n",
    "**ADDITIONAL COMPETITION RULES:**\n",
    "\n",
    "- Multiple Kaggle submissions are permitted (with a maximum of 20 submissions per-participant per-day), **just note that you will need to choose, on Kaggle, the ONE single submission to use for final scoring prior to the final HW3 submission deadline**, and **your submitted notebook MUST contain the matching code and model that generated your ONE chosen submission.**\n",
    "\n",
    "\n",
    "- **To repeat this point, the version of your final HW3 notebook submitted on Canvas MUST contain the same code and exact same model used to generate your ONE chosen Kaggle submission.** (TFs may rerun your notebook code to ensure comparable final leaderboard results.)\n",
    "\n",
    "\n",
    "- **Please do not manually label your submissions.** In other words, the labels should only be the outcome of your model.\n",
    "\n",
    "\n",
    "- **No external data are allowed, you MUST USE ONLY the KMNIST training and test data downloaded via the \"Data\" tab of [the CS109B competition page linked above](#part2data).**\n",
    "\n",
    "\n",
    "- **Do not** create multiple accounts on Kaggle.\n"
   ]
  },
  {
   "cell_type": "markdown",
   "metadata": {},
   "source": [
    "<div class='exercise-r'>\n",
    "\n",
    "**2.1**  **Get and visualize the data**\n",
    "\n",
    "- Download the train and test data from [the competition page](#part2data).\n",
    "- We will utilize `kmnist_test.csv` in question 2.3.4 only. \n",
    "- Load the data and use the matplotlib function `imshow` to display a handwritten 0 and a handwritten 1 from the training set.\n",
    "- You are responsible for any preprocessing you deem necessary to help in your prediction task.\n",
    "\n",
    "<a id=\"q22\"></a>\n",
    "\n",
    "\n",
    "\n",
    "</div>"
   ]
  },
  {
   "cell_type": "code",
   "execution_count": 40,
   "metadata": {
    "tags": []
   },
   "outputs": [],
   "source": [
    "# your code here\n",
    "..."
   ]
  },
  {
   "cell_type": "code",
   "execution_count": 41,
   "metadata": {
    "tags": []
   },
   "outputs": [],
   "source": [
    "# your code here\n",
    "..."
   ]
  },
  {
   "cell_type": "markdown",
   "metadata": {},
   "source": [
    "<div class='exercise-r'>\n",
    "\n",
    "**2.2**  **Overfit an ANN** \n",
    "\n",
    "Build and fit a fully-connected network (FCN) with the architecture given below using `tensorflow.keras` and assign it to a variable called `model_overfit`:\n",
    "\n",
    "- Number of hidden layers: 3\n",
    "- Nodes per hidden layer: 100, 100, 100\n",
    "- Activation function: ReLU \n",
    "- Loss function: binary_crossentropy\n",
    "- Output unit: Sigmoid \n",
    "- Optimizer: adam (use the defaults; no other tuning)\n",
    "- Epochs: 1,000\n",
    "- Batch size: 128\n",
    "- Validation size: 0.3\n",
    "\n",
    "![diagram](https://www.googleapis.com/download/storage/v1/b/kaggle-user-content/o/inbox%2F3630446%2F6a491ff8d4ff590dc8ded9a25461cd4b%2FScreenshot%202020-10-20%20at%209.42.36%20PM.png?generation=1603210420701577&alt=media) \n",
    "    \n",
    "This ANN, when trained on the dataset, will overfit to the training set. Plot the training accuracy and validation accuracy (the x-axis should represent the number of epochs, and the y-axis should represent the accuracy). Explain how you can tell the model is overfitting. \n",
    "\n",
    "\n",
    "\n",
    "\n",
    "</div>"
   ]
  },
  {
   "cell_type": "markdown",
   "metadata": {},
   "source": [
    "_Type your answer here, replacing this text._"
   ]
  },
  {
   "cell_type": "code",
   "execution_count": 42,
   "metadata": {
    "tags": []
   },
   "outputs": [],
   "source": [
    "# your code here\n",
    "..."
   ]
  },
  {
   "cell_type": "code",
   "execution_count": 43,
   "metadata": {
    "tags": []
   },
   "outputs": [
    {
     "name": "stdout",
     "output_type": "stream",
     "text": [
      "CPU times: user 1e+03 ns, sys: 1 µs, total: 2 µs\n",
      "Wall time: 5.72 µs\n"
     ]
    }
   ],
   "source": [
    "%%time \n",
    "# your code here\n",
    "..."
   ]
  },
  {
   "cell_type": "code",
   "execution_count": 44,
   "metadata": {
    "tags": []
   },
   "outputs": [],
   "source": [
    "# your code here\n",
    "..."
   ]
  },
  {
   "cell_type": "markdown",
   "metadata": {},
   "source": [
    "<div class='exercise-r'>\n",
    "\n",
    "**2.3.1**  **Regularize the overfit network**\n",
    "\n",
    "Create an ANN that doesn't overfit and use it to [compete on Kaggle](#part2kaggle).\n",
    "\n",
    "<a id=\"q2.3.1\"></a>\n",
    "    \n",
    "**DON'TS**\n",
    "\n",
    "- **DO NOT change the architecture**. In other words, keep the same number of layers, same number of nodes, same activation function, and same loss function and output unit as was used in your question 2.2 overfit model. **No CNNs, RNNs, ensembles, or fancy enhancements.**\n",
    "\n",
    "- **DO NOT manually label your submissions.** In other words, the labels should only be the outcome of your model.\n",
    "\n",
    "- **DO NOT use any external data.** Please use ONLY the specific KMNIST datasets provided to you (via the CS109B [data link above](#part2data)) for training your model and for generating your test predictions.\n",
    "\n",
    "**DOS**\n",
    "\n",
    " - **YOU CAN change the** number of epochs (max 2000), batch size, optimizer, and of course, add elements that can help to regularize your model (e.g., dropout, L2 norm, etc.).\n",
    " - **YOU CAN also** do data augmentation using the provided training data. \n",
    " - **YOU CAN** add flatten layers as you see fit.\n",
    "\n",
    "**IMPORTANT: YOU MUST** ensure that the version of the code and model in your final submitted notebook is the **EXACT SAME** code and model used to generate your Kaggle submission. TFs may run your submitted model to ensure comparable results. **Other Kaggle competition rules and scoring details [are listed here](#part2kaggle).**\n",
    "\n",
    "\n",
    "\n",
    "</div>"
   ]
  },
  {
   "cell_type": "code",
   "execution_count": 45,
   "metadata": {
    "tags": []
   },
   "outputs": [
    {
     "name": "stdout",
     "output_type": "stream",
     "text": [
      "CPU times: user 2 µs, sys: 1 µs, total: 3 µs\n",
      "Wall time: 6.2 µs\n"
     ]
    }
   ],
   "source": [
    "%%time\n",
    "# your code here\n",
    "..."
   ]
  },
  {
   "cell_type": "code",
   "execution_count": 46,
   "metadata": {
    "tags": []
   },
   "outputs": [],
   "source": [
    "# your code here\n",
    "..."
   ]
  },
  {
   "cell_type": "code",
   "execution_count": 47,
   "metadata": {
    "tags": []
   },
   "outputs": [
    {
     "name": "stdout",
     "output_type": "stream",
     "text": [
      "CPU times: user 2 µs, sys: 1 µs, total: 3 µs\n",
      "Wall time: 5.96 µs\n"
     ]
    }
   ],
   "source": [
    "%%time \n",
    "# your code here\n",
    "..."
   ]
  },
  {
   "cell_type": "markdown",
   "metadata": {},
   "source": [
    "<div class='exercise-r'>\n",
    "\n",
    "**2.3.2**  Plot your model's training accuracy and validation accuracy as a function of epochs.\n",
    "\n",
    "\n",
    "\n",
    "\n",
    "</div>"
   ]
  },
  {
   "cell_type": "code",
   "execution_count": 48,
   "metadata": {
    "tags": []
   },
   "outputs": [],
   "source": [
    "# your code here\n",
    "..."
   ]
  },
  {
   "cell_type": "markdown",
   "metadata": {},
   "source": [
    "<div class='exercise-r'>\n",
    "\n",
    "**2.3.3**  In a few sentences, describe the various approaches you have taken to improve the performance of your regularized model in 2.3.1 as well as any observations you might have regarding your training and Kaggle results.\n",
    "\n",
    "\n",
    "</div>"
   ]
  },
  {
   "cell_type": "markdown",
   "metadata": {},
   "source": [
    "_Type your answer here, replacing this text._"
   ]
  },
  {
   "cell_type": "markdown",
   "metadata": {},
   "source": [
    "<div class='exercise-r'>\n",
    "\n",
    "**2.3.4**  Generate your test-set class predictions using your regularized model. Save those predictions to a `.csv` formatted file. Submit that `.csv` file [to the CS109B Kaggle Competition](#part2kaggle) for leaderboard scoring. **IMPORTANT:** For Kaggle to accept and score your submitted `.csv` file, it MUST contain 2 columns. The first column must be named `\"Id\"` and needs to contain the test observation index numbers corresponding to each of your 2,000 predictions (index starting at `0`), the second column must be named `\"Category\"` and needs to contain your class predictions (i.e. `0` or `1`) for each corresponding test observation index location. Both columns should contain integer data types.\n",
    "\n",
    "\n",
    "\n",
    "\n",
    "</div>"
   ]
  },
  {
   "cell_type": "code",
   "execution_count": 49,
   "metadata": {
    "tags": []
   },
   "outputs": [],
   "source": [
    "# your code here\n",
    "..."
   ]
  },
  {
   "cell_type": "markdown",
   "metadata": {},
   "source": [
    "<div class='exercise-r'>\n",
    "\n",
    "**2.3.5**  **Specify your Kaggle name that you have used on the leaderboard**. We CANNOT give you credit without this.\n",
    "\n",
    "</div>"
   ]
  },
  {
   "cell_type": "markdown",
   "metadata": {},
   "source": [
    "_Type your answer here, replacing this text._"
   ]
  },
  {
   "cell_type": "markdown",
   "metadata": {},
   "source": [
    "<!-- BEGIN QUESTION -->\n",
    "\n",
    "<div class='exercise-r'><b>2.4 Wrap-up</b></div>"
   ]
  },
  {
   "cell_type": "markdown",
   "metadata": {},
   "source": [
    "* In a few sentences, please describe the aspect(s) of the assignment you found most challenging. This could be conceptual and/or related to coding and implementation.\n",
    "\n",
    "* How many hours did you spend working on this assignment? Store this as an int or float in `hours_spent_on_hw`. If you worked on the project in a group, report the *average* time spent per person."
   ]
  },
  {
   "cell_type": "markdown",
   "metadata": {},
   "source": [
    "_Type your answer here, replacing this text._"
   ]
  },
  {
   "cell_type": "code",
   "execution_count": 50,
   "metadata": {
    "tags": []
   },
   "outputs": [],
   "source": [
    "hours_spent_on_hw = ..."
   ]
  },
  {
   "cell_type": "code",
   "execution_count": 51,
   "metadata": {
    "deletable": false,
    "editable": false
   },
   "outputs": [
    {
     "data": {
      "text/html": [
       "<p><strong style='color: red;'><pre style='display: inline;'>q2.4</pre> results:</strong></p><p><strong><pre style='display: inline;'>q2.4 - 1</pre> result:</strong></p><pre>    Trying:\n",
       "        assert float(hours_spent_on_hw),\\\n",
       "            \"Please select a time in hours (int or float) to specify how long you spent on this assignment.\"\n",
       "    Expecting nothing\n",
       "    **********************************************************************\n",
       "    Line 1, in q2.4 0\n",
       "    Failed example:\n",
       "        assert float(hours_spent_on_hw),\\\n",
       "            \"Please select a time in hours (int or float) to specify how long you spent on this assignment.\"\n",
       "    Exception raised:\n",
       "        Traceback (most recent call last):\n",
       "          File \"/opt/anaconda3/lib/python3.9/doctest.py\", line 1334, in __run\n",
       "            exec(compile(example.source, filename, \"single\",\n",
       "          File \"<doctest q2.4 0[0]>\", line 1, in <module>\n",
       "            assert float(hours_spent_on_hw),\\\n",
       "        TypeError: float() argument must be a string or a number, not 'ellipsis'\n",
       "</pre>"
      ],
      "text/plain": [
       "q2.4 results:\n",
       "    q2.4 - 1 result:\n",
       "        Trying:\n",
       "            assert float(hours_spent_on_hw),\\\n",
       "                \"Please select a time in hours (int or float) to specify how long you spent on this assignment.\"\n",
       "        Expecting nothing\n",
       "        **********************************************************************\n",
       "        Line 1, in q2.4 0\n",
       "        Failed example:\n",
       "            assert float(hours_spent_on_hw),\\\n",
       "                \"Please select a time in hours (int or float) to specify how long you spent on this assignment.\"\n",
       "        Exception raised:\n",
       "            Traceback (most recent call last):\n",
       "              File \"/opt/anaconda3/lib/python3.9/doctest.py\", line 1334, in __run\n",
       "                exec(compile(example.source, filename, \"single\",\n",
       "              File \"<doctest q2.4 0[0]>\", line 1, in <module>\n",
       "                assert float(hours_spent_on_hw),\\\n",
       "            TypeError: float() argument must be a string or a number, not 'ellipsis'"
      ]
     },
     "execution_count": 51,
     "metadata": {},
     "output_type": "execute_result"
    }
   ],
   "source": [
    "grader.check(\"q2.4\")"
   ]
  },
  {
   "cell_type": "code",
   "execution_count": 52,
   "metadata": {},
   "outputs": [
    {
     "name": "stdout",
     "output_type": "stream",
     "text": [
      "It took 2.37 minutes for this notebook to run\n"
     ]
    }
   ],
   "source": [
    "time_end = time.time()\n",
    "print(f\"It took {(time_end - time_start)/60:.2f} minutes for this notebook to run\")"
   ]
  },
  {
   "cell_type": "markdown",
   "metadata": {},
   "source": [
    "**This concludes HW3. Thank you!**"
   ]
  },
  {
   "cell_type": "code",
   "execution_count": null,
   "metadata": {},
   "outputs": [],
   "source": []
  }
 ],
 "metadata": {
  "kernelspec": {
   "display_name": "Python 3 (ipykernel)",
   "language": "python",
   "name": "python3"
  },
  "language_info": {
   "codemirror_mode": {
    "name": "ipython",
    "version": 3
   },
   "file_extension": ".py",
   "mimetype": "text/x-python",
   "name": "python",
   "nbconvert_exporter": "python",
   "pygments_lexer": "ipython3",
   "version": "3.9.15"
  },
  "otter": {
   "OK_FORMAT": true,
   "tests": {
    "q1.1.1": {
     "name": "q1.1.1",
     "points": null,
     "suites": [
      {
       "cases": [
        {
         "code": ">>> assert sorted(df_flights.DELAY_OR_NOT.unique()) == [0, 1], \"Your new 'DELAY_OR_NOT' column should be a binary response variable\"\n>>> assert df_flights[\"DELAY_OR_NOT\"].value_counts().sort_index()[0] == 5069, \"Check how you are creating your 'DELAYED_OR_NOT' variable\" \n",
         "hidden": false,
         "locked": false
        }
       ],
       "scored": true,
       "setup": "",
       "teardown": "",
       "type": "doctest"
      }
     ]
    },
    "q1.3.1": {
     "name": "q1.3.1",
     "points": null,
     "suites": [
      {
       "cases": [
        {
         "code": ">>> assert len(y_train_nn) == 8000, \"Your NN predictions should match the length of the training data\"\n>>> assert sorted(np.unique(y_train_nn)) == [0, 1], \"Your new `y_train_nn` should consist of binary predictions\"\n",
         "hidden": false,
         "locked": false
        }
       ],
       "scored": true,
       "setup": "",
       "teardown": "",
       "type": "doctest"
      }
     ]
    },
    "q2.4": {
     "name": "q2.4",
     "points": null,
     "suites": [
      {
       "cases": [
        {
         "code": ">>> assert float(hours_spent_on_hw),\\\n...     \"Please select a time in hours (int or float) to specify how long you spent on this assignment.\"\n",
         "hidden": false,
         "locked": false
        }
       ],
       "scored": true,
       "setup": "",
       "teardown": "",
       "type": "doctest"
      }
     ]
    }
   }
  }
 },
 "nbformat": 4,
 "nbformat_minor": 4
}
